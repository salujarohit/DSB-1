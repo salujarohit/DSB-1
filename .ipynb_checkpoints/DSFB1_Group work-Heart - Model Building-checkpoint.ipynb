{
 "cells": [
  {
   "cell_type": "markdown",
   "metadata": {},
   "source": [
    "# Group work\n"
   ]
  },
  {
   "cell_type": "markdown",
   "metadata": {},
   "source": [
    "\n"
   ]
  },
  {
   "cell_type": "markdown",
   "metadata": {},
   "source": [
    "### Importing libraries\n"
   ]
  },
  {
   "cell_type": "code",
   "execution_count": 348,
   "metadata": {},
   "outputs": [],
   "source": [
    "%matplotlib inline\n",
    "import pandas as pd\n",
    "import numpy as np\n",
    "import itertools\n",
    "import time\n",
    "import statsmodels.api as sm\n",
    "import matplotlib.pyplot as plt\n",
    "from sklearn import preprocessing\n",
    "from sklearn.linear_model import LogisticRegression\n",
    "import seaborn as sns; sns.set()\n",
    "from sklearn.grid_search import GridSearchCV\n",
    "from sklearn.svm import SVC\n",
    "from sklearn.metrics import accuracy_score\n",
    "from sklearn.tree import DecisionTreeClassifier #Decision Tree algorithm\n",
    "from sklearn.metrics import confusion_matrix\n",
    "\n",
    "\n",
    "\n",
    "\n",
    "\n",
    "from sklearn.preprocessing import scale \n",
    "from sklearn.model_selection import train_test_split\n",
    "from sklearn.linear_model import Ridge, RidgeCV, Lasso, LassoCV\n",
    "from sklearn.metrics import mean_squared_error\n",
    "\n",
    "import pandas as pd #data frames (for storing data)\n",
    "import numpy as np #scientific computing\n",
    "import itertools\n",
    "\n",
    "#matplotlib for plotting\n",
    "import matplotlib.pyplot as plt\n",
    "from matplotlib import gridspec\n",
    "import matplotlib.ticker as mtick #for percentage ticks\n",
    "\n"
   ]
  },
  {
   "cell_type": "markdown",
   "metadata": {},
   "source": [
    "### Importing data"
   ]
  },
  {
   "cell_type": "code",
   "execution_count": 16,
   "metadata": {},
   "outputs": [
    {
     "data": {
      "text/html": [
       "<style  type=\"text/css\" >\n",
       "</style>  \n",
       "<table id=\"T_b1165986_2c5a_11e9_9e12_acde48001122\" > \n",
       "<thead>    <tr> \n",
       "        <th class=\"blank level0\" ></th> \n",
       "        <th class=\"col_heading level0 col0\" >age</th> \n",
       "        <th class=\"col_heading level0 col1\" >sex</th> \n",
       "        <th class=\"col_heading level0 col2\" >cp</th> \n",
       "        <th class=\"col_heading level0 col3\" >trestbps</th> \n",
       "        <th class=\"col_heading level0 col4\" >chol</th> \n",
       "        <th class=\"col_heading level0 col5\" >fbs</th> \n",
       "        <th class=\"col_heading level0 col6\" >restecg</th> \n",
       "        <th class=\"col_heading level0 col7\" >thalach</th> \n",
       "        <th class=\"col_heading level0 col8\" >exang</th> \n",
       "        <th class=\"col_heading level0 col9\" >oldpeak</th> \n",
       "        <th class=\"col_heading level0 col10\" >slope</th> \n",
       "        <th class=\"col_heading level0 col11\" >ca</th> \n",
       "        <th class=\"col_heading level0 col12\" >thal</th> \n",
       "        <th class=\"col_heading level0 col13\" >target</th> \n",
       "    </tr></thead> \n",
       "<tbody>    <tr> \n",
       "        <th id=\"T_b1165986_2c5a_11e9_9e12_acde48001122level0_row0\" class=\"row_heading level0 row0\" >0</th> \n",
       "        <td id=\"T_b1165986_2c5a_11e9_9e12_acde48001122row0_col0\" class=\"data row0 col0\" >63</td> \n",
       "        <td id=\"T_b1165986_2c5a_11e9_9e12_acde48001122row0_col1\" class=\"data row0 col1\" >1</td> \n",
       "        <td id=\"T_b1165986_2c5a_11e9_9e12_acde48001122row0_col2\" class=\"data row0 col2\" >3</td> \n",
       "        <td id=\"T_b1165986_2c5a_11e9_9e12_acde48001122row0_col3\" class=\"data row0 col3\" >145</td> \n",
       "        <td id=\"T_b1165986_2c5a_11e9_9e12_acde48001122row0_col4\" class=\"data row0 col4\" >233</td> \n",
       "        <td id=\"T_b1165986_2c5a_11e9_9e12_acde48001122row0_col5\" class=\"data row0 col5\" >1</td> \n",
       "        <td id=\"T_b1165986_2c5a_11e9_9e12_acde48001122row0_col6\" class=\"data row0 col6\" >0</td> \n",
       "        <td id=\"T_b1165986_2c5a_11e9_9e12_acde48001122row0_col7\" class=\"data row0 col7\" >150</td> \n",
       "        <td id=\"T_b1165986_2c5a_11e9_9e12_acde48001122row0_col8\" class=\"data row0 col8\" >0</td> \n",
       "        <td id=\"T_b1165986_2c5a_11e9_9e12_acde48001122row0_col9\" class=\"data row0 col9\" >2.3</td> \n",
       "        <td id=\"T_b1165986_2c5a_11e9_9e12_acde48001122row0_col10\" class=\"data row0 col10\" >0</td> \n",
       "        <td id=\"T_b1165986_2c5a_11e9_9e12_acde48001122row0_col11\" class=\"data row0 col11\" >0</td> \n",
       "        <td id=\"T_b1165986_2c5a_11e9_9e12_acde48001122row0_col12\" class=\"data row0 col12\" >1</td> \n",
       "        <td id=\"T_b1165986_2c5a_11e9_9e12_acde48001122row0_col13\" class=\"data row0 col13\" >1</td> \n",
       "    </tr>    <tr> \n",
       "        <th id=\"T_b1165986_2c5a_11e9_9e12_acde48001122level0_row1\" class=\"row_heading level0 row1\" >1</th> \n",
       "        <td id=\"T_b1165986_2c5a_11e9_9e12_acde48001122row1_col0\" class=\"data row1 col0\" >37</td> \n",
       "        <td id=\"T_b1165986_2c5a_11e9_9e12_acde48001122row1_col1\" class=\"data row1 col1\" >1</td> \n",
       "        <td id=\"T_b1165986_2c5a_11e9_9e12_acde48001122row1_col2\" class=\"data row1 col2\" >2</td> \n",
       "        <td id=\"T_b1165986_2c5a_11e9_9e12_acde48001122row1_col3\" class=\"data row1 col3\" >130</td> \n",
       "        <td id=\"T_b1165986_2c5a_11e9_9e12_acde48001122row1_col4\" class=\"data row1 col4\" >250</td> \n",
       "        <td id=\"T_b1165986_2c5a_11e9_9e12_acde48001122row1_col5\" class=\"data row1 col5\" >0</td> \n",
       "        <td id=\"T_b1165986_2c5a_11e9_9e12_acde48001122row1_col6\" class=\"data row1 col6\" >1</td> \n",
       "        <td id=\"T_b1165986_2c5a_11e9_9e12_acde48001122row1_col7\" class=\"data row1 col7\" >187</td> \n",
       "        <td id=\"T_b1165986_2c5a_11e9_9e12_acde48001122row1_col8\" class=\"data row1 col8\" >0</td> \n",
       "        <td id=\"T_b1165986_2c5a_11e9_9e12_acde48001122row1_col9\" class=\"data row1 col9\" >3.5</td> \n",
       "        <td id=\"T_b1165986_2c5a_11e9_9e12_acde48001122row1_col10\" class=\"data row1 col10\" >0</td> \n",
       "        <td id=\"T_b1165986_2c5a_11e9_9e12_acde48001122row1_col11\" class=\"data row1 col11\" >0</td> \n",
       "        <td id=\"T_b1165986_2c5a_11e9_9e12_acde48001122row1_col12\" class=\"data row1 col12\" >2</td> \n",
       "        <td id=\"T_b1165986_2c5a_11e9_9e12_acde48001122row1_col13\" class=\"data row1 col13\" >1</td> \n",
       "    </tr>    <tr> \n",
       "        <th id=\"T_b1165986_2c5a_11e9_9e12_acde48001122level0_row2\" class=\"row_heading level0 row2\" >2</th> \n",
       "        <td id=\"T_b1165986_2c5a_11e9_9e12_acde48001122row2_col0\" class=\"data row2 col0\" >41</td> \n",
       "        <td id=\"T_b1165986_2c5a_11e9_9e12_acde48001122row2_col1\" class=\"data row2 col1\" >0</td> \n",
       "        <td id=\"T_b1165986_2c5a_11e9_9e12_acde48001122row2_col2\" class=\"data row2 col2\" >1</td> \n",
       "        <td id=\"T_b1165986_2c5a_11e9_9e12_acde48001122row2_col3\" class=\"data row2 col3\" >130</td> \n",
       "        <td id=\"T_b1165986_2c5a_11e9_9e12_acde48001122row2_col4\" class=\"data row2 col4\" >204</td> \n",
       "        <td id=\"T_b1165986_2c5a_11e9_9e12_acde48001122row2_col5\" class=\"data row2 col5\" >0</td> \n",
       "        <td id=\"T_b1165986_2c5a_11e9_9e12_acde48001122row2_col6\" class=\"data row2 col6\" >0</td> \n",
       "        <td id=\"T_b1165986_2c5a_11e9_9e12_acde48001122row2_col7\" class=\"data row2 col7\" >172</td> \n",
       "        <td id=\"T_b1165986_2c5a_11e9_9e12_acde48001122row2_col8\" class=\"data row2 col8\" >0</td> \n",
       "        <td id=\"T_b1165986_2c5a_11e9_9e12_acde48001122row2_col9\" class=\"data row2 col9\" >1.4</td> \n",
       "        <td id=\"T_b1165986_2c5a_11e9_9e12_acde48001122row2_col10\" class=\"data row2 col10\" >2</td> \n",
       "        <td id=\"T_b1165986_2c5a_11e9_9e12_acde48001122row2_col11\" class=\"data row2 col11\" >0</td> \n",
       "        <td id=\"T_b1165986_2c5a_11e9_9e12_acde48001122row2_col12\" class=\"data row2 col12\" >2</td> \n",
       "        <td id=\"T_b1165986_2c5a_11e9_9e12_acde48001122row2_col13\" class=\"data row2 col13\" >1</td> \n",
       "    </tr>    <tr> \n",
       "        <th id=\"T_b1165986_2c5a_11e9_9e12_acde48001122level0_row3\" class=\"row_heading level0 row3\" >3</th> \n",
       "        <td id=\"T_b1165986_2c5a_11e9_9e12_acde48001122row3_col0\" class=\"data row3 col0\" >56</td> \n",
       "        <td id=\"T_b1165986_2c5a_11e9_9e12_acde48001122row3_col1\" class=\"data row3 col1\" >1</td> \n",
       "        <td id=\"T_b1165986_2c5a_11e9_9e12_acde48001122row3_col2\" class=\"data row3 col2\" >1</td> \n",
       "        <td id=\"T_b1165986_2c5a_11e9_9e12_acde48001122row3_col3\" class=\"data row3 col3\" >120</td> \n",
       "        <td id=\"T_b1165986_2c5a_11e9_9e12_acde48001122row3_col4\" class=\"data row3 col4\" >236</td> \n",
       "        <td id=\"T_b1165986_2c5a_11e9_9e12_acde48001122row3_col5\" class=\"data row3 col5\" >0</td> \n",
       "        <td id=\"T_b1165986_2c5a_11e9_9e12_acde48001122row3_col6\" class=\"data row3 col6\" >1</td> \n",
       "        <td id=\"T_b1165986_2c5a_11e9_9e12_acde48001122row3_col7\" class=\"data row3 col7\" >178</td> \n",
       "        <td id=\"T_b1165986_2c5a_11e9_9e12_acde48001122row3_col8\" class=\"data row3 col8\" >0</td> \n",
       "        <td id=\"T_b1165986_2c5a_11e9_9e12_acde48001122row3_col9\" class=\"data row3 col9\" >0.8</td> \n",
       "        <td id=\"T_b1165986_2c5a_11e9_9e12_acde48001122row3_col10\" class=\"data row3 col10\" >2</td> \n",
       "        <td id=\"T_b1165986_2c5a_11e9_9e12_acde48001122row3_col11\" class=\"data row3 col11\" >0</td> \n",
       "        <td id=\"T_b1165986_2c5a_11e9_9e12_acde48001122row3_col12\" class=\"data row3 col12\" >2</td> \n",
       "        <td id=\"T_b1165986_2c5a_11e9_9e12_acde48001122row3_col13\" class=\"data row3 col13\" >1</td> \n",
       "    </tr>    <tr> \n",
       "        <th id=\"T_b1165986_2c5a_11e9_9e12_acde48001122level0_row4\" class=\"row_heading level0 row4\" >4</th> \n",
       "        <td id=\"T_b1165986_2c5a_11e9_9e12_acde48001122row4_col0\" class=\"data row4 col0\" >57</td> \n",
       "        <td id=\"T_b1165986_2c5a_11e9_9e12_acde48001122row4_col1\" class=\"data row4 col1\" >0</td> \n",
       "        <td id=\"T_b1165986_2c5a_11e9_9e12_acde48001122row4_col2\" class=\"data row4 col2\" >0</td> \n",
       "        <td id=\"T_b1165986_2c5a_11e9_9e12_acde48001122row4_col3\" class=\"data row4 col3\" >120</td> \n",
       "        <td id=\"T_b1165986_2c5a_11e9_9e12_acde48001122row4_col4\" class=\"data row4 col4\" >354</td> \n",
       "        <td id=\"T_b1165986_2c5a_11e9_9e12_acde48001122row4_col5\" class=\"data row4 col5\" >0</td> \n",
       "        <td id=\"T_b1165986_2c5a_11e9_9e12_acde48001122row4_col6\" class=\"data row4 col6\" >1</td> \n",
       "        <td id=\"T_b1165986_2c5a_11e9_9e12_acde48001122row4_col7\" class=\"data row4 col7\" >163</td> \n",
       "        <td id=\"T_b1165986_2c5a_11e9_9e12_acde48001122row4_col8\" class=\"data row4 col8\" >1</td> \n",
       "        <td id=\"T_b1165986_2c5a_11e9_9e12_acde48001122row4_col9\" class=\"data row4 col9\" >0.6</td> \n",
       "        <td id=\"T_b1165986_2c5a_11e9_9e12_acde48001122row4_col10\" class=\"data row4 col10\" >2</td> \n",
       "        <td id=\"T_b1165986_2c5a_11e9_9e12_acde48001122row4_col11\" class=\"data row4 col11\" >0</td> \n",
       "        <td id=\"T_b1165986_2c5a_11e9_9e12_acde48001122row4_col12\" class=\"data row4 col12\" >2</td> \n",
       "        <td id=\"T_b1165986_2c5a_11e9_9e12_acde48001122row4_col13\" class=\"data row4 col13\" >1</td> \n",
       "    </tr></tbody> \n",
       "</table> "
      ],
      "text/plain": [
       "<pandas.io.formats.style.Styler at 0x1c1f96a080>"
      ]
     },
     "execution_count": 16,
     "metadata": {},
     "output_type": "execute_result"
    }
   ],
   "source": [
    "data = pd.read_csv('heart.csv')\n",
    "data.head().style #Call the head() function to see how the dataset looks (.style() shows all columns)"
   ]
  },
  {
   "cell_type": "markdown",
   "metadata": {},
   "source": [
    "## Explanatory Data Analysis\n"
   ]
  },
  {
   "cell_type": "code",
   "execution_count": 17,
   "metadata": {
    "scrolled": true
   },
   "outputs": [
    {
     "name": "stdout",
     "output_type": "stream",
     "text": [
      "<class 'pandas.core.frame.DataFrame'>\n",
      "RangeIndex: 303 entries, 0 to 302\n",
      "Data columns (total 14 columns):\n",
      "age         303 non-null int64\n",
      "sex         303 non-null int64\n",
      "cp          303 non-null int64\n",
      "trestbps    303 non-null int64\n",
      "chol        303 non-null int64\n",
      "fbs         303 non-null int64\n",
      "restecg     303 non-null int64\n",
      "thalach     303 non-null int64\n",
      "exang       303 non-null int64\n",
      "oldpeak     303 non-null float64\n",
      "slope       303 non-null int64\n",
      "ca          303 non-null int64\n",
      "thal        303 non-null int64\n",
      "target      303 non-null int64\n",
      "dtypes: float64(1), int64(13)\n",
      "memory usage: 33.2 KB\n"
     ]
    }
   ],
   "source": [
    "data.info()  #No NAs"
   ]
  },
  {
   "cell_type": "code",
   "execution_count": 18,
   "metadata": {},
   "outputs": [
    {
     "name": "stdout",
     "output_type": "stream",
     "text": [
      "Dimensions of original data: (303, 14)\n"
     ]
    }
   ],
   "source": [
    "# Print the dimensions of the original Hitters data (322 rows x 20 columns)\n",
    "print(\"Dimensions of original data:\", data.shape)\n",
    "# From herer it can be seen that the data set is big, 18207 rows and 89 columns!"
   ]
  },
  {
   "cell_type": "code",
   "execution_count": 375,
   "metadata": {},
   "outputs": [
    {
     "data": {
      "text/plain": [
       "165"
      ]
     },
     "execution_count": 375,
     "metadata": {},
     "output_type": "execute_result"
    }
   ],
   "source": [
    "(data['target'] == 1).sum()"
   ]
  },
  {
   "cell_type": "code",
   "execution_count": 376,
   "metadata": {},
   "outputs": [
    {
     "data": {
      "text/plain": [
       "138"
      ]
     },
     "execution_count": 376,
     "metadata": {},
     "output_type": "execute_result"
    }
   ],
   "source": [
    "(data['target'] == 0).sum()"
   ]
  },
  {
   "cell_type": "markdown",
   "metadata": {},
   "source": [
    "### Data is not Imbalanced "
   ]
  },
  {
   "cell_type": "markdown",
   "metadata": {},
   "source": [
    "## Visualizing the data"
   ]
  },
  {
   "cell_type": "code",
   "execution_count": 19,
   "metadata": {},
   "outputs": [
    {
     "data": {
      "image/png": "[encoded data removed]",
      "text/plain": [
       "<Figure size 576x360 with 2 Axes>"
      ]
     },
     "metadata": {
      "needs_background": "light"
     },
     "output_type": "display_data"
    }
   ],
   "source": [
    "# plot response\n",
    "keys, counts = np.unique(data.target, return_counts=True)\n",
    "counts_norm = counts/counts.sum()\n",
    "\n",
    "fig = plt.figure(figsize=(8, 5)) #specify figure size\n",
    "gs = gridspec.GridSpec(1, 2, width_ratios=[2,1]) #specify relative size of left and right plot\n",
    "\n",
    "#Absolute values\n",
    "ax0 = plt.subplot(gs[0])\n",
    "ax0 = plt.bar(['No heart desease', 'Heart desease'], counts, color=['#1f77b4','#ff7f0e']) #left bar plot\n",
    "ax0 = plt.title('Absolute response distribution') \n",
    "ax0 = plt.ylabel('count')\n",
    "ax0 = plt.text(keys[0], counts[0]/2, counts[0]) #add text box with count of non-fraudulent cases\n",
    "ax0 = plt.text(keys[1], counts[1]/2, counts[1]) #add text box with count of fraudulent cases\n",
    "\n",
    "#Normalized values\n",
    "ax1 = plt.subplot(gs[1])\n",
    "ax1 = plt.bar(['Has heart desease'], [counts_norm[0]], label='0 (no)')\n",
    "ax1 = plt.bar(['Has heart desease'], [counts_norm[1]], bottom=counts_norm[0], label='1 (yes)')\n",
    "ax1 = plt.legend(bbox_to_anchor=(1, 1))\n",
    "ax1 = plt.title('Relative response distribution')\n",
    "ax1 = plt.ylabel('frequency')\n",
    "ax1 = plt.text(['Has heart desease'],counts_norm[0]/2, '{}%'.format((counts_norm[0]*100).round(1)))\n",
    "ax1 = plt.text(['Has heart desease'],(counts_norm[1]/2)+counts_norm[0], '{}%'.format((counts_norm[1]*100).round(1)))\n",
    "\n",
    "plt.tight_layout()\n",
    "plt.show()"
   ]
  },
  {
   "cell_type": "code",
   "execution_count": 20,
   "metadata": {},
   "outputs": [
    {
     "data": {
      "image/png": "[encoded data removed]",
      "text/plain": [
       "<Figure size 1080x360 with 1 Axes>"
      ]
     },
     "metadata": {
      "needs_background": "light"
     },
     "output_type": "display_data"
    }
   ],
   "source": [
    "pd.crosstab(data.age,data.target).plot(kind=\"bar\",figsize=(15,5),)\n",
    "heart_disease = ['No' , 'Yes']\n",
    "plt.title('Heart Disease Frequency for different age groups')\n",
    "plt.xlabel('Age')\n",
    "plt.ylabel('Frequency')\n",
    "plt.legend(heart_disease)\n",
    "plt.show()\n"
   ]
  },
  {
   "cell_type": "markdown",
   "metadata": {},
   "source": [
    "## Data Preprocessing "
   ]
  },
  {
   "cell_type": "code",
   "execution_count": 135,
   "metadata": {},
   "outputs": [],
   "source": [
    "X, y = data.loc[:, data.columns != 'target'], data['target']"
   ]
  },
  {
   "cell_type": "code",
   "execution_count": 136,
   "metadata": {},
   "outputs": [
    {
     "data": {
      "text/html": [
       "<div>\n",
       "<style scoped>\n",
       "    .dataframe tbody tr th:only-of-type {\n",
       "        vertical-align: middle;\n",
       "    }\n",
       "\n",
       "    .dataframe tbody tr th {\n",
       "        vertical-align: top;\n",
       "    }\n",
       "\n",
       "    .dataframe thead th {\n",
       "        text-align: right;\n",
       "    }\n",
       "</style>\n",
       "<table border=\"1\" class=\"dataframe\">\n",
       "  <thead>\n",
       "    <tr style=\"text-align: right;\">\n",
       "      <th></th>\n",
       "      <th>age</th>\n",
       "      <th>sex</th>\n",
       "      <th>cp</th>\n",
       "      <th>trestbps</th>\n",
       "      <th>chol</th>\n",
       "      <th>fbs</th>\n",
       "      <th>restecg</th>\n",
       "      <th>thalach</th>\n",
       "      <th>exang</th>\n",
       "      <th>oldpeak</th>\n",
       "      <th>slope</th>\n",
       "      <th>ca</th>\n",
       "      <th>thal</th>\n",
       "    </tr>\n",
       "  </thead>\n",
       "  <tbody>\n",
       "    <tr>\n",
       "      <th>0</th>\n",
       "      <td>63</td>\n",
       "      <td>1</td>\n",
       "      <td>3</td>\n",
       "      <td>145</td>\n",
       "      <td>233</td>\n",
       "      <td>1</td>\n",
       "      <td>0</td>\n",
       "      <td>150</td>\n",
       "      <td>0</td>\n",
       "      <td>2.3</td>\n",
       "      <td>0</td>\n",
       "      <td>0</td>\n",
       "      <td>1</td>\n",
       "    </tr>\n",
       "    <tr>\n",
       "      <th>1</th>\n",
       "      <td>37</td>\n",
       "      <td>1</td>\n",
       "      <td>2</td>\n",
       "      <td>130</td>\n",
       "      <td>250</td>\n",
       "      <td>0</td>\n",
       "      <td>1</td>\n",
       "      <td>187</td>\n",
       "      <td>0</td>\n",
       "      <td>3.5</td>\n",
       "      <td>0</td>\n",
       "      <td>0</td>\n",
       "      <td>2</td>\n",
       "    </tr>\n",
       "    <tr>\n",
       "      <th>2</th>\n",
       "      <td>41</td>\n",
       "      <td>0</td>\n",
       "      <td>1</td>\n",
       "      <td>130</td>\n",
       "      <td>204</td>\n",
       "      <td>0</td>\n",
       "      <td>0</td>\n",
       "      <td>172</td>\n",
       "      <td>0</td>\n",
       "      <td>1.4</td>\n",
       "      <td>2</td>\n",
       "      <td>0</td>\n",
       "      <td>2</td>\n",
       "    </tr>\n",
       "    <tr>\n",
       "      <th>3</th>\n",
       "      <td>56</td>\n",
       "      <td>1</td>\n",
       "      <td>1</td>\n",
       "      <td>120</td>\n",
       "      <td>236</td>\n",
       "      <td>0</td>\n",
       "      <td>1</td>\n",
       "      <td>178</td>\n",
       "      <td>0</td>\n",
       "      <td>0.8</td>\n",
       "      <td>2</td>\n",
       "      <td>0</td>\n",
       "      <td>2</td>\n",
       "    </tr>\n",
       "    <tr>\n",
       "      <th>4</th>\n",
       "      <td>57</td>\n",
       "      <td>0</td>\n",
       "      <td>0</td>\n",
       "      <td>120</td>\n",
       "      <td>354</td>\n",
       "      <td>0</td>\n",
       "      <td>1</td>\n",
       "      <td>163</td>\n",
       "      <td>1</td>\n",
       "      <td>0.6</td>\n",
       "      <td>2</td>\n",
       "      <td>0</td>\n",
       "      <td>2</td>\n",
       "    </tr>\n",
       "  </tbody>\n",
       "</table>\n",
       "</div>"
      ],
      "text/plain": [
       "   age  sex  cp  trestbps  chol  fbs  restecg  thalach  exang  oldpeak  slope  \\\n",
       "0   63    1   3       145   233    1        0      150      0      2.3      0   \n",
       "1   37    1   2       130   250    0        1      187      0      3.5      0   \n",
       "2   41    0   1       130   204    0        0      172      0      1.4      2   \n",
       "3   56    1   1       120   236    0        1      178      0      0.8      2   \n",
       "4   57    0   0       120   354    0        1      163      1      0.6      2   \n",
       "\n",
       "   ca  thal  \n",
       "0   0     1  \n",
       "1   0     2  \n",
       "2   0     2  \n",
       "3   0     2  \n",
       "4   0     2  "
      ]
     },
     "execution_count": 136,
     "metadata": {},
     "output_type": "execute_result"
    }
   ],
   "source": [
    "X.head()\n"
   ]
  },
  {
   "cell_type": "code",
   "execution_count": 137,
   "metadata": {},
   "outputs": [
    {
     "data": {
      "text/plain": [
       "0    1\n",
       "1    1\n",
       "2    1\n",
       "3    1\n",
       "4    1\n",
       "Name: target, dtype: int64"
      ]
     },
     "execution_count": 137,
     "metadata": {},
     "output_type": "execute_result"
    }
   ],
   "source": [
    "y.head()"
   ]
  },
  {
   "cell_type": "markdown",
   "metadata": {},
   "source": [
    "### Feature Scaling"
   ]
  },
  {
   "cell_type": "code",
   "execution_count": 138,
   "metadata": {},
   "outputs": [],
   "source": [
    "#Normalizing the data\n",
    "scaled_X = preprocessing.quantile_transform(X)\n",
    "\n",
    "pd_scaled_X  = pd.DataFrame(scaled_X)"
   ]
  },
  {
   "cell_type": "code",
   "execution_count": 378,
   "metadata": {},
   "outputs": [
    {
     "data": {
      "text/html": [
       "<div>\n",
       "<style scoped>\n",
       "    .dataframe tbody tr th:only-of-type {\n",
       "        vertical-align: middle;\n",
       "    }\n",
       "\n",
       "    .dataframe tbody tr th {\n",
       "        vertical-align: top;\n",
       "    }\n",
       "\n",
       "    .dataframe thead th {\n",
       "        text-align: right;\n",
       "    }\n",
       "</style>\n",
       "<table border=\"1\" class=\"dataframe\">\n",
       "  <thead>\n",
       "    <tr style=\"text-align: right;\">\n",
       "      <th></th>\n",
       "      <th>0</th>\n",
       "      <th>1</th>\n",
       "      <th>2</th>\n",
       "      <th>3</th>\n",
       "      <th>4</th>\n",
       "      <th>5</th>\n",
       "      <th>6</th>\n",
       "      <th>7</th>\n",
       "      <th>8</th>\n",
       "      <th>9</th>\n",
       "      <th>10</th>\n",
       "      <th>11</th>\n",
       "      <th>12</th>\n",
       "    </tr>\n",
       "  </thead>\n",
       "  <tbody>\n",
       "    <tr>\n",
       "      <th>0</th>\n",
       "      <td>0.817818</td>\n",
       "      <td>9.999999e-01</td>\n",
       "      <td>9.999999e-01</td>\n",
       "      <td>0.811311</td>\n",
       "      <td>0.428929</td>\n",
       "      <td>9.999999e-01</td>\n",
       "      <td>1.000000e-07</td>\n",
       "      <td>0.446947</td>\n",
       "      <td>1.000000e-07</td>\n",
       "      <td>0.855856</td>\n",
       "      <td>1.000000e-07</td>\n",
       "      <td>1.000000e-07</td>\n",
       "      <td>0.034535</td>\n",
       "    </tr>\n",
       "    <tr>\n",
       "      <th>1</th>\n",
       "      <td>0.025025</td>\n",
       "      <td>9.999999e-01</td>\n",
       "      <td>7.812813e-01</td>\n",
       "      <td>0.505005</td>\n",
       "      <td>0.579580</td>\n",
       "      <td>1.000000e-07</td>\n",
       "      <td>7.367367e-01</td>\n",
       "      <td>0.980132</td>\n",
       "      <td>1.000000e-07</td>\n",
       "      <td>0.956954</td>\n",
       "      <td>1.000000e-07</td>\n",
       "      <td>1.000000e-07</td>\n",
       "      <td>0.339339</td>\n",
       "    </tr>\n",
       "    <tr>\n",
       "      <th>2</th>\n",
       "      <td>0.077578</td>\n",
       "      <td>1.000000e-07</td>\n",
       "      <td>5.550551e-01</td>\n",
       "      <td>0.505005</td>\n",
       "      <td>0.197197</td>\n",
       "      <td>1.000000e-07</td>\n",
       "      <td>1.000000e-07</td>\n",
       "      <td>0.834334</td>\n",
       "      <td>1.000000e-07</td>\n",
       "      <td>0.682182</td>\n",
       "      <td>9.999999e-01</td>\n",
       "      <td>1.000000e-07</td>\n",
       "      <td>0.339339</td>\n",
       "    </tr>\n",
       "    <tr>\n",
       "      <th>3</th>\n",
       "      <td>0.519520</td>\n",
       "      <td>9.999999e-01</td>\n",
       "      <td>5.550551e-01</td>\n",
       "      <td>0.258258</td>\n",
       "      <td>0.466967</td>\n",
       "      <td>1.000000e-07</td>\n",
       "      <td>7.367367e-01</td>\n",
       "      <td>0.910911</td>\n",
       "      <td>1.000000e-07</td>\n",
       "      <td>0.516517</td>\n",
       "      <td>9.999999e-01</td>\n",
       "      <td>1.000000e-07</td>\n",
       "      <td>0.339339</td>\n",
       "    </tr>\n",
       "    <tr>\n",
       "      <th>4</th>\n",
       "      <td>0.566567</td>\n",
       "      <td>1.000000e-07</td>\n",
       "      <td>1.000000e-07</td>\n",
       "      <td>0.258258</td>\n",
       "      <td>0.980009</td>\n",
       "      <td>1.000000e-07</td>\n",
       "      <td>7.367367e-01</td>\n",
       "      <td>0.705205</td>\n",
       "      <td>9.999999e-01</td>\n",
       "      <td>0.468468</td>\n",
       "      <td>9.999999e-01</td>\n",
       "      <td>1.000000e-07</td>\n",
       "      <td>0.339339</td>\n",
       "    </tr>\n",
       "  </tbody>\n",
       "</table>\n",
       "</div>"
      ],
      "text/plain": [
       "         0             1             2         3         4             5   \\\n",
       "0  0.817818  9.999999e-01  9.999999e-01  0.811311  0.428929  9.999999e-01   \n",
       "1  0.025025  9.999999e-01  7.812813e-01  0.505005  0.579580  1.000000e-07   \n",
       "2  0.077578  1.000000e-07  5.550551e-01  0.505005  0.197197  1.000000e-07   \n",
       "3  0.519520  9.999999e-01  5.550551e-01  0.258258  0.466967  1.000000e-07   \n",
       "4  0.566567  1.000000e-07  1.000000e-07  0.258258  0.980009  1.000000e-07   \n",
       "\n",
       "             6         7             8         9             10            11  \\\n",
       "0  1.000000e-07  0.446947  1.000000e-07  0.855856  1.000000e-07  1.000000e-07   \n",
       "1  7.367367e-01  0.980132  1.000000e-07  0.956954  1.000000e-07  1.000000e-07   \n",
       "2  1.000000e-07  0.834334  1.000000e-07  0.682182  9.999999e-01  1.000000e-07   \n",
       "3  7.367367e-01  0.910911  1.000000e-07  0.516517  9.999999e-01  1.000000e-07   \n",
       "4  7.367367e-01  0.705205  9.999999e-01  0.468468  9.999999e-01  1.000000e-07   \n",
       "\n",
       "         12  \n",
       "0  0.034535  \n",
       "1  0.339339  \n",
       "2  0.339339  \n",
       "3  0.339339  \n",
       "4  0.339339  "
      ]
     },
     "execution_count": 378,
     "metadata": {},
     "output_type": "execute_result"
    }
   ],
   "source": [
    "pd_scaled_X.head()"
   ]
  },
  {
   "cell_type": "markdown",
   "metadata": {},
   "source": [
    "## Data Split"
   ]
  },
  {
   "cell_type": "code",
   "execution_count": 164,
   "metadata": {},
   "outputs": [],
   "source": [
    "X_train, X_test, y_train, y_test = train_test_split(X, y, test_size = 0.3 ) #split data 70:30"
   ]
  },
  {
   "cell_type": "code",
   "execution_count": 140,
   "metadata": {},
   "outputs": [
    {
     "data": {
      "image/png": "[encoded data removed]",
      "text/plain": [
       "<Figure size 432x288 with 1 Axes>"
      ]
     },
     "metadata": {
      "needs_background": "light"
     },
     "output_type": "display_data"
    }
   ],
   "source": [
    "train_dist = y_train.value_counts() / len(y_train) #normalize absolute count values for plotting\n",
    "test_dist = y_test.value_counts() / len(y_test)\n",
    "data_dist = data['target'].value_counts() / len(data)\n",
    "\n",
    "fig, ax = plt.subplots()\n",
    "\n",
    "ax.barh(['Test','Train','Data'], [test_dist[0], train_dist[0], data_dist[0]], color='#1f77b4', label='no heart disease')\n",
    "ax.barh(['Test','Train','Data'], [test_dist[1], train_dist[1], data_dist[1]], left=[test_dist[0], train_dist[0], data_dist[0]], color='#ff7f0e', label='heart disease')\n",
    "ax.set_title('Split visualization')\n",
    "ax.legend(loc='upper left')\n",
    "plt.xlabel('Proportion')\n",
    "plt.ylabel('Partition')\n",
    "\n",
    "#plot bar values\n",
    "for part, a, b in zip(['Test', 'Train','Data'], [test_dist[0], train_dist[0], data_dist[0]], [test_dist[1], train_dist[1], data_dist[1]]):\n",
    "    plt.text(a/2, part, str(np.round(a, 2)))\n",
    "    plt.text(b/2+a, part, str(np.round(b, 2)));"
   ]
  },
  {
   "cell_type": "markdown",
   "metadata": {},
   "source": [
    "The Distribution of  heart disease to no heart disease is similar in train and test is similar to the distribution in the original data set. Hence, the split was succesful. "
   ]
  },
  {
   "cell_type": "code",
   "execution_count": 244,
   "metadata": {},
   "outputs": [
    {
     "data": {
      "text/plain": [
       "Text(0.5,1,'Heat Map of Correlation Matrix')"
      ]
     },
     "execution_count": 244,
     "metadata": {},
     "output_type": "execute_result"
    },
    {
     "data": {
      "image/png": "[encoded data removed]",
      "text/plain": [
       "<Figure size 864x576 with 2 Axes>"
      ]
     },
     "metadata": {},
     "output_type": "display_data"
    }
   ],
   "source": [
    "corr_matrix = X_train.corr()\n",
    "corr_matrix_absolute = X_train.corr().abs()\n",
    "plt.figure(figsize=(12,8))\n",
    "\n",
    "sns.heatmap(corr_matrix, vmin=0, vmax=1)\n",
    "plt.title('Heat Map of Correlation Matrix', fontdict = {'fontsize' : 20})\n",
    "\n"
   ]
  },
  {
   "cell_type": "code",
   "execution_count": 243,
   "metadata": {},
   "outputs": [
    {
     "data": {
      "text/plain": [
       "Text(0.5,1,'Heat Map of Correlation Matrix with absolute values')"
      ]
     },
     "execution_count": 243,
     "metadata": {},
     "output_type": "execute_result"
    },
    {
     "data": {
      "image/png": "[encoded data removed]",
      "text/plain": [
       "<Figure size 864x576 with 2 Axes>"
      ]
     },
     "metadata": {},
     "output_type": "display_data"
    }
   ],
   "source": [
    "plt.figure(figsize=(12,8))\n",
    "sns.heatmap(corr_matrix_absolute, vmin=0, vmax=1)\n",
    "plt.title('Heat Map of Correlation Matrix with absolute values', fontdict = {'fontsize' : 20})\n"
   ]
  },
  {
   "cell_type": "markdown",
   "metadata": {},
   "source": [
    "### We can clearly see that there is not much correlation between the features."
   ]
  },
  {
   "cell_type": "markdown",
   "metadata": {},
   "source": [
    "## Buliding the Model "
   ]
  },
  {
   "cell_type": "markdown",
   "metadata": {},
   "source": [
    "### Logistic Regression"
   ]
  },
  {
   "cell_type": "code",
   "execution_count": 165,
   "metadata": {},
   "outputs": [],
   "source": [
    "logisticRegr = LogisticRegression()\n"
   ]
  },
  {
   "cell_type": "code",
   "execution_count": 166,
   "metadata": {},
   "outputs": [
    {
     "data": {
      "text/plain": [
       "LogisticRegression(C=1.0, class_weight=None, dual=False, fit_intercept=True,\n",
       "          intercept_scaling=1, max_iter=100, multi_class='ovr', n_jobs=1,\n",
       "          penalty='l2', random_state=None, solver='liblinear', tol=0.0001,\n",
       "          verbose=0, warm_start=False)"
      ]
     },
     "execution_count": 166,
     "metadata": {},
     "output_type": "execute_result"
    }
   ],
   "source": [
    "logisticRegr.fit(X_train, y_train)"
   ]
  },
  {
   "cell_type": "code",
   "execution_count": 167,
   "metadata": {},
   "outputs": [],
   "source": [
    "predictions_lr = logisticRegr.predict(X_test)"
   ]
  },
  {
   "cell_type": "code",
   "execution_count": 168,
   "metadata": {},
   "outputs": [
    {
     "name": "stdout",
     "output_type": "stream",
     "text": [
      "0.8351648351648352\n"
     ]
    }
   ],
   "source": [
    "score = logisticRegr.score(X_test, y_test)\n",
    "print(score)"
   ]
  },
  {
   "cell_type": "code",
   "execution_count": 169,
   "metadata": {},
   "outputs": [
    {
     "data": {
      "text/plain": [
       "array([0, 1, 1, 1, 1, 0, 1, 0, 0, 0, 1, 1, 0, 0, 1, 1, 0, 0, 0, 0, 0, 1,\n",
       "       1, 0, 1, 1, 1, 1, 1, 0, 1, 0, 0, 1, 1, 1, 0, 0, 1, 1, 1, 0, 0, 1,\n",
       "       1, 0, 1, 1, 1, 0, 1, 1, 1, 1, 1, 1, 0, 1, 0, 1, 1, 0, 0, 1, 1, 0,\n",
       "       1, 1, 1, 1, 0, 1, 1, 0, 0, 1, 0, 0, 1, 1, 0, 1, 1, 1, 1, 0, 1, 0,\n",
       "       1, 1, 1])"
      ]
     },
     "execution_count": 169,
     "metadata": {},
     "output_type": "execute_result"
    }
   ],
   "source": [
    "predictions_lr"
   ]
  },
  {
   "cell_type": "markdown",
   "metadata": {},
   "source": [
    "## Using Logistic Regression on Normalized Data"
   ]
  },
  {
   "cell_type": "code",
   "execution_count": 192,
   "metadata": {},
   "outputs": [],
   "source": [
    "X_train_nr, X_test_nr, y_train_nr, y_test_nr = train_test_split(pd_scaled_X, y, test_size = 0.3 ) #split data 70:30"
   ]
  },
  {
   "cell_type": "code",
   "execution_count": 377,
   "metadata": {},
   "outputs": [
    {
     "data": {
      "text/html": [
       "<div>\n",
       "<style scoped>\n",
       "    .dataframe tbody tr th:only-of-type {\n",
       "        vertical-align: middle;\n",
       "    }\n",
       "\n",
       "    .dataframe tbody tr th {\n",
       "        vertical-align: top;\n",
       "    }\n",
       "\n",
       "    .dataframe thead th {\n",
       "        text-align: right;\n",
       "    }\n",
       "</style>\n",
       "<table border=\"1\" class=\"dataframe\">\n",
       "  <thead>\n",
       "    <tr style=\"text-align: right;\">\n",
       "      <th></th>\n",
       "      <th>0</th>\n",
       "      <th>1</th>\n",
       "      <th>2</th>\n",
       "      <th>3</th>\n",
       "      <th>4</th>\n",
       "      <th>5</th>\n",
       "      <th>6</th>\n",
       "      <th>7</th>\n",
       "      <th>8</th>\n",
       "      <th>9</th>\n",
       "      <th>10</th>\n",
       "      <th>11</th>\n",
       "      <th>12</th>\n",
       "    </tr>\n",
       "  </thead>\n",
       "  <tbody>\n",
       "    <tr>\n",
       "      <th>0</th>\n",
       "      <td>0.817818</td>\n",
       "      <td>9.999999e-01</td>\n",
       "      <td>9.999999e-01</td>\n",
       "      <td>0.811311</td>\n",
       "      <td>0.428929</td>\n",
       "      <td>9.999999e-01</td>\n",
       "      <td>1.000000e-07</td>\n",
       "      <td>0.446947</td>\n",
       "      <td>1.000000e-07</td>\n",
       "      <td>0.855856</td>\n",
       "      <td>1.000000e-07</td>\n",
       "      <td>1.000000e-07</td>\n",
       "      <td>0.034535</td>\n",
       "    </tr>\n",
       "    <tr>\n",
       "      <th>1</th>\n",
       "      <td>0.025025</td>\n",
       "      <td>9.999999e-01</td>\n",
       "      <td>7.812813e-01</td>\n",
       "      <td>0.505005</td>\n",
       "      <td>0.579580</td>\n",
       "      <td>1.000000e-07</td>\n",
       "      <td>7.367367e-01</td>\n",
       "      <td>0.980132</td>\n",
       "      <td>1.000000e-07</td>\n",
       "      <td>0.956954</td>\n",
       "      <td>1.000000e-07</td>\n",
       "      <td>1.000000e-07</td>\n",
       "      <td>0.339339</td>\n",
       "    </tr>\n",
       "    <tr>\n",
       "      <th>2</th>\n",
       "      <td>0.077578</td>\n",
       "      <td>1.000000e-07</td>\n",
       "      <td>5.550551e-01</td>\n",
       "      <td>0.505005</td>\n",
       "      <td>0.197197</td>\n",
       "      <td>1.000000e-07</td>\n",
       "      <td>1.000000e-07</td>\n",
       "      <td>0.834334</td>\n",
       "      <td>1.000000e-07</td>\n",
       "      <td>0.682182</td>\n",
       "      <td>9.999999e-01</td>\n",
       "      <td>1.000000e-07</td>\n",
       "      <td>0.339339</td>\n",
       "    </tr>\n",
       "    <tr>\n",
       "      <th>3</th>\n",
       "      <td>0.519520</td>\n",
       "      <td>9.999999e-01</td>\n",
       "      <td>5.550551e-01</td>\n",
       "      <td>0.258258</td>\n",
       "      <td>0.466967</td>\n",
       "      <td>1.000000e-07</td>\n",
       "      <td>7.367367e-01</td>\n",
       "      <td>0.910911</td>\n",
       "      <td>1.000000e-07</td>\n",
       "      <td>0.516517</td>\n",
       "      <td>9.999999e-01</td>\n",
       "      <td>1.000000e-07</td>\n",
       "      <td>0.339339</td>\n",
       "    </tr>\n",
       "    <tr>\n",
       "      <th>4</th>\n",
       "      <td>0.566567</td>\n",
       "      <td>1.000000e-07</td>\n",
       "      <td>1.000000e-07</td>\n",
       "      <td>0.258258</td>\n",
       "      <td>0.980009</td>\n",
       "      <td>1.000000e-07</td>\n",
       "      <td>7.367367e-01</td>\n",
       "      <td>0.705205</td>\n",
       "      <td>9.999999e-01</td>\n",
       "      <td>0.468468</td>\n",
       "      <td>9.999999e-01</td>\n",
       "      <td>1.000000e-07</td>\n",
       "      <td>0.339339</td>\n",
       "    </tr>\n",
       "  </tbody>\n",
       "</table>\n",
       "</div>"
      ],
      "text/plain": [
       "         0             1             2         3         4             5   \\\n",
       "0  0.817818  9.999999e-01  9.999999e-01  0.811311  0.428929  9.999999e-01   \n",
       "1  0.025025  9.999999e-01  7.812813e-01  0.505005  0.579580  1.000000e-07   \n",
       "2  0.077578  1.000000e-07  5.550551e-01  0.505005  0.197197  1.000000e-07   \n",
       "3  0.519520  9.999999e-01  5.550551e-01  0.258258  0.466967  1.000000e-07   \n",
       "4  0.566567  1.000000e-07  1.000000e-07  0.258258  0.980009  1.000000e-07   \n",
       "\n",
       "             6         7             8         9             10            11  \\\n",
       "0  1.000000e-07  0.446947  1.000000e-07  0.855856  1.000000e-07  1.000000e-07   \n",
       "1  7.367367e-01  0.980132  1.000000e-07  0.956954  1.000000e-07  1.000000e-07   \n",
       "2  1.000000e-07  0.834334  1.000000e-07  0.682182  9.999999e-01  1.000000e-07   \n",
       "3  7.367367e-01  0.910911  1.000000e-07  0.516517  9.999999e-01  1.000000e-07   \n",
       "4  7.367367e-01  0.705205  9.999999e-01  0.468468  9.999999e-01  1.000000e-07   \n",
       "\n",
       "         12  \n",
       "0  0.034535  \n",
       "1  0.339339  \n",
       "2  0.339339  \n",
       "3  0.339339  \n",
       "4  0.339339  "
      ]
     },
     "execution_count": 377,
     "metadata": {},
     "output_type": "execute_result"
    }
   ],
   "source": [
    "pd_scaled_X.head()"
   ]
  },
  {
   "cell_type": "code",
   "execution_count": 367,
   "metadata": {},
   "outputs": [],
   "source": [
    "lr_model = logisticRegr.fit(X_train_nr, y_train_nr)"
   ]
  },
  {
   "cell_type": "code",
   "execution_count": 368,
   "metadata": {},
   "outputs": [
    {
     "name": "stdout",
     "output_type": "stream",
     "text": [
      "0.8461538461538461\n"
     ]
    }
   ],
   "source": [
    "score = logisticRegr.score(X_test_nr, y_test_nr)\n",
    "print(score)"
   ]
  },
  {
   "cell_type": "code",
   "execution_count": 369,
   "metadata": {},
   "outputs": [],
   "source": [
    "y_pred_lr_nm = lr_model.predict(X_test_nr)"
   ]
  },
  {
   "cell_type": "markdown",
   "metadata": {},
   "source": [
    "### Confusion Matrix"
   ]
  },
  {
   "cell_type": "code",
   "execution_count": 370,
   "metadata": {},
   "outputs": [
    {
     "data": {
      "image/png": "[encoded data removed]",
      "text/plain": [
       "<Figure size 864x288 with 4 Axes>"
      ]
     },
     "metadata": {},
     "output_type": "display_data"
    }
   ],
   "source": [
    "# Compute confusion matrix\n",
    "class_names = ['no heart disease', 'heart disease']\n",
    "cnf_matrix = confusion_matrix(y_test_nr, y_pred_lr_nm)\n",
    "np.set_printoptions(precision=2)\n",
    "\n",
    "# Plot non-normalized confusion matrix\n",
    "plt.figure(figsize=(12, 4))\n",
    "plt.subplot(121) \n",
    "plot_confusion_matrix(cnf_matrix, classes=class_names,\n",
    "                      title='Confusion matrix, without normalization')\n",
    "\n",
    "# Plot normalized confusion matrix\n",
    "plt.subplot(122) \n",
    "plot_confusion_matrix(cnf_matrix, classes=class_names, normalize=True,\n",
    "                      title='Normalized confusion matrix')\n",
    "\n",
    "plt.show()"
   ]
  },
  {
   "cell_type": "markdown",
   "metadata": {},
   "source": [
    "### Using Feature Scaling is improving our Accuracy "
   ]
  },
  {
   "cell_type": "markdown",
   "metadata": {},
   "source": [
    "## Using SVM "
   ]
  },
  {
   "cell_type": "markdown",
   "metadata": {},
   "source": [
    "### Using Grid Search CV to find the best SVM parameters"
   ]
  },
  {
   "cell_type": "code",
   "execution_count": 324,
   "metadata": {},
   "outputs": [
    {
     "name": "stdout",
     "output_type": "stream",
     "text": [
      "Best score for data1: 0.8066037735849056\n",
      "Best C: 100\n",
      "Best Kernel: linear\n",
      "Best Gamma: auto\n"
     ]
    }
   ],
   "source": [
    "parameter_candidates = [\n",
    "  {'C': [1, 10, 100, 1000,10000], 'kernel': ['linear']},\n",
    "  {'C': [1, 10, 100, 1000,10000], 'gamma': [0.1,0.01,0.001, 0.0001], 'kernel': ['rbf']},\n",
    "]\n",
    "clf = GridSearchCV(estimator=SVC(), param_grid=parameter_candidates, n_jobs=-1)\n",
    "clf.fit(X_train, y_train) \n",
    "print('Best score for data1:', clf.best_score_) \n",
    "print('Best C:',clf.best_estimator_.C) \n",
    "print('Best Kernel:',clf.best_estimator_.kernel)\n",
    "print('Best Gamma:',clf.best_estimator_.gamma)"
   ]
  },
  {
   "cell_type": "code",
   "execution_count": 325,
   "metadata": {},
   "outputs": [],
   "source": [
    "svm_model = SVC(kernel = 'linear', C = 100).fit(X_train, y_train)"
   ]
  },
  {
   "cell_type": "code",
   "execution_count": 327,
   "metadata": {},
   "outputs": [
    {
     "data": {
      "text/plain": [
       "0.8241758241758241"
      ]
     },
     "execution_count": 327,
     "metadata": {},
     "output_type": "execute_result"
    }
   ],
   "source": [
    "svm_model.score(X_test,y_test)"
   ]
  },
  {
   "cell_type": "markdown",
   "metadata": {},
   "source": [
    "### SVM on normalized data "
   ]
  },
  {
   "cell_type": "code",
   "execution_count": 308,
   "metadata": {},
   "outputs": [
    {
     "name": "stdout",
     "output_type": "stream",
     "text": [
      "Best score for data1: 0.8443396226415094\n",
      "Best C: 1\n",
      "Best Kernel: rbf\n",
      "Best Gamma: 0.1\n"
     ]
    }
   ],
   "source": [
    "parameter_candidates = [\n",
    "  {'C': [1, 10, 100, 1000,10000], 'kernel': ['linear']},\n",
    "  {'C': [1, 10, 100, 1000,10000], 'gamma': [0.1,0.01,0.001, 0.0001], 'kernel': ['rbf']},\n",
    "]\n",
    "clf = GridSearchCV(estimator=SVC(), param_grid=parameter_candidates, n_jobs=-1)\n",
    "clf.fit(X_train_nr, y_train_nr) \n",
    "print('Best score for data1:', clf.best_score_) \n",
    "print('Best C:',clf.best_estimator_.C) \n",
    "print('Best Kernel:',clf.best_estimator_.kernel)\n",
    "print('Best Gamma:',clf.best_estimator_.gamma)"
   ]
  },
  {
   "cell_type": "code",
   "execution_count": 321,
   "metadata": {},
   "outputs": [],
   "source": [
    "svm_model_nr = SVC(kernel = 'rbf', C = 1, gamma=0.1).fit(X_train_nr, y_train_nr)"
   ]
  },
  {
   "cell_type": "code",
   "execution_count": 323,
   "metadata": {},
   "outputs": [
    {
     "data": {
      "text/plain": [
       "0.8241758241758241"
      ]
     },
     "execution_count": 323,
     "metadata": {},
     "output_type": "execute_result"
    }
   ],
   "source": [
    "svm_model_nr.score(X_test_nr,y_test_nr)"
   ]
  },
  {
   "cell_type": "code",
   "execution_count": 365,
   "metadata": {},
   "outputs": [],
   "source": [
    "y_pred_svm_nm =svm_model_nr.predict(X_test_nr)"
   ]
  },
  {
   "cell_type": "markdown",
   "metadata": {},
   "source": [
    "### Confusion Matrix"
   ]
  },
  {
   "cell_type": "code",
   "execution_count": 366,
   "metadata": {},
   "outputs": [
    {
     "data": {
      "image/png": "[encoded data removed]",
      "text/plain": [
       "<Figure size 864x288 with 4 Axes>"
      ]
     },
     "metadata": {},
     "output_type": "display_data"
    }
   ],
   "source": [
    "# Compute confusion matrix\n",
    "class_names = ['no heart disease', 'heart disease']\n",
    "cnf_matrix = confusion_matrix(y_test_nr, y_pred_svm_nm)\n",
    "np.set_printoptions(precision=2)\n",
    "\n",
    "# Plot non-normalized confusion matrix\n",
    "plt.figure(figsize=(12, 4))\n",
    "plt.subplot(121) \n",
    "plot_confusion_matrix(cnf_matrix, classes=class_names,\n",
    "                      title='Confusion matrix, without normalization')\n",
    "\n",
    "# Plot normalized confusion matrix\n",
    "plt.subplot(122) \n",
    "plot_confusion_matrix(cnf_matrix, classes=class_names, normalize=True,\n",
    "                      title='Normalized confusion matrix')\n",
    "\n",
    "plt.show()"
   ]
  },
  {
   "cell_type": "markdown",
   "metadata": {},
   "source": [
    "### Decision Trees "
   ]
  },
  {
   "cell_type": "code",
   "execution_count": 330,
   "metadata": {},
   "outputs": [
    {
     "data": {
      "text/plain": [
       "DecisionTreeClassifier(class_weight=None, criterion='gini', max_depth=3,\n",
       "            max_features=None, max_leaf_nodes=None,\n",
       "            min_impurity_decrease=0.0, min_impurity_split=None,\n",
       "            min_samples_leaf=3, min_samples_split=2,\n",
       "            min_weight_fraction_leaf=0.0, presort=False, random_state=100,\n",
       "            splitter='best')"
      ]
     },
     "execution_count": 330,
     "metadata": {},
     "output_type": "execute_result"
    }
   ],
   "source": [
    "#Define Decision tree classifier with some default parameters\n",
    "clf_DT = DecisionTreeClassifier(criterion = \"gini\", random_state = 100,\n",
    "                               max_depth=3, min_samples_leaf=3)\n",
    "\n",
    "#Fit the training data \n",
    "clf_DT.fit(X_train, y_train)"
   ]
  },
  {
   "cell_type": "code",
   "execution_count": 333,
   "metadata": {},
   "outputs": [
    {
     "data": {
      "text/plain": [
       "0.8131868131868132"
      ]
     },
     "execution_count": 333,
     "metadata": {},
     "output_type": "execute_result"
    }
   ],
   "source": [
    "clf_DT.score(X_test,y_test)"
   ]
  },
  {
   "cell_type": "markdown",
   "metadata": {},
   "source": [
    "### Decision Trees with Normalized Data "
   ]
  },
  {
   "cell_type": "code",
   "execution_count": 334,
   "metadata": {},
   "outputs": [
    {
     "data": {
      "text/plain": [
       "DecisionTreeClassifier(class_weight=None, criterion='gini', max_depth=3,\n",
       "            max_features=None, max_leaf_nodes=None,\n",
       "            min_impurity_decrease=0.0, min_impurity_split=None,\n",
       "            min_samples_leaf=3, min_samples_split=2,\n",
       "            min_weight_fraction_leaf=0.0, presort=False, random_state=100,\n",
       "            splitter='best')"
      ]
     },
     "execution_count": 334,
     "metadata": {},
     "output_type": "execute_result"
    }
   ],
   "source": [
    "#Define Decision tree classifier with some default parameters\n",
    "clf_DT_nr = DecisionTreeClassifier(criterion = \"gini\", random_state = 100,\n",
    "                               max_depth=3, min_samples_leaf=3)\n",
    "\n",
    "#Fit the training data \n",
    "clf_DT_nr.fit(X_train_nr, y_train_nr)"
   ]
  },
  {
   "cell_type": "code",
   "execution_count": 337,
   "metadata": {},
   "outputs": [
    {
     "data": {
      "text/plain": [
       "0.8571428571428571"
      ]
     },
     "execution_count": 337,
     "metadata": {},
     "output_type": "execute_result"
    }
   ],
   "source": [
    "clf_DT_nr.score(X_test_nr,y_test_nr)"
   ]
  },
  {
   "cell_type": "code",
   "execution_count": 341,
   "metadata": {},
   "outputs": [],
   "source": [
    "y_pred_dt_nm = clf_DT_nr.predict(X_test_nr)"
   ]
  },
  {
   "cell_type": "markdown",
   "metadata": {},
   "source": [
    "### This is best accuracy we have recieved "
   ]
  },
  {
   "cell_type": "markdown",
   "metadata": {},
   "source": [
    "### Feature Importance "
   ]
  },
  {
   "cell_type": "code",
   "execution_count": 338,
   "metadata": {},
   "outputs": [],
   "source": [
    "importances = clf_DT_nr.feature_importances_\n",
    "indices = np.argsort(importances)[::-1]\n",
    "feature_order = np.array([X.columns.values])\n",
    "i = np.argsort(importances)[::-1]\n",
    "feature_order = feature_order[:,i]"
   ]
  },
  {
   "cell_type": "code",
   "execution_count": 340,
   "metadata": {},
   "outputs": [
    {
     "data": {
      "image/png": "[encoded data removed]",
      "text/plain": [
       "<Figure size 432x288 with 1 Axes>"
      ]
     },
     "metadata": {},
     "output_type": "display_data"
    }
   ],
   "source": [
    "plt.figure()\n",
    "plt.title(\"Relative feature importances\")\n",
    "plt.bar(range(X.shape[1]), importances[indices],\n",
    "       color=\"b\",  align=\"center\")\n",
    "plt.xticks(range(X.shape[1]), feature_order[0], rotation=90)\n",
    "plt.xlim([-1, X.shape[1]])\n",
    "plt.show()"
   ]
  },
  {
   "cell_type": "code",
   "execution_count": 349,
   "metadata": {},
   "outputs": [],
   "source": [
    "def plot_confusion_matrix(cm, classes,\n",
    "                          normalize=False,\n",
    "                          title='Confusion matrix',\n",
    "                          cmap=plt.cm.Blues):\n",
    "    \"\"\"\n",
    "    This function prints and plots the confusion matrix.\n",
    "    Normalization can be applied by setting `normalize=True`.\n",
    "    \"\"\"\n",
    "    if normalize:\n",
    "        cm = cm.astype('float') / cm.sum(axis=1)[:, np.newaxis]\n",
    "        #print(\"Normalized confusion matrix\")\n",
    "    #else:\n",
    "    #    print('Confusion matrix, without normalization')\n",
    "\n",
    "    #print(cm)\n",
    "\n",
    "    plt.imshow(cm, interpolation='nearest', cmap=cmap)\n",
    "    plt.title(title)\n",
    "    plt.colorbar()\n",
    "    tick_marks = np.arange(len(classes))\n",
    "    plt.xticks(tick_marks, classes, rotation=45)\n",
    "    plt.yticks(tick_marks, classes)\n",
    "\n",
    "    fmt = '.2f' if normalize else 'd'\n",
    "    thresh = cm.max() / 2.\n",
    "    for i, j in itertools.product(range(cm.shape[0]), range(cm.shape[1])):\n",
    "        plt.text(j, i, format(cm[i, j], fmt),\n",
    "                 horizontalalignment=\"center\",\n",
    "                 color=\"white\" if cm[i, j] > thresh else \"black\")\n",
    "\n",
    "    plt.tight_layout()\n",
    "    plt.ylabel('True label')\n",
    "    plt.xlabel('Predicted label')"
   ]
  },
  {
   "cell_type": "code",
   "execution_count": 361,
   "metadata": {},
   "outputs": [
    {
     "name": "stdout",
     "output_type": "stream",
     "text": [
      "(91,)\n",
      "(91,)\n"
     ]
    }
   ],
   "source": [
    "print(y_pred_dt_nm.shape)\n",
    "print(y_test_nr.shape)"
   ]
  },
  {
   "cell_type": "code",
   "execution_count": 364,
   "metadata": {},
   "outputs": [
    {
     "data": {
      "image/png": "[encoded data removed]",
      "text/plain": [
       "<Figure size 864x288 with 4 Axes>"
      ]
     },
     "metadata": {},
     "output_type": "display_data"
    }
   ],
   "source": [
    "# Compute confusion matrix\n",
    "class_names = ['no heart disease', 'heart disease']\n",
    "cnf_matrix = confusion_matrix(y_test_nr, y_pred_dt_nm)\n",
    "np.set_printoptions(precision=2)\n",
    "\n",
    "# Plot non-normalized confusion matrix\n",
    "plt.figure(figsize=(12, 4))\n",
    "plt.subplot(121) \n",
    "plot_confusion_matrix(cnf_matrix, classes=class_names,\n",
    "                      title='Confusion matrix, without normalization')\n",
    "\n",
    "# Plot normalized confusion matrix\n",
    "plt.subplot(122) \n",
    "plot_confusion_matrix(cnf_matrix, classes=class_names, normalize=True,\n",
    "                      title='Normalized confusion matrix')\n",
    "\n",
    "plt.show()"
   ]
  }
 ],
 "metadata": {
  "kernelspec": {
   "display_name": "Python 3",
   "language": "python",
   "name": "python3"
  },
  "language_info": {
   "codemirror_mode": {
    "name": "ipython",
    "version": 3
   },
   "file_extension": ".py",
   "mimetype": "text/x-python",
   "name": "python",
   "nbconvert_exporter": "python",
   "pygments_lexer": "ipython3",
   "version": "3.6.7"
  }
 },
 "nbformat": 4,
 "nbformat_minor": 2
}
