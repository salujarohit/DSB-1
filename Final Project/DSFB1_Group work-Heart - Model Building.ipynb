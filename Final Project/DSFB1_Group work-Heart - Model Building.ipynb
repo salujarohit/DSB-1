{
 "cells": [
  {
   "cell_type": "markdown",
   "metadata": {},
   "source": [
    "# Group work\n"
   ]
  },
  {
   "cell_type": "markdown",
   "metadata": {},
   "source": [
    "\n"
   ]
  },
  {
   "cell_type": "markdown",
   "metadata": {},
   "source": [
    "### Importing libraries\n"
   ]
  },
  {
   "cell_type": "code",
   "execution_count": 2,
   "metadata": {},
   "outputs": [
    {
     "name": "stderr",
     "output_type": "stream",
     "text": [
      "/Users/rohitsaluja/anaconda3/lib/python3.6/site-packages/sklearn/cross_validation.py:41: DeprecationWarning: This module was deprecated in version 0.18 in favor of the model_selection module into which all the refactored classes and functions are moved. Also note that the interface of the new CV iterators are different from that of this module. This module will be removed in 0.20.\n",
      "  \"This module will be removed in 0.20.\", DeprecationWarning)\n",
      "/Users/rohitsaluja/anaconda3/lib/python3.6/site-packages/sklearn/grid_search.py:42: DeprecationWarning: This module was deprecated in version 0.18 in favor of the model_selection module into which all the refactored classes and functions are moved. This module will be removed in 0.20.\n",
      "  DeprecationWarning)\n"
     ]
    }
   ],
   "source": [
    "%matplotlib inline\n",
    "import pandas as pd\n",
    "import numpy as np\n",
    "import itertools\n",
    "import time\n",
    "import statsmodels.api as sm\n",
    "import matplotlib.pyplot as plt\n",
    "from sklearn import preprocessing\n",
    "from sklearn.linear_model import LogisticRegression\n",
    "import seaborn as sns; sns.set()\n",
    "from sklearn.grid_search import GridSearchCV\n",
    "from sklearn.svm import SVC\n",
    "from sklearn.metrics import accuracy_score\n",
    "from sklearn.tree import DecisionTreeClassifier #Decision Tree algorithm\n",
    "from sklearn.metrics import confusion_matrix\n",
    "from sklearn.feature_selection import RFE\n",
    "\n",
    "\n",
    "\n",
    "\n",
    "\n",
    "\n",
    "from sklearn.preprocessing import scale \n",
    "from sklearn.model_selection import train_test_split\n",
    "from sklearn.linear_model import Ridge, RidgeCV, Lasso, LassoCV\n",
    "from sklearn.metrics import mean_squared_error\n",
    "from sklearn.feature_extraction.text import CountVectorizer\n",
    "\n",
    "\n",
    "import pandas as pd #data frames (for storing data)\n",
    "import numpy as np #scientific computing\n",
    "import itertools\n",
    "\n",
    "#matplotlib for plotting\n",
    "import matplotlib.pyplot as plt\n",
    "from matplotlib import gridspec\n",
    "import matplotlib.ticker as mtick #for percentage ticks\n",
    "\n"
   ]
  },
  {
   "cell_type": "markdown",
   "metadata": {},
   "source": [
    "### Importing data"
   ]
  },
  {
   "cell_type": "code",
   "execution_count": 5,
   "metadata": {},
   "outputs": [
    {
     "data": {
      "text/html": [
       "<style  type=\"text/css\" >\n",
       "</style>  \n",
       "<table id=\"T_39d03d22_32b5_11e9_9d0f_acde48001122\" > \n",
       "<thead>    <tr> \n",
       "        <th class=\"blank level0\" ></th> \n",
       "        <th class=\"col_heading level0 col0\" >age</th> \n",
       "        <th class=\"col_heading level0 col1\" >sex</th> \n",
       "        <th class=\"col_heading level0 col2\" >cp</th> \n",
       "        <th class=\"col_heading level0 col3\" >trestbps</th> \n",
       "        <th class=\"col_heading level0 col4\" >chol</th> \n",
       "        <th class=\"col_heading level0 col5\" >fbs</th> \n",
       "        <th class=\"col_heading level0 col6\" >restecg</th> \n",
       "        <th class=\"col_heading level0 col7\" >thalach</th> \n",
       "        <th class=\"col_heading level0 col8\" >exang</th> \n",
       "        <th class=\"col_heading level0 col9\" >oldpeak</th> \n",
       "        <th class=\"col_heading level0 col10\" >slope</th> \n",
       "        <th class=\"col_heading level0 col11\" >ca</th> \n",
       "        <th class=\"col_heading level0 col12\" >thal</th> \n",
       "        <th class=\"col_heading level0 col13\" >target</th> \n",
       "    </tr></thead> \n",
       "<tbody>    <tr> \n",
       "        <th id=\"T_39d03d22_32b5_11e9_9d0f_acde48001122level0_row0\" class=\"row_heading level0 row0\" >0</th> \n",
       "        <td id=\"T_39d03d22_32b5_11e9_9d0f_acde48001122row0_col0\" class=\"data row0 col0\" >63</td> \n",
       "        <td id=\"T_39d03d22_32b5_11e9_9d0f_acde48001122row0_col1\" class=\"data row0 col1\" >1</td> \n",
       "        <td id=\"T_39d03d22_32b5_11e9_9d0f_acde48001122row0_col2\" class=\"data row0 col2\" >3</td> \n",
       "        <td id=\"T_39d03d22_32b5_11e9_9d0f_acde48001122row0_col3\" class=\"data row0 col3\" >145</td> \n",
       "        <td id=\"T_39d03d22_32b5_11e9_9d0f_acde48001122row0_col4\" class=\"data row0 col4\" >233</td> \n",
       "        <td id=\"T_39d03d22_32b5_11e9_9d0f_acde48001122row0_col5\" class=\"data row0 col5\" >1</td> \n",
       "        <td id=\"T_39d03d22_32b5_11e9_9d0f_acde48001122row0_col6\" class=\"data row0 col6\" >0</td> \n",
       "        <td id=\"T_39d03d22_32b5_11e9_9d0f_acde48001122row0_col7\" class=\"data row0 col7\" >150</td> \n",
       "        <td id=\"T_39d03d22_32b5_11e9_9d0f_acde48001122row0_col8\" class=\"data row0 col8\" >0</td> \n",
       "        <td id=\"T_39d03d22_32b5_11e9_9d0f_acde48001122row0_col9\" class=\"data row0 col9\" >2.3</td> \n",
       "        <td id=\"T_39d03d22_32b5_11e9_9d0f_acde48001122row0_col10\" class=\"data row0 col10\" >0</td> \n",
       "        <td id=\"T_39d03d22_32b5_11e9_9d0f_acde48001122row0_col11\" class=\"data row0 col11\" >0</td> \n",
       "        <td id=\"T_39d03d22_32b5_11e9_9d0f_acde48001122row0_col12\" class=\"data row0 col12\" >1</td> \n",
       "        <td id=\"T_39d03d22_32b5_11e9_9d0f_acde48001122row0_col13\" class=\"data row0 col13\" >1</td> \n",
       "    </tr>    <tr> \n",
       "        <th id=\"T_39d03d22_32b5_11e9_9d0f_acde48001122level0_row1\" class=\"row_heading level0 row1\" >1</th> \n",
       "        <td id=\"T_39d03d22_32b5_11e9_9d0f_acde48001122row1_col0\" class=\"data row1 col0\" >37</td> \n",
       "        <td id=\"T_39d03d22_32b5_11e9_9d0f_acde48001122row1_col1\" class=\"data row1 col1\" >1</td> \n",
       "        <td id=\"T_39d03d22_32b5_11e9_9d0f_acde48001122row1_col2\" class=\"data row1 col2\" >2</td> \n",
       "        <td id=\"T_39d03d22_32b5_11e9_9d0f_acde48001122row1_col3\" class=\"data row1 col3\" >130</td> \n",
       "        <td id=\"T_39d03d22_32b5_11e9_9d0f_acde48001122row1_col4\" class=\"data row1 col4\" >250</td> \n",
       "        <td id=\"T_39d03d22_32b5_11e9_9d0f_acde48001122row1_col5\" class=\"data row1 col5\" >0</td> \n",
       "        <td id=\"T_39d03d22_32b5_11e9_9d0f_acde48001122row1_col6\" class=\"data row1 col6\" >1</td> \n",
       "        <td id=\"T_39d03d22_32b5_11e9_9d0f_acde48001122row1_col7\" class=\"data row1 col7\" >187</td> \n",
       "        <td id=\"T_39d03d22_32b5_11e9_9d0f_acde48001122row1_col8\" class=\"data row1 col8\" >0</td> \n",
       "        <td id=\"T_39d03d22_32b5_11e9_9d0f_acde48001122row1_col9\" class=\"data row1 col9\" >3.5</td> \n",
       "        <td id=\"T_39d03d22_32b5_11e9_9d0f_acde48001122row1_col10\" class=\"data row1 col10\" >0</td> \n",
       "        <td id=\"T_39d03d22_32b5_11e9_9d0f_acde48001122row1_col11\" class=\"data row1 col11\" >0</td> \n",
       "        <td id=\"T_39d03d22_32b5_11e9_9d0f_acde48001122row1_col12\" class=\"data row1 col12\" >2</td> \n",
       "        <td id=\"T_39d03d22_32b5_11e9_9d0f_acde48001122row1_col13\" class=\"data row1 col13\" >1</td> \n",
       "    </tr>    <tr> \n",
       "        <th id=\"T_39d03d22_32b5_11e9_9d0f_acde48001122level0_row2\" class=\"row_heading level0 row2\" >2</th> \n",
       "        <td id=\"T_39d03d22_32b5_11e9_9d0f_acde48001122row2_col0\" class=\"data row2 col0\" >41</td> \n",
       "        <td id=\"T_39d03d22_32b5_11e9_9d0f_acde48001122row2_col1\" class=\"data row2 col1\" >0</td> \n",
       "        <td id=\"T_39d03d22_32b5_11e9_9d0f_acde48001122row2_col2\" class=\"data row2 col2\" >1</td> \n",
       "        <td id=\"T_39d03d22_32b5_11e9_9d0f_acde48001122row2_col3\" class=\"data row2 col3\" >130</td> \n",
       "        <td id=\"T_39d03d22_32b5_11e9_9d0f_acde48001122row2_col4\" class=\"data row2 col4\" >204</td> \n",
       "        <td id=\"T_39d03d22_32b5_11e9_9d0f_acde48001122row2_col5\" class=\"data row2 col5\" >0</td> \n",
       "        <td id=\"T_39d03d22_32b5_11e9_9d0f_acde48001122row2_col6\" class=\"data row2 col6\" >0</td> \n",
       "        <td id=\"T_39d03d22_32b5_11e9_9d0f_acde48001122row2_col7\" class=\"data row2 col7\" >172</td> \n",
       "        <td id=\"T_39d03d22_32b5_11e9_9d0f_acde48001122row2_col8\" class=\"data row2 col8\" >0</td> \n",
       "        <td id=\"T_39d03d22_32b5_11e9_9d0f_acde48001122row2_col9\" class=\"data row2 col9\" >1.4</td> \n",
       "        <td id=\"T_39d03d22_32b5_11e9_9d0f_acde48001122row2_col10\" class=\"data row2 col10\" >2</td> \n",
       "        <td id=\"T_39d03d22_32b5_11e9_9d0f_acde48001122row2_col11\" class=\"data row2 col11\" >0</td> \n",
       "        <td id=\"T_39d03d22_32b5_11e9_9d0f_acde48001122row2_col12\" class=\"data row2 col12\" >2</td> \n",
       "        <td id=\"T_39d03d22_32b5_11e9_9d0f_acde48001122row2_col13\" class=\"data row2 col13\" >1</td> \n",
       "    </tr>    <tr> \n",
       "        <th id=\"T_39d03d22_32b5_11e9_9d0f_acde48001122level0_row3\" class=\"row_heading level0 row3\" >3</th> \n",
       "        <td id=\"T_39d03d22_32b5_11e9_9d0f_acde48001122row3_col0\" class=\"data row3 col0\" >56</td> \n",
       "        <td id=\"T_39d03d22_32b5_11e9_9d0f_acde48001122row3_col1\" class=\"data row3 col1\" >1</td> \n",
       "        <td id=\"T_39d03d22_32b5_11e9_9d0f_acde48001122row3_col2\" class=\"data row3 col2\" >1</td> \n",
       "        <td id=\"T_39d03d22_32b5_11e9_9d0f_acde48001122row3_col3\" class=\"data row3 col3\" >120</td> \n",
       "        <td id=\"T_39d03d22_32b5_11e9_9d0f_acde48001122row3_col4\" class=\"data row3 col4\" >236</td> \n",
       "        <td id=\"T_39d03d22_32b5_11e9_9d0f_acde48001122row3_col5\" class=\"data row3 col5\" >0</td> \n",
       "        <td id=\"T_39d03d22_32b5_11e9_9d0f_acde48001122row3_col6\" class=\"data row3 col6\" >1</td> \n",
       "        <td id=\"T_39d03d22_32b5_11e9_9d0f_acde48001122row3_col7\" class=\"data row3 col7\" >178</td> \n",
       "        <td id=\"T_39d03d22_32b5_11e9_9d0f_acde48001122row3_col8\" class=\"data row3 col8\" >0</td> \n",
       "        <td id=\"T_39d03d22_32b5_11e9_9d0f_acde48001122row3_col9\" class=\"data row3 col9\" >0.8</td> \n",
       "        <td id=\"T_39d03d22_32b5_11e9_9d0f_acde48001122row3_col10\" class=\"data row3 col10\" >2</td> \n",
       "        <td id=\"T_39d03d22_32b5_11e9_9d0f_acde48001122row3_col11\" class=\"data row3 col11\" >0</td> \n",
       "        <td id=\"T_39d03d22_32b5_11e9_9d0f_acde48001122row3_col12\" class=\"data row3 col12\" >2</td> \n",
       "        <td id=\"T_39d03d22_32b5_11e9_9d0f_acde48001122row3_col13\" class=\"data row3 col13\" >1</td> \n",
       "    </tr>    <tr> \n",
       "        <th id=\"T_39d03d22_32b5_11e9_9d0f_acde48001122level0_row4\" class=\"row_heading level0 row4\" >4</th> \n",
       "        <td id=\"T_39d03d22_32b5_11e9_9d0f_acde48001122row4_col0\" class=\"data row4 col0\" >57</td> \n",
       "        <td id=\"T_39d03d22_32b5_11e9_9d0f_acde48001122row4_col1\" class=\"data row4 col1\" >0</td> \n",
       "        <td id=\"T_39d03d22_32b5_11e9_9d0f_acde48001122row4_col2\" class=\"data row4 col2\" >0</td> \n",
       "        <td id=\"T_39d03d22_32b5_11e9_9d0f_acde48001122row4_col3\" class=\"data row4 col3\" >120</td> \n",
       "        <td id=\"T_39d03d22_32b5_11e9_9d0f_acde48001122row4_col4\" class=\"data row4 col4\" >354</td> \n",
       "        <td id=\"T_39d03d22_32b5_11e9_9d0f_acde48001122row4_col5\" class=\"data row4 col5\" >0</td> \n",
       "        <td id=\"T_39d03d22_32b5_11e9_9d0f_acde48001122row4_col6\" class=\"data row4 col6\" >1</td> \n",
       "        <td id=\"T_39d03d22_32b5_11e9_9d0f_acde48001122row4_col7\" class=\"data row4 col7\" >163</td> \n",
       "        <td id=\"T_39d03d22_32b5_11e9_9d0f_acde48001122row4_col8\" class=\"data row4 col8\" >1</td> \n",
       "        <td id=\"T_39d03d22_32b5_11e9_9d0f_acde48001122row4_col9\" class=\"data row4 col9\" >0.6</td> \n",
       "        <td id=\"T_39d03d22_32b5_11e9_9d0f_acde48001122row4_col10\" class=\"data row4 col10\" >2</td> \n",
       "        <td id=\"T_39d03d22_32b5_11e9_9d0f_acde48001122row4_col11\" class=\"data row4 col11\" >0</td> \n",
       "        <td id=\"T_39d03d22_32b5_11e9_9d0f_acde48001122row4_col12\" class=\"data row4 col12\" >2</td> \n",
       "        <td id=\"T_39d03d22_32b5_11e9_9d0f_acde48001122row4_col13\" class=\"data row4 col13\" >1</td> \n",
       "    </tr></tbody> \n",
       "</table> "
      ],
      "text/plain": [
       "<pandas.io.formats.style.Styler at 0x10b524630>"
      ]
     },
     "execution_count": 5,
     "metadata": {},
     "output_type": "execute_result"
    }
   ],
   "source": [
    "data_initial = pd.read_csv('heart.csv')\n",
    "data_initial.head().style #Call the head() function to see how the dataset looks (.style() shows all columns)"
   ]
  },
  {
   "cell_type": "markdown",
   "metadata": {},
   "source": [
    "### Feature Extraction : Creating Dummy Variable for Analysis "
   ]
  },
  {
   "cell_type": "code",
   "execution_count": 6,
   "metadata": {},
   "outputs": [
    {
     "data": {
      "text/html": [
       "<style  type=\"text/css\" >\n",
       "</style>  \n",
       "<table id=\"T_3a9c0e18_32b5_11e9_b2ca_acde48001122\" > \n",
       "<thead>    <tr> \n",
       "        <th class=\"blank level0\" ></th> \n",
       "        <th class=\"col_heading level0 col0\" >age</th> \n",
       "        <th class=\"col_heading level0 col1\" >trestbps</th> \n",
       "        <th class=\"col_heading level0 col2\" >chol</th> \n",
       "        <th class=\"col_heading level0 col3\" >fbs</th> \n",
       "        <th class=\"col_heading level0 col4\" >thalach</th> \n",
       "        <th class=\"col_heading level0 col5\" >exang</th> \n",
       "        <th class=\"col_heading level0 col6\" >oldpeak</th> \n",
       "        <th class=\"col_heading level0 col7\" >ca</th> \n",
       "        <th class=\"col_heading level0 col8\" >target</th> \n",
       "        <th class=\"col_heading level0 col9\" >sex_0</th> \n",
       "        <th class=\"col_heading level0 col10\" >sex_1</th> \n",
       "        <th class=\"col_heading level0 col11\" >cp_0</th> \n",
       "        <th class=\"col_heading level0 col12\" >cp_1</th> \n",
       "        <th class=\"col_heading level0 col13\" >cp_2</th> \n",
       "        <th class=\"col_heading level0 col14\" >cp_3</th> \n",
       "        <th class=\"col_heading level0 col15\" >restecg_0</th> \n",
       "        <th class=\"col_heading level0 col16\" >restecg_1</th> \n",
       "        <th class=\"col_heading level0 col17\" >restecg_2</th> \n",
       "        <th class=\"col_heading level0 col18\" >slope_0</th> \n",
       "        <th class=\"col_heading level0 col19\" >slope_1</th> \n",
       "        <th class=\"col_heading level0 col20\" >slope_2</th> \n",
       "        <th class=\"col_heading level0 col21\" >thal_0</th> \n",
       "        <th class=\"col_heading level0 col22\" >thal_1</th> \n",
       "        <th class=\"col_heading level0 col23\" >thal_2</th> \n",
       "        <th class=\"col_heading level0 col24\" >thal_3</th> \n",
       "    </tr></thead> \n",
       "<tbody>    <tr> \n",
       "        <th id=\"T_3a9c0e18_32b5_11e9_b2ca_acde48001122level0_row0\" class=\"row_heading level0 row0\" >0</th> \n",
       "        <td id=\"T_3a9c0e18_32b5_11e9_b2ca_acde48001122row0_col0\" class=\"data row0 col0\" >63</td> \n",
       "        <td id=\"T_3a9c0e18_32b5_11e9_b2ca_acde48001122row0_col1\" class=\"data row0 col1\" >145</td> \n",
       "        <td id=\"T_3a9c0e18_32b5_11e9_b2ca_acde48001122row0_col2\" class=\"data row0 col2\" >233</td> \n",
       "        <td id=\"T_3a9c0e18_32b5_11e9_b2ca_acde48001122row0_col3\" class=\"data row0 col3\" >1</td> \n",
       "        <td id=\"T_3a9c0e18_32b5_11e9_b2ca_acde48001122row0_col4\" class=\"data row0 col4\" >150</td> \n",
       "        <td id=\"T_3a9c0e18_32b5_11e9_b2ca_acde48001122row0_col5\" class=\"data row0 col5\" >0</td> \n",
       "        <td id=\"T_3a9c0e18_32b5_11e9_b2ca_acde48001122row0_col6\" class=\"data row0 col6\" >2.3</td> \n",
       "        <td id=\"T_3a9c0e18_32b5_11e9_b2ca_acde48001122row0_col7\" class=\"data row0 col7\" >0</td> \n",
       "        <td id=\"T_3a9c0e18_32b5_11e9_b2ca_acde48001122row0_col8\" class=\"data row0 col8\" >1</td> \n",
       "        <td id=\"T_3a9c0e18_32b5_11e9_b2ca_acde48001122row0_col9\" class=\"data row0 col9\" >0</td> \n",
       "        <td id=\"T_3a9c0e18_32b5_11e9_b2ca_acde48001122row0_col10\" class=\"data row0 col10\" >1</td> \n",
       "        <td id=\"T_3a9c0e18_32b5_11e9_b2ca_acde48001122row0_col11\" class=\"data row0 col11\" >0</td> \n",
       "        <td id=\"T_3a9c0e18_32b5_11e9_b2ca_acde48001122row0_col12\" class=\"data row0 col12\" >0</td> \n",
       "        <td id=\"T_3a9c0e18_32b5_11e9_b2ca_acde48001122row0_col13\" class=\"data row0 col13\" >0</td> \n",
       "        <td id=\"T_3a9c0e18_32b5_11e9_b2ca_acde48001122row0_col14\" class=\"data row0 col14\" >1</td> \n",
       "        <td id=\"T_3a9c0e18_32b5_11e9_b2ca_acde48001122row0_col15\" class=\"data row0 col15\" >1</td> \n",
       "        <td id=\"T_3a9c0e18_32b5_11e9_b2ca_acde48001122row0_col16\" class=\"data row0 col16\" >0</td> \n",
       "        <td id=\"T_3a9c0e18_32b5_11e9_b2ca_acde48001122row0_col17\" class=\"data row0 col17\" >0</td> \n",
       "        <td id=\"T_3a9c0e18_32b5_11e9_b2ca_acde48001122row0_col18\" class=\"data row0 col18\" >1</td> \n",
       "        <td id=\"T_3a9c0e18_32b5_11e9_b2ca_acde48001122row0_col19\" class=\"data row0 col19\" >0</td> \n",
       "        <td id=\"T_3a9c0e18_32b5_11e9_b2ca_acde48001122row0_col20\" class=\"data row0 col20\" >0</td> \n",
       "        <td id=\"T_3a9c0e18_32b5_11e9_b2ca_acde48001122row0_col21\" class=\"data row0 col21\" >0</td> \n",
       "        <td id=\"T_3a9c0e18_32b5_11e9_b2ca_acde48001122row0_col22\" class=\"data row0 col22\" >1</td> \n",
       "        <td id=\"T_3a9c0e18_32b5_11e9_b2ca_acde48001122row0_col23\" class=\"data row0 col23\" >0</td> \n",
       "        <td id=\"T_3a9c0e18_32b5_11e9_b2ca_acde48001122row0_col24\" class=\"data row0 col24\" >0</td> \n",
       "    </tr>    <tr> \n",
       "        <th id=\"T_3a9c0e18_32b5_11e9_b2ca_acde48001122level0_row1\" class=\"row_heading level0 row1\" >1</th> \n",
       "        <td id=\"T_3a9c0e18_32b5_11e9_b2ca_acde48001122row1_col0\" class=\"data row1 col0\" >37</td> \n",
       "        <td id=\"T_3a9c0e18_32b5_11e9_b2ca_acde48001122row1_col1\" class=\"data row1 col1\" >130</td> \n",
       "        <td id=\"T_3a9c0e18_32b5_11e9_b2ca_acde48001122row1_col2\" class=\"data row1 col2\" >250</td> \n",
       "        <td id=\"T_3a9c0e18_32b5_11e9_b2ca_acde48001122row1_col3\" class=\"data row1 col3\" >0</td> \n",
       "        <td id=\"T_3a9c0e18_32b5_11e9_b2ca_acde48001122row1_col4\" class=\"data row1 col4\" >187</td> \n",
       "        <td id=\"T_3a9c0e18_32b5_11e9_b2ca_acde48001122row1_col5\" class=\"data row1 col5\" >0</td> \n",
       "        <td id=\"T_3a9c0e18_32b5_11e9_b2ca_acde48001122row1_col6\" class=\"data row1 col6\" >3.5</td> \n",
       "        <td id=\"T_3a9c0e18_32b5_11e9_b2ca_acde48001122row1_col7\" class=\"data row1 col7\" >0</td> \n",
       "        <td id=\"T_3a9c0e18_32b5_11e9_b2ca_acde48001122row1_col8\" class=\"data row1 col8\" >1</td> \n",
       "        <td id=\"T_3a9c0e18_32b5_11e9_b2ca_acde48001122row1_col9\" class=\"data row1 col9\" >0</td> \n",
       "        <td id=\"T_3a9c0e18_32b5_11e9_b2ca_acde48001122row1_col10\" class=\"data row1 col10\" >1</td> \n",
       "        <td id=\"T_3a9c0e18_32b5_11e9_b2ca_acde48001122row1_col11\" class=\"data row1 col11\" >0</td> \n",
       "        <td id=\"T_3a9c0e18_32b5_11e9_b2ca_acde48001122row1_col12\" class=\"data row1 col12\" >0</td> \n",
       "        <td id=\"T_3a9c0e18_32b5_11e9_b2ca_acde48001122row1_col13\" class=\"data row1 col13\" >1</td> \n",
       "        <td id=\"T_3a9c0e18_32b5_11e9_b2ca_acde48001122row1_col14\" class=\"data row1 col14\" >0</td> \n",
       "        <td id=\"T_3a9c0e18_32b5_11e9_b2ca_acde48001122row1_col15\" class=\"data row1 col15\" >0</td> \n",
       "        <td id=\"T_3a9c0e18_32b5_11e9_b2ca_acde48001122row1_col16\" class=\"data row1 col16\" >1</td> \n",
       "        <td id=\"T_3a9c0e18_32b5_11e9_b2ca_acde48001122row1_col17\" class=\"data row1 col17\" >0</td> \n",
       "        <td id=\"T_3a9c0e18_32b5_11e9_b2ca_acde48001122row1_col18\" class=\"data row1 col18\" >1</td> \n",
       "        <td id=\"T_3a9c0e18_32b5_11e9_b2ca_acde48001122row1_col19\" class=\"data row1 col19\" >0</td> \n",
       "        <td id=\"T_3a9c0e18_32b5_11e9_b2ca_acde48001122row1_col20\" class=\"data row1 col20\" >0</td> \n",
       "        <td id=\"T_3a9c0e18_32b5_11e9_b2ca_acde48001122row1_col21\" class=\"data row1 col21\" >0</td> \n",
       "        <td id=\"T_3a9c0e18_32b5_11e9_b2ca_acde48001122row1_col22\" class=\"data row1 col22\" >0</td> \n",
       "        <td id=\"T_3a9c0e18_32b5_11e9_b2ca_acde48001122row1_col23\" class=\"data row1 col23\" >1</td> \n",
       "        <td id=\"T_3a9c0e18_32b5_11e9_b2ca_acde48001122row1_col24\" class=\"data row1 col24\" >0</td> \n",
       "    </tr>    <tr> \n",
       "        <th id=\"T_3a9c0e18_32b5_11e9_b2ca_acde48001122level0_row2\" class=\"row_heading level0 row2\" >2</th> \n",
       "        <td id=\"T_3a9c0e18_32b5_11e9_b2ca_acde48001122row2_col0\" class=\"data row2 col0\" >41</td> \n",
       "        <td id=\"T_3a9c0e18_32b5_11e9_b2ca_acde48001122row2_col1\" class=\"data row2 col1\" >130</td> \n",
       "        <td id=\"T_3a9c0e18_32b5_11e9_b2ca_acde48001122row2_col2\" class=\"data row2 col2\" >204</td> \n",
       "        <td id=\"T_3a9c0e18_32b5_11e9_b2ca_acde48001122row2_col3\" class=\"data row2 col3\" >0</td> \n",
       "        <td id=\"T_3a9c0e18_32b5_11e9_b2ca_acde48001122row2_col4\" class=\"data row2 col4\" >172</td> \n",
       "        <td id=\"T_3a9c0e18_32b5_11e9_b2ca_acde48001122row2_col5\" class=\"data row2 col5\" >0</td> \n",
       "        <td id=\"T_3a9c0e18_32b5_11e9_b2ca_acde48001122row2_col6\" class=\"data row2 col6\" >1.4</td> \n",
       "        <td id=\"T_3a9c0e18_32b5_11e9_b2ca_acde48001122row2_col7\" class=\"data row2 col7\" >0</td> \n",
       "        <td id=\"T_3a9c0e18_32b5_11e9_b2ca_acde48001122row2_col8\" class=\"data row2 col8\" >1</td> \n",
       "        <td id=\"T_3a9c0e18_32b5_11e9_b2ca_acde48001122row2_col9\" class=\"data row2 col9\" >1</td> \n",
       "        <td id=\"T_3a9c0e18_32b5_11e9_b2ca_acde48001122row2_col10\" class=\"data row2 col10\" >0</td> \n",
       "        <td id=\"T_3a9c0e18_32b5_11e9_b2ca_acde48001122row2_col11\" class=\"data row2 col11\" >0</td> \n",
       "        <td id=\"T_3a9c0e18_32b5_11e9_b2ca_acde48001122row2_col12\" class=\"data row2 col12\" >1</td> \n",
       "        <td id=\"T_3a9c0e18_32b5_11e9_b2ca_acde48001122row2_col13\" class=\"data row2 col13\" >0</td> \n",
       "        <td id=\"T_3a9c0e18_32b5_11e9_b2ca_acde48001122row2_col14\" class=\"data row2 col14\" >0</td> \n",
       "        <td id=\"T_3a9c0e18_32b5_11e9_b2ca_acde48001122row2_col15\" class=\"data row2 col15\" >1</td> \n",
       "        <td id=\"T_3a9c0e18_32b5_11e9_b2ca_acde48001122row2_col16\" class=\"data row2 col16\" >0</td> \n",
       "        <td id=\"T_3a9c0e18_32b5_11e9_b2ca_acde48001122row2_col17\" class=\"data row2 col17\" >0</td> \n",
       "        <td id=\"T_3a9c0e18_32b5_11e9_b2ca_acde48001122row2_col18\" class=\"data row2 col18\" >0</td> \n",
       "        <td id=\"T_3a9c0e18_32b5_11e9_b2ca_acde48001122row2_col19\" class=\"data row2 col19\" >0</td> \n",
       "        <td id=\"T_3a9c0e18_32b5_11e9_b2ca_acde48001122row2_col20\" class=\"data row2 col20\" >1</td> \n",
       "        <td id=\"T_3a9c0e18_32b5_11e9_b2ca_acde48001122row2_col21\" class=\"data row2 col21\" >0</td> \n",
       "        <td id=\"T_3a9c0e18_32b5_11e9_b2ca_acde48001122row2_col22\" class=\"data row2 col22\" >0</td> \n",
       "        <td id=\"T_3a9c0e18_32b5_11e9_b2ca_acde48001122row2_col23\" class=\"data row2 col23\" >1</td> \n",
       "        <td id=\"T_3a9c0e18_32b5_11e9_b2ca_acde48001122row2_col24\" class=\"data row2 col24\" >0</td> \n",
       "    </tr>    <tr> \n",
       "        <th id=\"T_3a9c0e18_32b5_11e9_b2ca_acde48001122level0_row3\" class=\"row_heading level0 row3\" >3</th> \n",
       "        <td id=\"T_3a9c0e18_32b5_11e9_b2ca_acde48001122row3_col0\" class=\"data row3 col0\" >56</td> \n",
       "        <td id=\"T_3a9c0e18_32b5_11e9_b2ca_acde48001122row3_col1\" class=\"data row3 col1\" >120</td> \n",
       "        <td id=\"T_3a9c0e18_32b5_11e9_b2ca_acde48001122row3_col2\" class=\"data row3 col2\" >236</td> \n",
       "        <td id=\"T_3a9c0e18_32b5_11e9_b2ca_acde48001122row3_col3\" class=\"data row3 col3\" >0</td> \n",
       "        <td id=\"T_3a9c0e18_32b5_11e9_b2ca_acde48001122row3_col4\" class=\"data row3 col4\" >178</td> \n",
       "        <td id=\"T_3a9c0e18_32b5_11e9_b2ca_acde48001122row3_col5\" class=\"data row3 col5\" >0</td> \n",
       "        <td id=\"T_3a9c0e18_32b5_11e9_b2ca_acde48001122row3_col6\" class=\"data row3 col6\" >0.8</td> \n",
       "        <td id=\"T_3a9c0e18_32b5_11e9_b2ca_acde48001122row3_col7\" class=\"data row3 col7\" >0</td> \n",
       "        <td id=\"T_3a9c0e18_32b5_11e9_b2ca_acde48001122row3_col8\" class=\"data row3 col8\" >1</td> \n",
       "        <td id=\"T_3a9c0e18_32b5_11e9_b2ca_acde48001122row3_col9\" class=\"data row3 col9\" >0</td> \n",
       "        <td id=\"T_3a9c0e18_32b5_11e9_b2ca_acde48001122row3_col10\" class=\"data row3 col10\" >1</td> \n",
       "        <td id=\"T_3a9c0e18_32b5_11e9_b2ca_acde48001122row3_col11\" class=\"data row3 col11\" >0</td> \n",
       "        <td id=\"T_3a9c0e18_32b5_11e9_b2ca_acde48001122row3_col12\" class=\"data row3 col12\" >1</td> \n",
       "        <td id=\"T_3a9c0e18_32b5_11e9_b2ca_acde48001122row3_col13\" class=\"data row3 col13\" >0</td> \n",
       "        <td id=\"T_3a9c0e18_32b5_11e9_b2ca_acde48001122row3_col14\" class=\"data row3 col14\" >0</td> \n",
       "        <td id=\"T_3a9c0e18_32b5_11e9_b2ca_acde48001122row3_col15\" class=\"data row3 col15\" >0</td> \n",
       "        <td id=\"T_3a9c0e18_32b5_11e9_b2ca_acde48001122row3_col16\" class=\"data row3 col16\" >1</td> \n",
       "        <td id=\"T_3a9c0e18_32b5_11e9_b2ca_acde48001122row3_col17\" class=\"data row3 col17\" >0</td> \n",
       "        <td id=\"T_3a9c0e18_32b5_11e9_b2ca_acde48001122row3_col18\" class=\"data row3 col18\" >0</td> \n",
       "        <td id=\"T_3a9c0e18_32b5_11e9_b2ca_acde48001122row3_col19\" class=\"data row3 col19\" >0</td> \n",
       "        <td id=\"T_3a9c0e18_32b5_11e9_b2ca_acde48001122row3_col20\" class=\"data row3 col20\" >1</td> \n",
       "        <td id=\"T_3a9c0e18_32b5_11e9_b2ca_acde48001122row3_col21\" class=\"data row3 col21\" >0</td> \n",
       "        <td id=\"T_3a9c0e18_32b5_11e9_b2ca_acde48001122row3_col22\" class=\"data row3 col22\" >0</td> \n",
       "        <td id=\"T_3a9c0e18_32b5_11e9_b2ca_acde48001122row3_col23\" class=\"data row3 col23\" >1</td> \n",
       "        <td id=\"T_3a9c0e18_32b5_11e9_b2ca_acde48001122row3_col24\" class=\"data row3 col24\" >0</td> \n",
       "    </tr>    <tr> \n",
       "        <th id=\"T_3a9c0e18_32b5_11e9_b2ca_acde48001122level0_row4\" class=\"row_heading level0 row4\" >4</th> \n",
       "        <td id=\"T_3a9c0e18_32b5_11e9_b2ca_acde48001122row4_col0\" class=\"data row4 col0\" >57</td> \n",
       "        <td id=\"T_3a9c0e18_32b5_11e9_b2ca_acde48001122row4_col1\" class=\"data row4 col1\" >120</td> \n",
       "        <td id=\"T_3a9c0e18_32b5_11e9_b2ca_acde48001122row4_col2\" class=\"data row4 col2\" >354</td> \n",
       "        <td id=\"T_3a9c0e18_32b5_11e9_b2ca_acde48001122row4_col3\" class=\"data row4 col3\" >0</td> \n",
       "        <td id=\"T_3a9c0e18_32b5_11e9_b2ca_acde48001122row4_col4\" class=\"data row4 col4\" >163</td> \n",
       "        <td id=\"T_3a9c0e18_32b5_11e9_b2ca_acde48001122row4_col5\" class=\"data row4 col5\" >1</td> \n",
       "        <td id=\"T_3a9c0e18_32b5_11e9_b2ca_acde48001122row4_col6\" class=\"data row4 col6\" >0.6</td> \n",
       "        <td id=\"T_3a9c0e18_32b5_11e9_b2ca_acde48001122row4_col7\" class=\"data row4 col7\" >0</td> \n",
       "        <td id=\"T_3a9c0e18_32b5_11e9_b2ca_acde48001122row4_col8\" class=\"data row4 col8\" >1</td> \n",
       "        <td id=\"T_3a9c0e18_32b5_11e9_b2ca_acde48001122row4_col9\" class=\"data row4 col9\" >1</td> \n",
       "        <td id=\"T_3a9c0e18_32b5_11e9_b2ca_acde48001122row4_col10\" class=\"data row4 col10\" >0</td> \n",
       "        <td id=\"T_3a9c0e18_32b5_11e9_b2ca_acde48001122row4_col11\" class=\"data row4 col11\" >1</td> \n",
       "        <td id=\"T_3a9c0e18_32b5_11e9_b2ca_acde48001122row4_col12\" class=\"data row4 col12\" >0</td> \n",
       "        <td id=\"T_3a9c0e18_32b5_11e9_b2ca_acde48001122row4_col13\" class=\"data row4 col13\" >0</td> \n",
       "        <td id=\"T_3a9c0e18_32b5_11e9_b2ca_acde48001122row4_col14\" class=\"data row4 col14\" >0</td> \n",
       "        <td id=\"T_3a9c0e18_32b5_11e9_b2ca_acde48001122row4_col15\" class=\"data row4 col15\" >0</td> \n",
       "        <td id=\"T_3a9c0e18_32b5_11e9_b2ca_acde48001122row4_col16\" class=\"data row4 col16\" >1</td> \n",
       "        <td id=\"T_3a9c0e18_32b5_11e9_b2ca_acde48001122row4_col17\" class=\"data row4 col17\" >0</td> \n",
       "        <td id=\"T_3a9c0e18_32b5_11e9_b2ca_acde48001122row4_col18\" class=\"data row4 col18\" >0</td> \n",
       "        <td id=\"T_3a9c0e18_32b5_11e9_b2ca_acde48001122row4_col19\" class=\"data row4 col19\" >0</td> \n",
       "        <td id=\"T_3a9c0e18_32b5_11e9_b2ca_acde48001122row4_col20\" class=\"data row4 col20\" >1</td> \n",
       "        <td id=\"T_3a9c0e18_32b5_11e9_b2ca_acde48001122row4_col21\" class=\"data row4 col21\" >0</td> \n",
       "        <td id=\"T_3a9c0e18_32b5_11e9_b2ca_acde48001122row4_col22\" class=\"data row4 col22\" >0</td> \n",
       "        <td id=\"T_3a9c0e18_32b5_11e9_b2ca_acde48001122row4_col23\" class=\"data row4 col23\" >1</td> \n",
       "        <td id=\"T_3a9c0e18_32b5_11e9_b2ca_acde48001122row4_col24\" class=\"data row4 col24\" >0</td> \n",
       "    </tr></tbody> \n",
       "</table> "
      ],
      "text/plain": [
       "<pandas.io.formats.style.Styler at 0x10f3027f0>"
      ]
     },
     "execution_count": 6,
     "metadata": {},
     "output_type": "execute_result"
    }
   ],
   "source": [
    "data_dummy = pd.get_dummies(data_initial, columns=[\"sex\",\"cp\",\"restecg\",\"slope\",\"thal\"], \n",
    "                      prefix=[\"sex\",\"cp\",\"restecg\",\"slope\",\"thal\"]) #we add a prefix for easier identification\n",
    "\n",
    "data_dummy.head().style"
   ]
  },
  {
   "cell_type": "code",
   "execution_count": 8,
   "metadata": {},
   "outputs": [],
   "source": [
    "data = data_dummy.rename(index = str, columns= {\"sex_0\": \"sex_female\" , \"sex_1\" : \"sex_male\", \"cp_0\" : \"cp_typical angina\" ,\"cp_1\" : \n",
    "\"cp_angina\", \"cp_2\" : \"cp_non-anginal pain\" , \"cp_3\" : \"cp_asymptomatic\", \"restecg_0\" : \"restecg_normal\" ,\"restecg_1\" : \"restecg_ST-T wave abnormality\",\n",
    "\"restecg_2\":\"restecg_left ventricular hypertrophy\",\"slope_0\": \"slope_upsloping\", \"slope_1\" : \"slope_flat\" , \n",
    "\"slope_2\" : \"slope_downsloping\"  })"
   ]
  },
  {
   "cell_type": "code",
   "execution_count": 9,
   "metadata": {},
   "outputs": [
    {
     "data": {
      "text/html": [
       "<style  type=\"text/css\" >\n",
       "</style>  \n",
       "<table id=\"T_3dd41178_32b5_11e9_a3f6_acde48001122\" > \n",
       "<thead>    <tr> \n",
       "        <th class=\"blank level0\" ></th> \n",
       "        <th class=\"col_heading level0 col0\" >age</th> \n",
       "        <th class=\"col_heading level0 col1\" >trestbps</th> \n",
       "        <th class=\"col_heading level0 col2\" >chol</th> \n",
       "        <th class=\"col_heading level0 col3\" >fbs</th> \n",
       "        <th class=\"col_heading level0 col4\" >thalach</th> \n",
       "        <th class=\"col_heading level0 col5\" >exang</th> \n",
       "        <th class=\"col_heading level0 col6\" >oldpeak</th> \n",
       "        <th class=\"col_heading level0 col7\" >ca</th> \n",
       "        <th class=\"col_heading level0 col8\" >target</th> \n",
       "        <th class=\"col_heading level0 col9\" >sex_female</th> \n",
       "        <th class=\"col_heading level0 col10\" >sex_male</th> \n",
       "        <th class=\"col_heading level0 col11\" >cp_typical angina</th> \n",
       "        <th class=\"col_heading level0 col12\" >cp_angina</th> \n",
       "        <th class=\"col_heading level0 col13\" >cp_non-anginal pain</th> \n",
       "        <th class=\"col_heading level0 col14\" >cp_asymptomatic</th> \n",
       "        <th class=\"col_heading level0 col15\" >restecg_normal</th> \n",
       "        <th class=\"col_heading level0 col16\" >restecg_ST-T wave abnormality</th> \n",
       "        <th class=\"col_heading level0 col17\" >restecg_left ventricular hypertrophy</th> \n",
       "        <th class=\"col_heading level0 col18\" >slope_upsloping</th> \n",
       "        <th class=\"col_heading level0 col19\" >slope_flat</th> \n",
       "        <th class=\"col_heading level0 col20\" >slope_downsloping</th> \n",
       "        <th class=\"col_heading level0 col21\" >thal_0</th> \n",
       "        <th class=\"col_heading level0 col22\" >thal_1</th> \n",
       "        <th class=\"col_heading level0 col23\" >thal_2</th> \n",
       "        <th class=\"col_heading level0 col24\" >thal_3</th> \n",
       "    </tr></thead> \n",
       "<tbody>    <tr> \n",
       "        <th id=\"T_3dd41178_32b5_11e9_a3f6_acde48001122level0_row0\" class=\"row_heading level0 row0\" >0</th> \n",
       "        <td id=\"T_3dd41178_32b5_11e9_a3f6_acde48001122row0_col0\" class=\"data row0 col0\" >63</td> \n",
       "        <td id=\"T_3dd41178_32b5_11e9_a3f6_acde48001122row0_col1\" class=\"data row0 col1\" >145</td> \n",
       "        <td id=\"T_3dd41178_32b5_11e9_a3f6_acde48001122row0_col2\" class=\"data row0 col2\" >233</td> \n",
       "        <td id=\"T_3dd41178_32b5_11e9_a3f6_acde48001122row0_col3\" class=\"data row0 col3\" >1</td> \n",
       "        <td id=\"T_3dd41178_32b5_11e9_a3f6_acde48001122row0_col4\" class=\"data row0 col4\" >150</td> \n",
       "        <td id=\"T_3dd41178_32b5_11e9_a3f6_acde48001122row0_col5\" class=\"data row0 col5\" >0</td> \n",
       "        <td id=\"T_3dd41178_32b5_11e9_a3f6_acde48001122row0_col6\" class=\"data row0 col6\" >2.3</td> \n",
       "        <td id=\"T_3dd41178_32b5_11e9_a3f6_acde48001122row0_col7\" class=\"data row0 col7\" >0</td> \n",
       "        <td id=\"T_3dd41178_32b5_11e9_a3f6_acde48001122row0_col8\" class=\"data row0 col8\" >1</td> \n",
       "        <td id=\"T_3dd41178_32b5_11e9_a3f6_acde48001122row0_col9\" class=\"data row0 col9\" >0</td> \n",
       "        <td id=\"T_3dd41178_32b5_11e9_a3f6_acde48001122row0_col10\" class=\"data row0 col10\" >1</td> \n",
       "        <td id=\"T_3dd41178_32b5_11e9_a3f6_acde48001122row0_col11\" class=\"data row0 col11\" >0</td> \n",
       "        <td id=\"T_3dd41178_32b5_11e9_a3f6_acde48001122row0_col12\" class=\"data row0 col12\" >0</td> \n",
       "        <td id=\"T_3dd41178_32b5_11e9_a3f6_acde48001122row0_col13\" class=\"data row0 col13\" >0</td> \n",
       "        <td id=\"T_3dd41178_32b5_11e9_a3f6_acde48001122row0_col14\" class=\"data row0 col14\" >1</td> \n",
       "        <td id=\"T_3dd41178_32b5_11e9_a3f6_acde48001122row0_col15\" class=\"data row0 col15\" >1</td> \n",
       "        <td id=\"T_3dd41178_32b5_11e9_a3f6_acde48001122row0_col16\" class=\"data row0 col16\" >0</td> \n",
       "        <td id=\"T_3dd41178_32b5_11e9_a3f6_acde48001122row0_col17\" class=\"data row0 col17\" >0</td> \n",
       "        <td id=\"T_3dd41178_32b5_11e9_a3f6_acde48001122row0_col18\" class=\"data row0 col18\" >1</td> \n",
       "        <td id=\"T_3dd41178_32b5_11e9_a3f6_acde48001122row0_col19\" class=\"data row0 col19\" >0</td> \n",
       "        <td id=\"T_3dd41178_32b5_11e9_a3f6_acde48001122row0_col20\" class=\"data row0 col20\" >0</td> \n",
       "        <td id=\"T_3dd41178_32b5_11e9_a3f6_acde48001122row0_col21\" class=\"data row0 col21\" >0</td> \n",
       "        <td id=\"T_3dd41178_32b5_11e9_a3f6_acde48001122row0_col22\" class=\"data row0 col22\" >1</td> \n",
       "        <td id=\"T_3dd41178_32b5_11e9_a3f6_acde48001122row0_col23\" class=\"data row0 col23\" >0</td> \n",
       "        <td id=\"T_3dd41178_32b5_11e9_a3f6_acde48001122row0_col24\" class=\"data row0 col24\" >0</td> \n",
       "    </tr>    <tr> \n",
       "        <th id=\"T_3dd41178_32b5_11e9_a3f6_acde48001122level0_row1\" class=\"row_heading level0 row1\" >1</th> \n",
       "        <td id=\"T_3dd41178_32b5_11e9_a3f6_acde48001122row1_col0\" class=\"data row1 col0\" >37</td> \n",
       "        <td id=\"T_3dd41178_32b5_11e9_a3f6_acde48001122row1_col1\" class=\"data row1 col1\" >130</td> \n",
       "        <td id=\"T_3dd41178_32b5_11e9_a3f6_acde48001122row1_col2\" class=\"data row1 col2\" >250</td> \n",
       "        <td id=\"T_3dd41178_32b5_11e9_a3f6_acde48001122row1_col3\" class=\"data row1 col3\" >0</td> \n",
       "        <td id=\"T_3dd41178_32b5_11e9_a3f6_acde48001122row1_col4\" class=\"data row1 col4\" >187</td> \n",
       "        <td id=\"T_3dd41178_32b5_11e9_a3f6_acde48001122row1_col5\" class=\"data row1 col5\" >0</td> \n",
       "        <td id=\"T_3dd41178_32b5_11e9_a3f6_acde48001122row1_col6\" class=\"data row1 col6\" >3.5</td> \n",
       "        <td id=\"T_3dd41178_32b5_11e9_a3f6_acde48001122row1_col7\" class=\"data row1 col7\" >0</td> \n",
       "        <td id=\"T_3dd41178_32b5_11e9_a3f6_acde48001122row1_col8\" class=\"data row1 col8\" >1</td> \n",
       "        <td id=\"T_3dd41178_32b5_11e9_a3f6_acde48001122row1_col9\" class=\"data row1 col9\" >0</td> \n",
       "        <td id=\"T_3dd41178_32b5_11e9_a3f6_acde48001122row1_col10\" class=\"data row1 col10\" >1</td> \n",
       "        <td id=\"T_3dd41178_32b5_11e9_a3f6_acde48001122row1_col11\" class=\"data row1 col11\" >0</td> \n",
       "        <td id=\"T_3dd41178_32b5_11e9_a3f6_acde48001122row1_col12\" class=\"data row1 col12\" >0</td> \n",
       "        <td id=\"T_3dd41178_32b5_11e9_a3f6_acde48001122row1_col13\" class=\"data row1 col13\" >1</td> \n",
       "        <td id=\"T_3dd41178_32b5_11e9_a3f6_acde48001122row1_col14\" class=\"data row1 col14\" >0</td> \n",
       "        <td id=\"T_3dd41178_32b5_11e9_a3f6_acde48001122row1_col15\" class=\"data row1 col15\" >0</td> \n",
       "        <td id=\"T_3dd41178_32b5_11e9_a3f6_acde48001122row1_col16\" class=\"data row1 col16\" >1</td> \n",
       "        <td id=\"T_3dd41178_32b5_11e9_a3f6_acde48001122row1_col17\" class=\"data row1 col17\" >0</td> \n",
       "        <td id=\"T_3dd41178_32b5_11e9_a3f6_acde48001122row1_col18\" class=\"data row1 col18\" >1</td> \n",
       "        <td id=\"T_3dd41178_32b5_11e9_a3f6_acde48001122row1_col19\" class=\"data row1 col19\" >0</td> \n",
       "        <td id=\"T_3dd41178_32b5_11e9_a3f6_acde48001122row1_col20\" class=\"data row1 col20\" >0</td> \n",
       "        <td id=\"T_3dd41178_32b5_11e9_a3f6_acde48001122row1_col21\" class=\"data row1 col21\" >0</td> \n",
       "        <td id=\"T_3dd41178_32b5_11e9_a3f6_acde48001122row1_col22\" class=\"data row1 col22\" >0</td> \n",
       "        <td id=\"T_3dd41178_32b5_11e9_a3f6_acde48001122row1_col23\" class=\"data row1 col23\" >1</td> \n",
       "        <td id=\"T_3dd41178_32b5_11e9_a3f6_acde48001122row1_col24\" class=\"data row1 col24\" >0</td> \n",
       "    </tr>    <tr> \n",
       "        <th id=\"T_3dd41178_32b5_11e9_a3f6_acde48001122level0_row2\" class=\"row_heading level0 row2\" >2</th> \n",
       "        <td id=\"T_3dd41178_32b5_11e9_a3f6_acde48001122row2_col0\" class=\"data row2 col0\" >41</td> \n",
       "        <td id=\"T_3dd41178_32b5_11e9_a3f6_acde48001122row2_col1\" class=\"data row2 col1\" >130</td> \n",
       "        <td id=\"T_3dd41178_32b5_11e9_a3f6_acde48001122row2_col2\" class=\"data row2 col2\" >204</td> \n",
       "        <td id=\"T_3dd41178_32b5_11e9_a3f6_acde48001122row2_col3\" class=\"data row2 col3\" >0</td> \n",
       "        <td id=\"T_3dd41178_32b5_11e9_a3f6_acde48001122row2_col4\" class=\"data row2 col4\" >172</td> \n",
       "        <td id=\"T_3dd41178_32b5_11e9_a3f6_acde48001122row2_col5\" class=\"data row2 col5\" >0</td> \n",
       "        <td id=\"T_3dd41178_32b5_11e9_a3f6_acde48001122row2_col6\" class=\"data row2 col6\" >1.4</td> \n",
       "        <td id=\"T_3dd41178_32b5_11e9_a3f6_acde48001122row2_col7\" class=\"data row2 col7\" >0</td> \n",
       "        <td id=\"T_3dd41178_32b5_11e9_a3f6_acde48001122row2_col8\" class=\"data row2 col8\" >1</td> \n",
       "        <td id=\"T_3dd41178_32b5_11e9_a3f6_acde48001122row2_col9\" class=\"data row2 col9\" >1</td> \n",
       "        <td id=\"T_3dd41178_32b5_11e9_a3f6_acde48001122row2_col10\" class=\"data row2 col10\" >0</td> \n",
       "        <td id=\"T_3dd41178_32b5_11e9_a3f6_acde48001122row2_col11\" class=\"data row2 col11\" >0</td> \n",
       "        <td id=\"T_3dd41178_32b5_11e9_a3f6_acde48001122row2_col12\" class=\"data row2 col12\" >1</td> \n",
       "        <td id=\"T_3dd41178_32b5_11e9_a3f6_acde48001122row2_col13\" class=\"data row2 col13\" >0</td> \n",
       "        <td id=\"T_3dd41178_32b5_11e9_a3f6_acde48001122row2_col14\" class=\"data row2 col14\" >0</td> \n",
       "        <td id=\"T_3dd41178_32b5_11e9_a3f6_acde48001122row2_col15\" class=\"data row2 col15\" >1</td> \n",
       "        <td id=\"T_3dd41178_32b5_11e9_a3f6_acde48001122row2_col16\" class=\"data row2 col16\" >0</td> \n",
       "        <td id=\"T_3dd41178_32b5_11e9_a3f6_acde48001122row2_col17\" class=\"data row2 col17\" >0</td> \n",
       "        <td id=\"T_3dd41178_32b5_11e9_a3f6_acde48001122row2_col18\" class=\"data row2 col18\" >0</td> \n",
       "        <td id=\"T_3dd41178_32b5_11e9_a3f6_acde48001122row2_col19\" class=\"data row2 col19\" >0</td> \n",
       "        <td id=\"T_3dd41178_32b5_11e9_a3f6_acde48001122row2_col20\" class=\"data row2 col20\" >1</td> \n",
       "        <td id=\"T_3dd41178_32b5_11e9_a3f6_acde48001122row2_col21\" class=\"data row2 col21\" >0</td> \n",
       "        <td id=\"T_3dd41178_32b5_11e9_a3f6_acde48001122row2_col22\" class=\"data row2 col22\" >0</td> \n",
       "        <td id=\"T_3dd41178_32b5_11e9_a3f6_acde48001122row2_col23\" class=\"data row2 col23\" >1</td> \n",
       "        <td id=\"T_3dd41178_32b5_11e9_a3f6_acde48001122row2_col24\" class=\"data row2 col24\" >0</td> \n",
       "    </tr>    <tr> \n",
       "        <th id=\"T_3dd41178_32b5_11e9_a3f6_acde48001122level0_row3\" class=\"row_heading level0 row3\" >3</th> \n",
       "        <td id=\"T_3dd41178_32b5_11e9_a3f6_acde48001122row3_col0\" class=\"data row3 col0\" >56</td> \n",
       "        <td id=\"T_3dd41178_32b5_11e9_a3f6_acde48001122row3_col1\" class=\"data row3 col1\" >120</td> \n",
       "        <td id=\"T_3dd41178_32b5_11e9_a3f6_acde48001122row3_col2\" class=\"data row3 col2\" >236</td> \n",
       "        <td id=\"T_3dd41178_32b5_11e9_a3f6_acde48001122row3_col3\" class=\"data row3 col3\" >0</td> \n",
       "        <td id=\"T_3dd41178_32b5_11e9_a3f6_acde48001122row3_col4\" class=\"data row3 col4\" >178</td> \n",
       "        <td id=\"T_3dd41178_32b5_11e9_a3f6_acde48001122row3_col5\" class=\"data row3 col5\" >0</td> \n",
       "        <td id=\"T_3dd41178_32b5_11e9_a3f6_acde48001122row3_col6\" class=\"data row3 col6\" >0.8</td> \n",
       "        <td id=\"T_3dd41178_32b5_11e9_a3f6_acde48001122row3_col7\" class=\"data row3 col7\" >0</td> \n",
       "        <td id=\"T_3dd41178_32b5_11e9_a3f6_acde48001122row3_col8\" class=\"data row3 col8\" >1</td> \n",
       "        <td id=\"T_3dd41178_32b5_11e9_a3f6_acde48001122row3_col9\" class=\"data row3 col9\" >0</td> \n",
       "        <td id=\"T_3dd41178_32b5_11e9_a3f6_acde48001122row3_col10\" class=\"data row3 col10\" >1</td> \n",
       "        <td id=\"T_3dd41178_32b5_11e9_a3f6_acde48001122row3_col11\" class=\"data row3 col11\" >0</td> \n",
       "        <td id=\"T_3dd41178_32b5_11e9_a3f6_acde48001122row3_col12\" class=\"data row3 col12\" >1</td> \n",
       "        <td id=\"T_3dd41178_32b5_11e9_a3f6_acde48001122row3_col13\" class=\"data row3 col13\" >0</td> \n",
       "        <td id=\"T_3dd41178_32b5_11e9_a3f6_acde48001122row3_col14\" class=\"data row3 col14\" >0</td> \n",
       "        <td id=\"T_3dd41178_32b5_11e9_a3f6_acde48001122row3_col15\" class=\"data row3 col15\" >0</td> \n",
       "        <td id=\"T_3dd41178_32b5_11e9_a3f6_acde48001122row3_col16\" class=\"data row3 col16\" >1</td> \n",
       "        <td id=\"T_3dd41178_32b5_11e9_a3f6_acde48001122row3_col17\" class=\"data row3 col17\" >0</td> \n",
       "        <td id=\"T_3dd41178_32b5_11e9_a3f6_acde48001122row3_col18\" class=\"data row3 col18\" >0</td> \n",
       "        <td id=\"T_3dd41178_32b5_11e9_a3f6_acde48001122row3_col19\" class=\"data row3 col19\" >0</td> \n",
       "        <td id=\"T_3dd41178_32b5_11e9_a3f6_acde48001122row3_col20\" class=\"data row3 col20\" >1</td> \n",
       "        <td id=\"T_3dd41178_32b5_11e9_a3f6_acde48001122row3_col21\" class=\"data row3 col21\" >0</td> \n",
       "        <td id=\"T_3dd41178_32b5_11e9_a3f6_acde48001122row3_col22\" class=\"data row3 col22\" >0</td> \n",
       "        <td id=\"T_3dd41178_32b5_11e9_a3f6_acde48001122row3_col23\" class=\"data row3 col23\" >1</td> \n",
       "        <td id=\"T_3dd41178_32b5_11e9_a3f6_acde48001122row3_col24\" class=\"data row3 col24\" >0</td> \n",
       "    </tr>    <tr> \n",
       "        <th id=\"T_3dd41178_32b5_11e9_a3f6_acde48001122level0_row4\" class=\"row_heading level0 row4\" >4</th> \n",
       "        <td id=\"T_3dd41178_32b5_11e9_a3f6_acde48001122row4_col0\" class=\"data row4 col0\" >57</td> \n",
       "        <td id=\"T_3dd41178_32b5_11e9_a3f6_acde48001122row4_col1\" class=\"data row4 col1\" >120</td> \n",
       "        <td id=\"T_3dd41178_32b5_11e9_a3f6_acde48001122row4_col2\" class=\"data row4 col2\" >354</td> \n",
       "        <td id=\"T_3dd41178_32b5_11e9_a3f6_acde48001122row4_col3\" class=\"data row4 col3\" >0</td> \n",
       "        <td id=\"T_3dd41178_32b5_11e9_a3f6_acde48001122row4_col4\" class=\"data row4 col4\" >163</td> \n",
       "        <td id=\"T_3dd41178_32b5_11e9_a3f6_acde48001122row4_col5\" class=\"data row4 col5\" >1</td> \n",
       "        <td id=\"T_3dd41178_32b5_11e9_a3f6_acde48001122row4_col6\" class=\"data row4 col6\" >0.6</td> \n",
       "        <td id=\"T_3dd41178_32b5_11e9_a3f6_acde48001122row4_col7\" class=\"data row4 col7\" >0</td> \n",
       "        <td id=\"T_3dd41178_32b5_11e9_a3f6_acde48001122row4_col8\" class=\"data row4 col8\" >1</td> \n",
       "        <td id=\"T_3dd41178_32b5_11e9_a3f6_acde48001122row4_col9\" class=\"data row4 col9\" >1</td> \n",
       "        <td id=\"T_3dd41178_32b5_11e9_a3f6_acde48001122row4_col10\" class=\"data row4 col10\" >0</td> \n",
       "        <td id=\"T_3dd41178_32b5_11e9_a3f6_acde48001122row4_col11\" class=\"data row4 col11\" >1</td> \n",
       "        <td id=\"T_3dd41178_32b5_11e9_a3f6_acde48001122row4_col12\" class=\"data row4 col12\" >0</td> \n",
       "        <td id=\"T_3dd41178_32b5_11e9_a3f6_acde48001122row4_col13\" class=\"data row4 col13\" >0</td> \n",
       "        <td id=\"T_3dd41178_32b5_11e9_a3f6_acde48001122row4_col14\" class=\"data row4 col14\" >0</td> \n",
       "        <td id=\"T_3dd41178_32b5_11e9_a3f6_acde48001122row4_col15\" class=\"data row4 col15\" >0</td> \n",
       "        <td id=\"T_3dd41178_32b5_11e9_a3f6_acde48001122row4_col16\" class=\"data row4 col16\" >1</td> \n",
       "        <td id=\"T_3dd41178_32b5_11e9_a3f6_acde48001122row4_col17\" class=\"data row4 col17\" >0</td> \n",
       "        <td id=\"T_3dd41178_32b5_11e9_a3f6_acde48001122row4_col18\" class=\"data row4 col18\" >0</td> \n",
       "        <td id=\"T_3dd41178_32b5_11e9_a3f6_acde48001122row4_col19\" class=\"data row4 col19\" >0</td> \n",
       "        <td id=\"T_3dd41178_32b5_11e9_a3f6_acde48001122row4_col20\" class=\"data row4 col20\" >1</td> \n",
       "        <td id=\"T_3dd41178_32b5_11e9_a3f6_acde48001122row4_col21\" class=\"data row4 col21\" >0</td> \n",
       "        <td id=\"T_3dd41178_32b5_11e9_a3f6_acde48001122row4_col22\" class=\"data row4 col22\" >0</td> \n",
       "        <td id=\"T_3dd41178_32b5_11e9_a3f6_acde48001122row4_col23\" class=\"data row4 col23\" >1</td> \n",
       "        <td id=\"T_3dd41178_32b5_11e9_a3f6_acde48001122row4_col24\" class=\"data row4 col24\" >0</td> \n",
       "    </tr></tbody> \n",
       "</table> "
      ],
      "text/plain": [
       "<pandas.io.formats.style.Styler at 0x1c1f534d68>"
      ]
     },
     "execution_count": 9,
     "metadata": {},
     "output_type": "execute_result"
    }
   ],
   "source": [
    "data.head().style"
   ]
  },
  {
   "cell_type": "markdown",
   "metadata": {},
   "source": [
    "## Explanatory Data Analysis\n"
   ]
  },
  {
   "cell_type": "code",
   "execution_count": 227,
   "metadata": {
    "scrolled": true
   },
   "outputs": [
    {
     "name": "stdout",
     "output_type": "stream",
     "text": [
      "<class 'pandas.core.frame.DataFrame'>\n",
      "Index: 303 entries, 0 to 302\n",
      "Data columns (total 25 columns):\n",
      "age                                     303 non-null int64\n",
      "trestbps                                303 non-null int64\n",
      "chol                                    303 non-null int64\n",
      "fbs                                     303 non-null int64\n",
      "thalach                                 303 non-null int64\n",
      "exang                                   303 non-null int64\n",
      "oldpeak                                 303 non-null float64\n",
      "ca                                      303 non-null int64\n",
      "target                                  303 non-null int64\n",
      "sex_female                              303 non-null uint8\n",
      "sex_male                                303 non-null uint8\n",
      "cp_typical angina                       303 non-null uint8\n",
      "cp_angina                               303 non-null uint8\n",
      "cp_non-anginal pain                     303 non-null uint8\n",
      "cp_asymptomatic                         303 non-null uint8\n",
      "restecg_normal                          303 non-null uint8\n",
      "restecg_ST-T wave abnormality           303 non-null uint8\n",
      "restecg_left ventricular hypertrophy    303 non-null uint8\n",
      "slope_upsloping                         303 non-null uint8\n",
      "slope_flat                              303 non-null uint8\n",
      "slope_downsloping                       303 non-null uint8\n",
      "thal_0                                  303 non-null uint8\n",
      "thal_1                                  303 non-null uint8\n",
      "thal_2                                  303 non-null uint8\n",
      "thal_3                                  303 non-null uint8\n",
      "dtypes: float64(1), int64(8), uint8(16)\n",
      "memory usage: 28.4+ KB\n"
     ]
    }
   ],
   "source": [
    "data.info()  #No NAs"
   ]
  },
  {
   "cell_type": "code",
   "execution_count": 228,
   "metadata": {},
   "outputs": [
    {
     "name": "stdout",
     "output_type": "stream",
     "text": [
      "Dimensions of original data: (303, 25)\n"
     ]
    }
   ],
   "source": [
    "# Print the dimensions of the original Hitters data (322 rows x 20 columns)\n",
    "print(\"Dimensions of original data:\", data.shape)\n",
    "# From herer it can be seen that the data set is big, 18207 rows and 89 columns!"
   ]
  },
  {
   "cell_type": "code",
   "execution_count": 229,
   "metadata": {},
   "outputs": [
    {
     "data": {
      "text/plain": [
       "165"
      ]
     },
     "execution_count": 229,
     "metadata": {},
     "output_type": "execute_result"
    }
   ],
   "source": [
    "(data['target'] == 1).sum()"
   ]
  },
  {
   "cell_type": "code",
   "execution_count": 230,
   "metadata": {},
   "outputs": [
    {
     "data": {
      "text/plain": [
       "138"
      ]
     },
     "execution_count": 230,
     "metadata": {},
     "output_type": "execute_result"
    }
   ],
   "source": [
    "(data['target'] == 0).sum()"
   ]
  },
  {
   "cell_type": "markdown",
   "metadata": {},
   "source": [
    "### Data is not Imbalanced "
   ]
  },
  {
   "cell_type": "markdown",
   "metadata": {},
   "source": [
    "## Visualizing the data"
   ]
  },
  {
   "cell_type": "code",
   "execution_count": 10,
   "metadata": {},
   "outputs": [
    {
     "data": {
      "image/png": "[encoded data removed]",
      "text/plain": [
       "<Figure size 576x360 with 2 Axes>"
      ]
     },
     "metadata": {
      "needs_background": "light"
     },
     "output_type": "display_data"
    }
   ],
   "source": [
    "# plot response\n",
    "keys, counts = np.unique(data.target, return_counts=True)\n",
    "counts_norm = counts/counts.sum()\n",
    "\n",
    "fig = plt.figure(figsize=(8, 5)) #specify figure size\n",
    "gs = gridspec.GridSpec(1, 2, width_ratios=[2,1]) #specify relative size of left and right plot\n",
    "\n",
    "#Absolute values\n",
    "ax0 = plt.subplot(gs[0])\n",
    "ax0 = plt.bar(['No heart desease', 'Heart desease'], counts, color=['#1f77b4','#ff7f0e']) #left bar plot\n",
    "ax0 = plt.title('Absolute response distribution') \n",
    "ax0 = plt.ylabel('count')\n",
    "ax0 = plt.text(keys[0], counts[0]/2, counts[0]) #add text box with count of non-fraudulent cases\n",
    "ax0 = plt.text(keys[1], counts[1]/2, counts[1]) #add text box with count of fraudulent cases\n",
    "\n",
    "#Normalized values\n",
    "ax1 = plt.subplot(gs[1])\n",
    "ax1 = plt.bar(['Has heart desease'], [counts_norm[0]], label='0 (no)')\n",
    "ax1 = plt.bar(['Has heart desease'], [counts_norm[1]], bottom=counts_norm[0], label='1 (yes)')\n",
    "ax1 = plt.legend(bbox_to_anchor=(1, 1))\n",
    "ax1 = plt.title('Relative response distribution')\n",
    "ax1 = plt.ylabel('frequency')\n",
    "ax1 = plt.text(['Has heart desease'],counts_norm[0]/2, '{}%'.format((counts_norm[0]*100).round(1)))\n",
    "ax1 = plt.text(['Has heart desease'],(counts_norm[1]/2)+counts_norm[0], '{}%'.format((counts_norm[1]*100).round(1)))\n",
    "\n",
    "plt.tight_layout()\n",
    "plt.show()"
   ]
  },
  {
   "cell_type": "code",
   "execution_count": 11,
   "metadata": {},
   "outputs": [
    {
     "data": {
      "image/png": "[encoded data removed]",
      "text/plain": [
       "<Figure size 1080x360 with 1 Axes>"
      ]
     },
     "metadata": {
      "needs_background": "light"
     },
     "output_type": "display_data"
    }
   ],
   "source": [
    "pd.crosstab(data.age,data.target).plot(kind=\"bar\",figsize=(15,5),)\n",
    "heart_disease = ['No' , 'Yes']\n",
    "plt.title('Heart Disease Frequency for different age groups')\n",
    "plt.xlabel('Age')\n",
    "plt.ylabel('Frequency')\n",
    "plt.legend(heart_disease)\n",
    "plt.show()\n"
   ]
  },
  {
   "cell_type": "markdown",
   "metadata": {},
   "source": [
    "## Data Preprocessing "
   ]
  },
  {
   "cell_type": "code",
   "execution_count": 12,
   "metadata": {},
   "outputs": [],
   "source": [
    "X, y = data.loc[:, data.columns != 'target'], data['target']"
   ]
  },
  {
   "cell_type": "code",
   "execution_count": 13,
   "metadata": {},
   "outputs": [
    {
     "data": {
      "text/html": [
       "<div>\n",
       "<style scoped>\n",
       "    .dataframe tbody tr th:only-of-type {\n",
       "        vertical-align: middle;\n",
       "    }\n",
       "\n",
       "    .dataframe tbody tr th {\n",
       "        vertical-align: top;\n",
       "    }\n",
       "\n",
       "    .dataframe thead th {\n",
       "        text-align: right;\n",
       "    }\n",
       "</style>\n",
       "<table border=\"1\" class=\"dataframe\">\n",
       "  <thead>\n",
       "    <tr style=\"text-align: right;\">\n",
       "      <th></th>\n",
       "      <th>age</th>\n",
       "      <th>trestbps</th>\n",
       "      <th>chol</th>\n",
       "      <th>fbs</th>\n",
       "      <th>thalach</th>\n",
       "      <th>exang</th>\n",
       "      <th>oldpeak</th>\n",
       "      <th>ca</th>\n",
       "      <th>sex_female</th>\n",
       "      <th>sex_male</th>\n",
       "      <th>...</th>\n",
       "      <th>restecg_normal</th>\n",
       "      <th>restecg_ST-T wave abnormality</th>\n",
       "      <th>restecg_left ventricular hypertrophy</th>\n",
       "      <th>slope_upsloping</th>\n",
       "      <th>slope_flat</th>\n",
       "      <th>slope_downsloping</th>\n",
       "      <th>thal_0</th>\n",
       "      <th>thal_1</th>\n",
       "      <th>thal_2</th>\n",
       "      <th>thal_3</th>\n",
       "    </tr>\n",
       "  </thead>\n",
       "  <tbody>\n",
       "    <tr>\n",
       "      <th>0</th>\n",
       "      <td>63</td>\n",
       "      <td>145</td>\n",
       "      <td>233</td>\n",
       "      <td>1</td>\n",
       "      <td>150</td>\n",
       "      <td>0</td>\n",
       "      <td>2.3</td>\n",
       "      <td>0</td>\n",
       "      <td>0</td>\n",
       "      <td>1</td>\n",
       "      <td>...</td>\n",
       "      <td>1</td>\n",
       "      <td>0</td>\n",
       "      <td>0</td>\n",
       "      <td>1</td>\n",
       "      <td>0</td>\n",
       "      <td>0</td>\n",
       "      <td>0</td>\n",
       "      <td>1</td>\n",
       "      <td>0</td>\n",
       "      <td>0</td>\n",
       "    </tr>\n",
       "    <tr>\n",
       "      <th>1</th>\n",
       "      <td>37</td>\n",
       "      <td>130</td>\n",
       "      <td>250</td>\n",
       "      <td>0</td>\n",
       "      <td>187</td>\n",
       "      <td>0</td>\n",
       "      <td>3.5</td>\n",
       "      <td>0</td>\n",
       "      <td>0</td>\n",
       "      <td>1</td>\n",
       "      <td>...</td>\n",
       "      <td>0</td>\n",
       "      <td>1</td>\n",
       "      <td>0</td>\n",
       "      <td>1</td>\n",
       "      <td>0</td>\n",
       "      <td>0</td>\n",
       "      <td>0</td>\n",
       "      <td>0</td>\n",
       "      <td>1</td>\n",
       "      <td>0</td>\n",
       "    </tr>\n",
       "    <tr>\n",
       "      <th>2</th>\n",
       "      <td>41</td>\n",
       "      <td>130</td>\n",
       "      <td>204</td>\n",
       "      <td>0</td>\n",
       "      <td>172</td>\n",
       "      <td>0</td>\n",
       "      <td>1.4</td>\n",
       "      <td>0</td>\n",
       "      <td>1</td>\n",
       "      <td>0</td>\n",
       "      <td>...</td>\n",
       "      <td>1</td>\n",
       "      <td>0</td>\n",
       "      <td>0</td>\n",
       "      <td>0</td>\n",
       "      <td>0</td>\n",
       "      <td>1</td>\n",
       "      <td>0</td>\n",
       "      <td>0</td>\n",
       "      <td>1</td>\n",
       "      <td>0</td>\n",
       "    </tr>\n",
       "    <tr>\n",
       "      <th>3</th>\n",
       "      <td>56</td>\n",
       "      <td>120</td>\n",
       "      <td>236</td>\n",
       "      <td>0</td>\n",
       "      <td>178</td>\n",
       "      <td>0</td>\n",
       "      <td>0.8</td>\n",
       "      <td>0</td>\n",
       "      <td>0</td>\n",
       "      <td>1</td>\n",
       "      <td>...</td>\n",
       "      <td>0</td>\n",
       "      <td>1</td>\n",
       "      <td>0</td>\n",
       "      <td>0</td>\n",
       "      <td>0</td>\n",
       "      <td>1</td>\n",
       "      <td>0</td>\n",
       "      <td>0</td>\n",
       "      <td>1</td>\n",
       "      <td>0</td>\n",
       "    </tr>\n",
       "    <tr>\n",
       "      <th>4</th>\n",
       "      <td>57</td>\n",
       "      <td>120</td>\n",
       "      <td>354</td>\n",
       "      <td>0</td>\n",
       "      <td>163</td>\n",
       "      <td>1</td>\n",
       "      <td>0.6</td>\n",
       "      <td>0</td>\n",
       "      <td>1</td>\n",
       "      <td>0</td>\n",
       "      <td>...</td>\n",
       "      <td>0</td>\n",
       "      <td>1</td>\n",
       "      <td>0</td>\n",
       "      <td>0</td>\n",
       "      <td>0</td>\n",
       "      <td>1</td>\n",
       "      <td>0</td>\n",
       "      <td>0</td>\n",
       "      <td>1</td>\n",
       "      <td>0</td>\n",
       "    </tr>\n",
       "  </tbody>\n",
       "</table>\n",
       "<p>5 rows × 24 columns</p>\n",
       "</div>"
      ],
      "text/plain": [
       "   age  trestbps  chol  fbs  thalach  exang  oldpeak  ca  sex_female  \\\n",
       "0   63       145   233    1      150      0      2.3   0           0   \n",
       "1   37       130   250    0      187      0      3.5   0           0   \n",
       "2   41       130   204    0      172      0      1.4   0           1   \n",
       "3   56       120   236    0      178      0      0.8   0           0   \n",
       "4   57       120   354    0      163      1      0.6   0           1   \n",
       "\n",
       "   sex_male   ...    restecg_normal  restecg_ST-T wave abnormality  \\\n",
       "0         1   ...                 1                              0   \n",
       "1         1   ...                 0                              1   \n",
       "2         0   ...                 1                              0   \n",
       "3         1   ...                 0                              1   \n",
       "4         0   ...                 0                              1   \n",
       "\n",
       "   restecg_left ventricular hypertrophy  slope_upsloping  slope_flat  \\\n",
       "0                                     0                1           0   \n",
       "1                                     0                1           0   \n",
       "2                                     0                0           0   \n",
       "3                                     0                0           0   \n",
       "4                                     0                0           0   \n",
       "\n",
       "   slope_downsloping  thal_0  thal_1  thal_2  thal_3  \n",
       "0                  0       0       1       0       0  \n",
       "1                  0       0       0       1       0  \n",
       "2                  1       0       0       1       0  \n",
       "3                  1       0       0       1       0  \n",
       "4                  1       0       0       1       0  \n",
       "\n",
       "[5 rows x 24 columns]"
      ]
     },
     "execution_count": 13,
     "metadata": {},
     "output_type": "execute_result"
    }
   ],
   "source": [
    "X.head()\n"
   ]
  },
  {
   "cell_type": "code",
   "execution_count": 235,
   "metadata": {},
   "outputs": [
    {
     "data": {
      "text/plain": [
       "0    1\n",
       "1    1\n",
       "2    1\n",
       "3    1\n",
       "4    1\n",
       "Name: target, dtype: int64"
      ]
     },
     "execution_count": 235,
     "metadata": {},
     "output_type": "execute_result"
    }
   ],
   "source": [
    "y.head()"
   ]
  },
  {
   "cell_type": "markdown",
   "metadata": {},
   "source": [
    "### Feature Scaling"
   ]
  },
  {
   "cell_type": "code",
   "execution_count": 14,
   "metadata": {},
   "outputs": [],
   "source": [
    "#Normalizing the data\n",
    "scaled_X = preprocessing.quantile_transform(X)\n",
    "\n",
    "pd_scaled_X  = pd.DataFrame(scaled_X)"
   ]
  },
  {
   "cell_type": "code",
   "execution_count": 15,
   "metadata": {},
   "outputs": [
    {
     "data": {
      "text/html": [
       "<div>\n",
       "<style scoped>\n",
       "    .dataframe tbody tr th:only-of-type {\n",
       "        vertical-align: middle;\n",
       "    }\n",
       "\n",
       "    .dataframe tbody tr th {\n",
       "        vertical-align: top;\n",
       "    }\n",
       "\n",
       "    .dataframe thead th {\n",
       "        text-align: right;\n",
       "    }\n",
       "</style>\n",
       "<table border=\"1\" class=\"dataframe\">\n",
       "  <thead>\n",
       "    <tr style=\"text-align: right;\">\n",
       "      <th></th>\n",
       "      <th>0</th>\n",
       "      <th>1</th>\n",
       "      <th>2</th>\n",
       "      <th>3</th>\n",
       "      <th>4</th>\n",
       "      <th>5</th>\n",
       "      <th>6</th>\n",
       "      <th>7</th>\n",
       "      <th>8</th>\n",
       "      <th>9</th>\n",
       "      <th>...</th>\n",
       "      <th>14</th>\n",
       "      <th>15</th>\n",
       "      <th>16</th>\n",
       "      <th>17</th>\n",
       "      <th>18</th>\n",
       "      <th>19</th>\n",
       "      <th>20</th>\n",
       "      <th>21</th>\n",
       "      <th>22</th>\n",
       "      <th>23</th>\n",
       "    </tr>\n",
       "  </thead>\n",
       "  <tbody>\n",
       "    <tr>\n",
       "      <th>0</th>\n",
       "      <td>0.817818</td>\n",
       "      <td>0.811311</td>\n",
       "      <td>0.428929</td>\n",
       "      <td>9.999999e-01</td>\n",
       "      <td>0.446947</td>\n",
       "      <td>1.000000e-07</td>\n",
       "      <td>0.855856</td>\n",
       "      <td>1.000000e-07</td>\n",
       "      <td>1.000000e-07</td>\n",
       "      <td>9.999999e-01</td>\n",
       "      <td>...</td>\n",
       "      <td>9.999999e-01</td>\n",
       "      <td>1.000000e-07</td>\n",
       "      <td>1.000000e-07</td>\n",
       "      <td>9.999999e-01</td>\n",
       "      <td>1.000000e-07</td>\n",
       "      <td>1.000000e-07</td>\n",
       "      <td>1.000000e-07</td>\n",
       "      <td>9.999999e-01</td>\n",
       "      <td>1.000000e-07</td>\n",
       "      <td>1.000000e-07</td>\n",
       "    </tr>\n",
       "    <tr>\n",
       "      <th>1</th>\n",
       "      <td>0.025025</td>\n",
       "      <td>0.505005</td>\n",
       "      <td>0.579580</td>\n",
       "      <td>1.000000e-07</td>\n",
       "      <td>0.980132</td>\n",
       "      <td>1.000000e-07</td>\n",
       "      <td>0.956954</td>\n",
       "      <td>1.000000e-07</td>\n",
       "      <td>1.000000e-07</td>\n",
       "      <td>9.999999e-01</td>\n",
       "      <td>...</td>\n",
       "      <td>1.000000e-07</td>\n",
       "      <td>9.999999e-01</td>\n",
       "      <td>1.000000e-07</td>\n",
       "      <td>9.999999e-01</td>\n",
       "      <td>1.000000e-07</td>\n",
       "      <td>1.000000e-07</td>\n",
       "      <td>1.000000e-07</td>\n",
       "      <td>1.000000e-07</td>\n",
       "      <td>9.999999e-01</td>\n",
       "      <td>1.000000e-07</td>\n",
       "    </tr>\n",
       "    <tr>\n",
       "      <th>2</th>\n",
       "      <td>0.077578</td>\n",
       "      <td>0.505005</td>\n",
       "      <td>0.197197</td>\n",
       "      <td>1.000000e-07</td>\n",
       "      <td>0.834334</td>\n",
       "      <td>1.000000e-07</td>\n",
       "      <td>0.682182</td>\n",
       "      <td>1.000000e-07</td>\n",
       "      <td>9.999999e-01</td>\n",
       "      <td>1.000000e-07</td>\n",
       "      <td>...</td>\n",
       "      <td>9.999999e-01</td>\n",
       "      <td>1.000000e-07</td>\n",
       "      <td>1.000000e-07</td>\n",
       "      <td>1.000000e-07</td>\n",
       "      <td>1.000000e-07</td>\n",
       "      <td>9.999999e-01</td>\n",
       "      <td>1.000000e-07</td>\n",
       "      <td>1.000000e-07</td>\n",
       "      <td>9.999999e-01</td>\n",
       "      <td>1.000000e-07</td>\n",
       "    </tr>\n",
       "    <tr>\n",
       "      <th>3</th>\n",
       "      <td>0.519520</td>\n",
       "      <td>0.258258</td>\n",
       "      <td>0.466967</td>\n",
       "      <td>1.000000e-07</td>\n",
       "      <td>0.910911</td>\n",
       "      <td>1.000000e-07</td>\n",
       "      <td>0.516517</td>\n",
       "      <td>1.000000e-07</td>\n",
       "      <td>1.000000e-07</td>\n",
       "      <td>9.999999e-01</td>\n",
       "      <td>...</td>\n",
       "      <td>1.000000e-07</td>\n",
       "      <td>9.999999e-01</td>\n",
       "      <td>1.000000e-07</td>\n",
       "      <td>1.000000e-07</td>\n",
       "      <td>1.000000e-07</td>\n",
       "      <td>9.999999e-01</td>\n",
       "      <td>1.000000e-07</td>\n",
       "      <td>1.000000e-07</td>\n",
       "      <td>9.999999e-01</td>\n",
       "      <td>1.000000e-07</td>\n",
       "    </tr>\n",
       "    <tr>\n",
       "      <th>4</th>\n",
       "      <td>0.566567</td>\n",
       "      <td>0.258258</td>\n",
       "      <td>0.980009</td>\n",
       "      <td>1.000000e-07</td>\n",
       "      <td>0.705205</td>\n",
       "      <td>9.999999e-01</td>\n",
       "      <td>0.468468</td>\n",
       "      <td>1.000000e-07</td>\n",
       "      <td>9.999999e-01</td>\n",
       "      <td>1.000000e-07</td>\n",
       "      <td>...</td>\n",
       "      <td>1.000000e-07</td>\n",
       "      <td>9.999999e-01</td>\n",
       "      <td>1.000000e-07</td>\n",
       "      <td>1.000000e-07</td>\n",
       "      <td>1.000000e-07</td>\n",
       "      <td>9.999999e-01</td>\n",
       "      <td>1.000000e-07</td>\n",
       "      <td>1.000000e-07</td>\n",
       "      <td>9.999999e-01</td>\n",
       "      <td>1.000000e-07</td>\n",
       "    </tr>\n",
       "  </tbody>\n",
       "</table>\n",
       "<p>5 rows × 24 columns</p>\n",
       "</div>"
      ],
      "text/plain": [
       "         0         1         2             3         4             5   \\\n",
       "0  0.817818  0.811311  0.428929  9.999999e-01  0.446947  1.000000e-07   \n",
       "1  0.025025  0.505005  0.579580  1.000000e-07  0.980132  1.000000e-07   \n",
       "2  0.077578  0.505005  0.197197  1.000000e-07  0.834334  1.000000e-07   \n",
       "3  0.519520  0.258258  0.466967  1.000000e-07  0.910911  1.000000e-07   \n",
       "4  0.566567  0.258258  0.980009  1.000000e-07  0.705205  9.999999e-01   \n",
       "\n",
       "         6             7             8             9       ...       \\\n",
       "0  0.855856  1.000000e-07  1.000000e-07  9.999999e-01      ...        \n",
       "1  0.956954  1.000000e-07  1.000000e-07  9.999999e-01      ...        \n",
       "2  0.682182  1.000000e-07  9.999999e-01  1.000000e-07      ...        \n",
       "3  0.516517  1.000000e-07  1.000000e-07  9.999999e-01      ...        \n",
       "4  0.468468  1.000000e-07  9.999999e-01  1.000000e-07      ...        \n",
       "\n",
       "             14            15            16            17            18  \\\n",
       "0  9.999999e-01  1.000000e-07  1.000000e-07  9.999999e-01  1.000000e-07   \n",
       "1  1.000000e-07  9.999999e-01  1.000000e-07  9.999999e-01  1.000000e-07   \n",
       "2  9.999999e-01  1.000000e-07  1.000000e-07  1.000000e-07  1.000000e-07   \n",
       "3  1.000000e-07  9.999999e-01  1.000000e-07  1.000000e-07  1.000000e-07   \n",
       "4  1.000000e-07  9.999999e-01  1.000000e-07  1.000000e-07  1.000000e-07   \n",
       "\n",
       "             19            20            21            22            23  \n",
       "0  1.000000e-07  1.000000e-07  9.999999e-01  1.000000e-07  1.000000e-07  \n",
       "1  1.000000e-07  1.000000e-07  1.000000e-07  9.999999e-01  1.000000e-07  \n",
       "2  9.999999e-01  1.000000e-07  1.000000e-07  9.999999e-01  1.000000e-07  \n",
       "3  9.999999e-01  1.000000e-07  1.000000e-07  9.999999e-01  1.000000e-07  \n",
       "4  9.999999e-01  1.000000e-07  1.000000e-07  9.999999e-01  1.000000e-07  \n",
       "\n",
       "[5 rows x 24 columns]"
      ]
     },
     "execution_count": 15,
     "metadata": {},
     "output_type": "execute_result"
    }
   ],
   "source": [
    "pd_scaled_X.head()"
   ]
  },
  {
   "cell_type": "code",
   "execution_count": 16,
   "metadata": {},
   "outputs": [
    {
     "data": {
      "text/plain": [
       "array(['age', 'trestbps', 'chol', 'fbs', 'thalach', 'exang', 'oldpeak',\n",
       "       'ca', 'sex_female', 'sex_male', 'cp_typical angina', 'cp_angina',\n",
       "       'cp_non-anginal pain', 'cp_asymptomatic', 'restecg_normal',\n",
       "       'restecg_ST-T wave abnormality',\n",
       "       'restecg_left ventricular hypertrophy', 'slope_upsloping',\n",
       "       'slope_flat', 'slope_downsloping', 'thal_0', 'thal_1', 'thal_2',\n",
       "       'thal_3'], dtype=object)"
      ]
     },
     "execution_count": 16,
     "metadata": {},
     "output_type": "execute_result"
    }
   ],
   "source": [
    "X.columns.values"
   ]
  },
  {
   "cell_type": "code",
   "execution_count": 17,
   "metadata": {},
   "outputs": [
    {
     "data": {
      "text/plain": [
       "array([ 0,  1,  2,  3,  4,  5,  6,  7,  8,  9, 10, 11, 12, 13, 14, 15, 16,\n",
       "       17, 18, 19, 20, 21, 22, 23])"
      ]
     },
     "execution_count": 17,
     "metadata": {},
     "output_type": "execute_result"
    }
   ],
   "source": [
    "pd_scaled_X.columns.values"
   ]
  },
  {
   "cell_type": "code",
   "execution_count": 18,
   "metadata": {},
   "outputs": [],
   "source": [
    "pd_scaled_X.columns = X.columns.values #fixing the names of the fetures "
   ]
  },
  {
   "cell_type": "code",
   "execution_count": 19,
   "metadata": {},
   "outputs": [
    {
     "data": {
      "text/plain": [
       "array(['age', 'trestbps', 'chol', 'fbs', 'thalach', 'exang', 'oldpeak',\n",
       "       'ca', 'sex_female', 'sex_male', 'cp_typical angina', 'cp_angina',\n",
       "       'cp_non-anginal pain', 'cp_asymptomatic', 'restecg_normal',\n",
       "       'restecg_ST-T wave abnormality',\n",
       "       'restecg_left ventricular hypertrophy', 'slope_upsloping',\n",
       "       'slope_flat', 'slope_downsloping', 'thal_0', 'thal_1', 'thal_2',\n",
       "       'thal_3'], dtype=object)"
      ]
     },
     "execution_count": 19,
     "metadata": {},
     "output_type": "execute_result"
    }
   ],
   "source": [
    "pd_scaled_X.columns.values"
   ]
  },
  {
   "cell_type": "code",
   "execution_count": 20,
   "metadata": {},
   "outputs": [
    {
     "data": {
      "text/html": [
       "<div>\n",
       "<style scoped>\n",
       "    .dataframe tbody tr th:only-of-type {\n",
       "        vertical-align: middle;\n",
       "    }\n",
       "\n",
       "    .dataframe tbody tr th {\n",
       "        vertical-align: top;\n",
       "    }\n",
       "\n",
       "    .dataframe thead th {\n",
       "        text-align: right;\n",
       "    }\n",
       "</style>\n",
       "<table border=\"1\" class=\"dataframe\">\n",
       "  <thead>\n",
       "    <tr style=\"text-align: right;\">\n",
       "      <th></th>\n",
       "      <th>age</th>\n",
       "      <th>trestbps</th>\n",
       "      <th>chol</th>\n",
       "      <th>fbs</th>\n",
       "      <th>thalach</th>\n",
       "      <th>exang</th>\n",
       "      <th>oldpeak</th>\n",
       "      <th>ca</th>\n",
       "      <th>sex_female</th>\n",
       "      <th>sex_male</th>\n",
       "      <th>...</th>\n",
       "      <th>restecg_normal</th>\n",
       "      <th>restecg_ST-T wave abnormality</th>\n",
       "      <th>restecg_left ventricular hypertrophy</th>\n",
       "      <th>slope_upsloping</th>\n",
       "      <th>slope_flat</th>\n",
       "      <th>slope_downsloping</th>\n",
       "      <th>thal_0</th>\n",
       "      <th>thal_1</th>\n",
       "      <th>thal_2</th>\n",
       "      <th>thal_3</th>\n",
       "    </tr>\n",
       "  </thead>\n",
       "  <tbody>\n",
       "    <tr>\n",
       "      <th>0</th>\n",
       "      <td>0.817818</td>\n",
       "      <td>0.811311</td>\n",
       "      <td>0.428929</td>\n",
       "      <td>9.999999e-01</td>\n",
       "      <td>0.446947</td>\n",
       "      <td>1.000000e-07</td>\n",
       "      <td>0.855856</td>\n",
       "      <td>1.000000e-07</td>\n",
       "      <td>1.000000e-07</td>\n",
       "      <td>9.999999e-01</td>\n",
       "      <td>...</td>\n",
       "      <td>9.999999e-01</td>\n",
       "      <td>1.000000e-07</td>\n",
       "      <td>1.000000e-07</td>\n",
       "      <td>9.999999e-01</td>\n",
       "      <td>1.000000e-07</td>\n",
       "      <td>1.000000e-07</td>\n",
       "      <td>1.000000e-07</td>\n",
       "      <td>9.999999e-01</td>\n",
       "      <td>1.000000e-07</td>\n",
       "      <td>1.000000e-07</td>\n",
       "    </tr>\n",
       "    <tr>\n",
       "      <th>1</th>\n",
       "      <td>0.025025</td>\n",
       "      <td>0.505005</td>\n",
       "      <td>0.579580</td>\n",
       "      <td>1.000000e-07</td>\n",
       "      <td>0.980132</td>\n",
       "      <td>1.000000e-07</td>\n",
       "      <td>0.956954</td>\n",
       "      <td>1.000000e-07</td>\n",
       "      <td>1.000000e-07</td>\n",
       "      <td>9.999999e-01</td>\n",
       "      <td>...</td>\n",
       "      <td>1.000000e-07</td>\n",
       "      <td>9.999999e-01</td>\n",
       "      <td>1.000000e-07</td>\n",
       "      <td>9.999999e-01</td>\n",
       "      <td>1.000000e-07</td>\n",
       "      <td>1.000000e-07</td>\n",
       "      <td>1.000000e-07</td>\n",
       "      <td>1.000000e-07</td>\n",
       "      <td>9.999999e-01</td>\n",
       "      <td>1.000000e-07</td>\n",
       "    </tr>\n",
       "    <tr>\n",
       "      <th>2</th>\n",
       "      <td>0.077578</td>\n",
       "      <td>0.505005</td>\n",
       "      <td>0.197197</td>\n",
       "      <td>1.000000e-07</td>\n",
       "      <td>0.834334</td>\n",
       "      <td>1.000000e-07</td>\n",
       "      <td>0.682182</td>\n",
       "      <td>1.000000e-07</td>\n",
       "      <td>9.999999e-01</td>\n",
       "      <td>1.000000e-07</td>\n",
       "      <td>...</td>\n",
       "      <td>9.999999e-01</td>\n",
       "      <td>1.000000e-07</td>\n",
       "      <td>1.000000e-07</td>\n",
       "      <td>1.000000e-07</td>\n",
       "      <td>1.000000e-07</td>\n",
       "      <td>9.999999e-01</td>\n",
       "      <td>1.000000e-07</td>\n",
       "      <td>1.000000e-07</td>\n",
       "      <td>9.999999e-01</td>\n",
       "      <td>1.000000e-07</td>\n",
       "    </tr>\n",
       "    <tr>\n",
       "      <th>3</th>\n",
       "      <td>0.519520</td>\n",
       "      <td>0.258258</td>\n",
       "      <td>0.466967</td>\n",
       "      <td>1.000000e-07</td>\n",
       "      <td>0.910911</td>\n",
       "      <td>1.000000e-07</td>\n",
       "      <td>0.516517</td>\n",
       "      <td>1.000000e-07</td>\n",
       "      <td>1.000000e-07</td>\n",
       "      <td>9.999999e-01</td>\n",
       "      <td>...</td>\n",
       "      <td>1.000000e-07</td>\n",
       "      <td>9.999999e-01</td>\n",
       "      <td>1.000000e-07</td>\n",
       "      <td>1.000000e-07</td>\n",
       "      <td>1.000000e-07</td>\n",
       "      <td>9.999999e-01</td>\n",
       "      <td>1.000000e-07</td>\n",
       "      <td>1.000000e-07</td>\n",
       "      <td>9.999999e-01</td>\n",
       "      <td>1.000000e-07</td>\n",
       "    </tr>\n",
       "    <tr>\n",
       "      <th>4</th>\n",
       "      <td>0.566567</td>\n",
       "      <td>0.258258</td>\n",
       "      <td>0.980009</td>\n",
       "      <td>1.000000e-07</td>\n",
       "      <td>0.705205</td>\n",
       "      <td>9.999999e-01</td>\n",
       "      <td>0.468468</td>\n",
       "      <td>1.000000e-07</td>\n",
       "      <td>9.999999e-01</td>\n",
       "      <td>1.000000e-07</td>\n",
       "      <td>...</td>\n",
       "      <td>1.000000e-07</td>\n",
       "      <td>9.999999e-01</td>\n",
       "      <td>1.000000e-07</td>\n",
       "      <td>1.000000e-07</td>\n",
       "      <td>1.000000e-07</td>\n",
       "      <td>9.999999e-01</td>\n",
       "      <td>1.000000e-07</td>\n",
       "      <td>1.000000e-07</td>\n",
       "      <td>9.999999e-01</td>\n",
       "      <td>1.000000e-07</td>\n",
       "    </tr>\n",
       "  </tbody>\n",
       "</table>\n",
       "<p>5 rows × 24 columns</p>\n",
       "</div>"
      ],
      "text/plain": [
       "        age  trestbps      chol           fbs   thalach         exang  \\\n",
       "0  0.817818  0.811311  0.428929  9.999999e-01  0.446947  1.000000e-07   \n",
       "1  0.025025  0.505005  0.579580  1.000000e-07  0.980132  1.000000e-07   \n",
       "2  0.077578  0.505005  0.197197  1.000000e-07  0.834334  1.000000e-07   \n",
       "3  0.519520  0.258258  0.466967  1.000000e-07  0.910911  1.000000e-07   \n",
       "4  0.566567  0.258258  0.980009  1.000000e-07  0.705205  9.999999e-01   \n",
       "\n",
       "    oldpeak            ca    sex_female      sex_male      ...       \\\n",
       "0  0.855856  1.000000e-07  1.000000e-07  9.999999e-01      ...        \n",
       "1  0.956954  1.000000e-07  1.000000e-07  9.999999e-01      ...        \n",
       "2  0.682182  1.000000e-07  9.999999e-01  1.000000e-07      ...        \n",
       "3  0.516517  1.000000e-07  1.000000e-07  9.999999e-01      ...        \n",
       "4  0.468468  1.000000e-07  9.999999e-01  1.000000e-07      ...        \n",
       "\n",
       "   restecg_normal  restecg_ST-T wave abnormality  \\\n",
       "0    9.999999e-01                   1.000000e-07   \n",
       "1    1.000000e-07                   9.999999e-01   \n",
       "2    9.999999e-01                   1.000000e-07   \n",
       "3    1.000000e-07                   9.999999e-01   \n",
       "4    1.000000e-07                   9.999999e-01   \n",
       "\n",
       "   restecg_left ventricular hypertrophy  slope_upsloping    slope_flat  \\\n",
       "0                          1.000000e-07     9.999999e-01  1.000000e-07   \n",
       "1                          1.000000e-07     9.999999e-01  1.000000e-07   \n",
       "2                          1.000000e-07     1.000000e-07  1.000000e-07   \n",
       "3                          1.000000e-07     1.000000e-07  1.000000e-07   \n",
       "4                          1.000000e-07     1.000000e-07  1.000000e-07   \n",
       "\n",
       "   slope_downsloping        thal_0        thal_1        thal_2        thal_3  \n",
       "0       1.000000e-07  1.000000e-07  9.999999e-01  1.000000e-07  1.000000e-07  \n",
       "1       1.000000e-07  1.000000e-07  1.000000e-07  9.999999e-01  1.000000e-07  \n",
       "2       9.999999e-01  1.000000e-07  1.000000e-07  9.999999e-01  1.000000e-07  \n",
       "3       9.999999e-01  1.000000e-07  1.000000e-07  9.999999e-01  1.000000e-07  \n",
       "4       9.999999e-01  1.000000e-07  1.000000e-07  9.999999e-01  1.000000e-07  \n",
       "\n",
       "[5 rows x 24 columns]"
      ]
     },
     "execution_count": 20,
     "metadata": {},
     "output_type": "execute_result"
    }
   ],
   "source": [
    "pd_scaled_X.head()"
   ]
  },
  {
   "cell_type": "markdown",
   "metadata": {},
   "source": [
    "## Data Split"
   ]
  },
  {
   "cell_type": "code",
   "execution_count": 23,
   "metadata": {},
   "outputs": [],
   "source": [
    "X_train, X_test, y_train, y_test = train_test_split(X, y, test_size = 0.3 ) #split data 70:30"
   ]
  },
  {
   "cell_type": "code",
   "execution_count": 24,
   "metadata": {},
   "outputs": [
    {
     "data": {
      "image/png": "[encoded data removed]",
      "text/plain": [
       "<Figure size 432x288 with 1 Axes>"
      ]
     },
     "metadata": {
      "needs_background": "light"
     },
     "output_type": "display_data"
    }
   ],
   "source": [
    "train_dist = y_train.value_counts() / len(y_train) #normalize absolute count values for plotting\n",
    "test_dist = y_test.value_counts() / len(y_test)\n",
    "data_dist = data['target'].value_counts() / len(data)\n",
    "\n",
    "fig, ax = plt.subplots()\n",
    "\n",
    "ax.barh(['Test','Train','Data'], [test_dist[0], train_dist[0], data_dist[0]], color='#1f77b4', label='no heart disease')\n",
    "ax.barh(['Test','Train','Data'], [test_dist[1], train_dist[1], data_dist[1]], left=[test_dist[0], train_dist[0], data_dist[0]], color='#ff7f0e', label='heart disease')\n",
    "ax.set_title('Split visualization')\n",
    "ax.legend(loc='upper left')\n",
    "plt.xlabel('Proportion')\n",
    "plt.ylabel('Partition')\n",
    "\n",
    "#plot bar values\n",
    "for part, a, b in zip(['Test', 'Train','Data'], [test_dist[0], train_dist[0], data_dist[0]], [test_dist[1], train_dist[1], data_dist[1]]):\n",
    "    plt.text(a/2, part, str(np.round(a, 2)))\n",
    "    plt.text(b/2+a, part, str(np.round(b, 2)));"
   ]
  },
  {
   "cell_type": "markdown",
   "metadata": {},
   "source": [
    "The Distribution of  heart disease to no heart disease is similar in train and test is similar to the distribution in the original data set. Hence, the split was succesful. "
   ]
  },
  {
   "cell_type": "code",
   "execution_count": 25,
   "metadata": {},
   "outputs": [
    {
     "data": {
      "text/plain": [
       "Text(0.5,1,'Heat Map of Correlation Matrix')"
      ]
     },
     "execution_count": 25,
     "metadata": {},
     "output_type": "execute_result"
    },
    {
     "data": {
      "image/png": "[encoded data removed]",
      "text/plain": [
       "<Figure size 864x576 with 2 Axes>"
      ]
     },
     "metadata": {
      "needs_background": "light"
     },
     "output_type": "display_data"
    }
   ],
   "source": [
    "corr_matrix = X_train.corr()\n",
    "corr_matrix_absolute = X_train.corr().abs()\n",
    "plt.figure(figsize=(12,8))\n",
    "\n",
    "sns.heatmap(corr_matrix, vmin=0, vmax=1)\n",
    "plt.title('Heat Map of Correlation Matrix', fontdict = {'fontsize' : 20})\n",
    "\n"
   ]
  },
  {
   "cell_type": "code",
   "execution_count": 26,
   "metadata": {},
   "outputs": [
    {
     "data": {
      "text/plain": [
       "Text(0.5,1,'Heat Map of Correlation Matrix with absolute values')"
      ]
     },
     "execution_count": 26,
     "metadata": {},
     "output_type": "execute_result"
    },
    {
     "data": {
      "image/png": "[encoded data removed]",
      "text/plain": [
       "<Figure size 864x576 with 2 Axes>"
      ]
     },
     "metadata": {
      "needs_background": "light"
     },
     "output_type": "display_data"
    }
   ],
   "source": [
    "plt.figure(figsize=(12,8))\n",
    "sns.heatmap(corr_matrix_absolute, vmin=0, vmax=1)\n",
    "plt.title('Heat Map of Correlation Matrix with absolute values', fontdict = {'fontsize' : 20})\n"
   ]
  },
  {
   "cell_type": "markdown",
   "metadata": {},
   "source": [
    "### We can clearly see that there is not much correlation between the features."
   ]
  },
  {
   "cell_type": "markdown",
   "metadata": {},
   "source": [
    "## Buliding the Model "
   ]
  },
  {
   "cell_type": "markdown",
   "metadata": {},
   "source": [
    "### Logistic Regression"
   ]
  },
  {
   "cell_type": "code",
   "execution_count": 44,
   "metadata": {},
   "outputs": [],
   "source": [
    "logisticRegr = LogisticRegression()"
   ]
  },
  {
   "cell_type": "code",
   "execution_count": 365,
   "metadata": {},
   "outputs": [
    {
     "data": {
      "text/plain": [
       "LogisticRegression(C=1.0, class_weight=None, dual=False, fit_intercept=True,\n",
       "          intercept_scaling=1, max_iter=100, multi_class='ovr', n_jobs=1,\n",
       "          penalty='l2', random_state=None, solver='liblinear', tol=0.0001,\n",
       "          verbose=0, warm_start=False)"
      ]
     },
     "execution_count": 365,
     "metadata": {},
     "output_type": "execute_result"
    }
   ],
   "source": [
    "logisticRegr.fit(X_train, y_train)"
   ]
  },
  {
   "cell_type": "code",
   "execution_count": 366,
   "metadata": {},
   "outputs": [],
   "source": [
    "predictions_lr = logisticRegr.predict(X_test)"
   ]
  },
  {
   "cell_type": "code",
   "execution_count": 367,
   "metadata": {},
   "outputs": [
    {
     "name": "stdout",
     "output_type": "stream",
     "text": [
      "0.8791208791208791\n"
     ]
    }
   ],
   "source": [
    "score = logisticRegr.score(X_test, y_test)\n",
    "print(score)"
   ]
  },
  {
   "cell_type": "markdown",
   "metadata": {},
   "source": [
    "###  This is the best accuracy \n"
   ]
  },
  {
   "cell_type": "code",
   "execution_count": 368,
   "metadata": {},
   "outputs": [
    {
     "data": {
      "text/plain": [
       "array([1, 1, 1, 1, 1, 1, 1, 1, 0, 1, 1, 1, 1, 1, 1, 0, 1, 0, 1, 0, 1, 1,\n",
       "       1, 0, 1, 1, 1, 1, 1, 1, 1, 0, 1, 1, 1, 1, 1, 1, 1, 1, 0, 1, 0, 1,\n",
       "       1, 1, 1, 1, 0, 1, 1, 0, 1, 0, 1, 1, 1, 1, 1, 0, 1, 0, 0, 0, 0, 0,\n",
       "       1, 0, 1, 0, 1, 1, 0, 0, 0, 1, 1, 1, 0, 1, 0, 1, 0, 0, 1, 0, 1, 0,\n",
       "       0, 0, 1])"
      ]
     },
     "execution_count": 368,
     "metadata": {},
     "output_type": "execute_result"
    }
   ],
   "source": [
    "predictions_lr"
   ]
  },
  {
   "cell_type": "code",
   "execution_count": 41,
   "metadata": {},
   "outputs": [],
   "source": [
    "def plot_confusion_matrix(cm, classes,\n",
    "                          normalize=False,\n",
    "                          title='Confusion matrix',\n",
    "                          cmap=plt.cm.Blues):\n",
    "    \"\"\"\n",
    "    This function prints and plots the confusion matrix.\n",
    "    Normalization can be applied by setting `normalize=True`.\n",
    "    \"\"\"\n",
    "    if normalize:\n",
    "        cm = cm.astype('float') / cm.sum(axis=1)[:, np.newaxis]\n",
    "        #print(\"Normalized confusion matrix\")\n",
    "    #else:\n",
    "    #    print('Confusion matrix, without normalization')\n",
    "\n",
    "    #print(cm)\n",
    "\n",
    "    plt.imshow(cm, interpolation='nearest', cmap=cmap)\n",
    "    plt.title(title)\n",
    "    plt.colorbar()\n",
    "    tick_marks = np.arange(len(classes))\n",
    "    plt.xticks(tick_marks, classes, rotation=45)\n",
    "    plt.yticks(tick_marks, classes)\n",
    "\n",
    "    fmt = '.2f' if normalize else 'd'\n",
    "    thresh = cm.max() / 2.\n",
    "    for i, j in itertools.product(range(cm.shape[0]), range(cm.shape[1])):\n",
    "        plt.text(j, i, format(cm[i, j], fmt),\n",
    "                 horizontalalignment=\"center\",\n",
    "                 color=\"white\" if cm[i, j] > thresh else \"black\")\n",
    "\n",
    "    plt.tight_layout()\n",
    "    plt.ylabel('True label')\n",
    "    plt.xlabel('Predicted label')"
   ]
  },
  {
   "cell_type": "code",
   "execution_count": 378,
   "metadata": {},
   "outputs": [
    {
     "data": {
      "image/png": "[encoded data removed]",
      "text/plain": [
       "<Figure size 864x288 with 4 Axes>"
      ]
     },
     "metadata": {},
     "output_type": "display_data"
    }
   ],
   "source": [
    "# Compute confusion matrix\n",
    "class_names = ['no heart disease', 'heart disease']\n",
    "cnf_matrix = confusion_matrix(y_test, predictions_lr)\n",
    "np.set_printoptions(precision=2)\n",
    "\n",
    "# Plot non-normalized confusion matrix\n",
    "plt.figure(figsize=(12, 4))\n",
    "plt.subplot(121) \n",
    "plot_confusion_matrix(cnf_matrix, classes=class_names,\n",
    "                      title='Confusion matrix, without normalization')\n",
    "\n",
    "# Plot normalized confusion matrix\n",
    "plt.subplot(122) \n",
    "plot_confusion_matrix(cnf_matrix, classes=class_names, normalize=True,\n",
    "                      title='Normalized confusion matrix')\n",
    "\n",
    "plt.show()"
   ]
  },
  {
   "cell_type": "markdown",
   "metadata": {},
   "source": [
    "## Using Logistic Regression on Normalized Data"
   ]
  },
  {
   "cell_type": "code",
   "execution_count": 27,
   "metadata": {},
   "outputs": [],
   "source": [
    "X_train_nr, X_test_nr, y_train_nr, y_test_nr = train_test_split(pd_scaled_X, y, test_size = 0.3 ) #split data 70:30"
   ]
  },
  {
   "cell_type": "code",
   "execution_count": 31,
   "metadata": {},
   "outputs": [
    {
     "data": {
      "text/plain": [
       "(91, 24)"
      ]
     },
     "execution_count": 31,
     "metadata": {},
     "output_type": "execute_result"
    }
   ],
   "source": [
    "X_test_nr.shape"
   ]
  },
  {
   "cell_type": "code",
   "execution_count": 45,
   "metadata": {},
   "outputs": [],
   "source": [
    "lr_model = logisticRegr.fit(X_train_nr, y_train_nr)"
   ]
  },
  {
   "cell_type": "code",
   "execution_count": 372,
   "metadata": {},
   "outputs": [
    {
     "name": "stdout",
     "output_type": "stream",
     "text": [
      "0.8461538461538461\n"
     ]
    }
   ],
   "source": [
    "score = logisticRegr.score(X_test_nr, y_test_nr)\n",
    "print(score)"
   ]
  },
  {
   "cell_type": "code",
   "execution_count": 47,
   "metadata": {},
   "outputs": [],
   "source": [
    "y_pred_lr_nm = lr_model.predict(X_test_nr)"
   ]
  },
  {
   "cell_type": "markdown",
   "metadata": {},
   "source": [
    "### Confusion Matrix"
   ]
  },
  {
   "cell_type": "code",
   "execution_count": 48,
   "metadata": {},
   "outputs": [
    {
     "data": {
      "image/png": "[encoded data removed]",
      "text/plain": [
       "<Figure size 864x288 with 3 Axes>"
      ]
     },
     "metadata": {
      "needs_background": "light"
     },
     "output_type": "display_data"
    }
   ],
   "source": [
    "# Compute confusion matrix\n",
    "class_names = ['no heart disease', 'heart disease']\n",
    "cnf_matrix = confusion_matrix(y_test_nr, y_pred_lr_nm)\n",
    "np.set_printoptions(precision=2)\n",
    "\n",
    "# Plot non-normalized confusion matrix\n",
    "plt.figure(figsize=(12, 4))\n",
    "plt.subplot(121) \n",
    "plot_confusion_matrix(cnf_matrix, classes=class_names,\n",
    "                      title='Confusion matrix, without normalization')\n",
    "\n",
    "# Plot normalized confusion matrix\n",
    "plt.subplot(122) \n",
    "plot_confusion_matrix(cnf_matrix, classes=class_names, normalize=True,\n",
    "                      title='Normalized confusion matrix')\n",
    "\n",
    "plt.show()"
   ]
  },
  {
   "cell_type": "markdown",
   "metadata": {},
   "source": [
    "### Using Feature Scaling is improving our Accuracy "
   ]
  },
  {
   "cell_type": "markdown",
   "metadata": {},
   "source": [
    "## Using SVM "
   ]
  },
  {
   "cell_type": "markdown",
   "metadata": {},
   "source": [
    "### Using Grid Search CV to find the best SVM parameters"
   ]
  },
  {
   "cell_type": "code",
   "execution_count": 377,
   "metadata": {},
   "outputs": [
    {
     "name": "stdout",
     "output_type": "stream",
     "text": [
      "Best score for data1: 0.7783018867924528\n",
      "Best C: 1\n",
      "Best Kernel: linear\n",
      "Best Gamma: auto\n"
     ]
    }
   ],
   "source": [
    "parameter_candidates = [\n",
    "  {'C': [1, 10, 100, 1000,10000], 'kernel': ['linear']},\n",
    "  {'C': [1, 10, 100, 1000,10000], 'gamma': [0.1,0.01,0.001, 0.0001], 'kernel': ['rbf']},\n",
    "]\n",
    "clf = GridSearchCV(estimator=SVC(), param_grid=parameter_candidates, n_jobs=-1)\n",
    "clf.fit(X_train, y_train) \n",
    "print('Best score for data1:', clf.best_score_) \n",
    "print('Best C:',clf.best_estimator_.C) \n",
    "print('Best Kernel:',clf.best_estimator_.kernel)\n",
    "print('Best Gamma:',clf.best_estimator_.gamma)"
   ]
  },
  {
   "cell_type": "code",
   "execution_count": 33,
   "metadata": {},
   "outputs": [],
   "source": [
    "svm_model = SVC(kernel = 'linear', C = 1, gamma =\"auto\").fit(X_train, y_train)"
   ]
  },
  {
   "cell_type": "code",
   "execution_count": 34,
   "metadata": {},
   "outputs": [
    {
     "data": {
      "text/plain": [
       "0.8351648351648352"
      ]
     },
     "execution_count": 34,
     "metadata": {},
     "output_type": "execute_result"
    }
   ],
   "source": [
    "svm_model.score(X_test,y_test)"
   ]
  },
  {
   "cell_type": "markdown",
   "metadata": {},
   "source": [
    "### SVM on normalized data "
   ]
  },
  {
   "cell_type": "code",
   "execution_count": null,
   "metadata": {},
   "outputs": [],
   "source": [
    "parameter_candidates = [\n",
    "  {'C': [1, 10, 100, 1000,10000], 'kernel': ['linear']},\n",
    "  {'C': [1, 10, 100, 1000,10000], 'gamma': [0.1,0.01,0.001, 0.0001], 'kernel': ['rbf']},\n",
    "]\n",
    "\n",
    "clf_gs = GridSearchCV(estimator=SVC(), param_grid=parameter_candidates, n_jobs=-1)\n",
    "clf_gs.fit(X_train_nr, y_train_nr) \n",
    "print('Best score for data1:', clf.best_score_) \n",
    "print('Best C:',clf.best_estimator_.C) \n",
    "print('Best Kernel:',clf.best_estimator_.kernel)\n",
    "print('Best Gamma:',clf.best_estimator_.gamma)"
   ]
  },
  {
   "cell_type": "code",
   "execution_count": 36,
   "metadata": {},
   "outputs": [],
   "source": [
    "svm_model_nr = SVC(kernel = 'linear', C = 1).fit(X_train_nr, y_train_nr)"
   ]
  },
  {
   "cell_type": "code",
   "execution_count": 37,
   "metadata": {},
   "outputs": [
    {
     "data": {
      "text/plain": [
       "0.7912087912087912"
      ]
     },
     "execution_count": 37,
     "metadata": {},
     "output_type": "execute_result"
    }
   ],
   "source": [
    "svm_model_nr.score(X_test_nr,y_test_nr)"
   ]
  },
  {
   "cell_type": "code",
   "execution_count": 38,
   "metadata": {},
   "outputs": [],
   "source": [
    "y_pred_svm_nm =svm_model_nr.predict(X_test_nr)"
   ]
  },
  {
   "cell_type": "code",
   "execution_count": 39,
   "metadata": {},
   "outputs": [
    {
     "data": {
      "text/plain": [
       "array([[-4.22500170e-01, -2.82018464e-01,  5.35436636e-02,\n",
       "         3.40297315e-01, -5.16277194e-01, -8.41439574e-01,\n",
       "        -4.50604376e-01, -1.52229331e+00,  2.15519685e-01,\n",
       "        -2.15519685e-01, -8.25599076e-01, -1.94679314e-01,\n",
       "         1.61076506e-01,  8.59201884e-01,  8.77467522e-02,\n",
       "         4.14001631e-01, -5.01748384e-01, -8.36689879e-03,\n",
       "        -4.08121351e-01,  4.16488249e-01,  1.98523347e-22,\n",
       "        -5.42834945e-02,  7.00023783e-01, -6.45740289e-01]])"
      ]
     },
     "execution_count": 39,
     "metadata": {},
     "output_type": "execute_result"
    }
   ],
   "source": [
    "weights = svm_model_nr.coef_\n",
    "weights"
   ]
  },
  {
   "cell_type": "markdown",
   "metadata": {},
   "source": [
    "### Confusion Matrix"
   ]
  },
  {
   "cell_type": "code",
   "execution_count": 42,
   "metadata": {},
   "outputs": [
    {
     "data": {
      "image/png": "[encoded data removed]",
      "text/plain": [
       "<Figure size 864x288 with 3 Axes>"
      ]
     },
     "metadata": {
      "needs_background": "light"
     },
     "output_type": "display_data"
    }
   ],
   "source": [
    "# Compute confusion matrix\n",
    "class_names = ['no heart disease', 'heart disease']\n",
    "cnf_matrix = confusion_matrix(y_test_nr, y_pred_svm_nm)\n",
    "np.set_printoptions(precision=2)\n",
    "\n",
    "# Plot non-normalized confusion matrix\n",
    "plt.figure(figsize=(12, 4))\n",
    "plt.subplot(121) \n",
    "plot_confusion_matrix(cnf_matrix, classes=class_names,\n",
    "                      title='Confusion matrix, without normalization')\n",
    "\n",
    "# Plot normalized confusion matrix\n",
    "plt.subplot(122) \n",
    "plot_confusion_matrix(cnf_matrix, classes=class_names, normalize=True,\n",
    "                      title='Normalized confusion matrix')\n",
    "\n",
    "plt.show()"
   ]
  },
  {
   "cell_type": "markdown",
   "metadata": {},
   "source": [
    "### Decision Trees "
   ]
  },
  {
   "cell_type": "code",
   "execution_count": 397,
   "metadata": {},
   "outputs": [
    {
     "data": {
      "text/plain": [
       "DecisionTreeClassifier(class_weight=None, criterion='gini', max_depth=3,\n",
       "            max_features=None, max_leaf_nodes=None,\n",
       "            min_impurity_decrease=0.0, min_impurity_split=None,\n",
       "            min_samples_leaf=3, min_samples_split=2,\n",
       "            min_weight_fraction_leaf=0.0, presort=False, random_state=100,\n",
       "            splitter='best')"
      ]
     },
     "execution_count": 397,
     "metadata": {},
     "output_type": "execute_result"
    }
   ],
   "source": [
    "#Define Decision tree classifier with some default parameters\n",
    "clf_DT = DecisionTreeClassifier(criterion = \"gini\", random_state = 100,\n",
    "                               max_depth=3, min_samples_leaf=3)\n",
    "\n",
    "#Fit the training data \n",
    "clf_DT.fit(X_train, y_train)"
   ]
  },
  {
   "cell_type": "code",
   "execution_count": 398,
   "metadata": {},
   "outputs": [
    {
     "data": {
      "text/plain": [
       "0.7802197802197802"
      ]
     },
     "execution_count": 398,
     "metadata": {},
     "output_type": "execute_result"
    }
   ],
   "source": [
    "clf_DT.score(X_test,y_test)"
   ]
  },
  {
   "cell_type": "markdown",
   "metadata": {},
   "source": [
    "### Decision Trees with Normalized Data "
   ]
  },
  {
   "cell_type": "code",
   "execution_count": 59,
   "metadata": {},
   "outputs": [
    {
     "data": {
      "text/plain": [
       "DecisionTreeClassifier(class_weight=None, criterion='gini', max_depth=2,\n",
       "            max_features=None, max_leaf_nodes=None,\n",
       "            min_impurity_decrease=0.0, min_impurity_split=None,\n",
       "            min_samples_leaf=3, min_samples_split=2,\n",
       "            min_weight_fraction_leaf=0.0, presort=False, random_state=100,\n",
       "            splitter='best')"
      ]
     },
     "execution_count": 59,
     "metadata": {},
     "output_type": "execute_result"
    }
   ],
   "source": [
    "#Define Decision tree classifier with some default parameters\n",
    "clf_DT_nr = DecisionTreeClassifier(criterion = \"gini\", random_state = 100,\n",
    "                               max_depth=2, min_samples_leaf=3)\n",
    "\n",
    "#Fit the training data \n",
    "clf_DT_nr.fit(X_train_nr, y_train_nr)"
   ]
  },
  {
   "cell_type": "code",
   "execution_count": 60,
   "metadata": {},
   "outputs": [
    {
     "data": {
      "text/plain": [
       "0.7582417582417582"
      ]
     },
     "execution_count": 60,
     "metadata": {},
     "output_type": "execute_result"
    }
   ],
   "source": [
    "clf_DT_nr.score(X_test_nr,y_test_nr)"
   ]
  },
  {
   "cell_type": "code",
   "execution_count": 61,
   "metadata": {},
   "outputs": [],
   "source": [
    "y_pred_dt_nm = clf_DT_nr.predict(X_test_nr)"
   ]
  },
  {
   "cell_type": "markdown",
   "metadata": {},
   "source": [
    "### Feature Importance Decision Trees"
   ]
  },
  {
   "cell_type": "code",
   "execution_count": null,
   "metadata": {},
   "outputs": [],
   "source": [
    "importances = clf_DT_nr.feature_importances__\n",
    "indices = np.argsort(importances)[::-1]\n",
    "feature_order = np.array([X.columns.values])\n",
    "i = np.argsort(importances)[::-1]\n",
    "feature_order = feature_order[:,i]"
   ]
  },
  {
   "cell_type": "code",
   "execution_count": null,
   "metadata": {},
   "outputs": [],
   "source": [
    "plt.figure()\n",
    "plt.title(\"Relative feature importances\")\n",
    "plt.bar(range(X.shape[1]), importances[indices],\n",
    "       color=\"b\",  align=\"center\")\n",
    "plt.xticks(range(X.shape[1]), feature_order[0], rotation=90)\n",
    "plt.xlim([-1, X.shape[1]])\n",
    "plt.show()"
   ]
  },
  {
   "cell_type": "code",
   "execution_count": 68,
   "metadata": {},
   "outputs": [],
   "source": [
    "def plot_confusion_matrix(cm, classes,\n",
    "                          normalize=False,\n",
    "                          title='Confusion matrix',\n",
    "                          cmap=plt.cm.Blues):\n",
    "    \"\"\"\n",
    "    This function prints and plots the confusion matrix.\n",
    "    Normalization can be applied by setting `normalize=True`.\n",
    "    \"\"\"\n",
    "    if normalize:\n",
    "        cm = cm.astype('float') / cm.sum(axis=1)[:, np.newaxis]\n",
    "        #print(\"Normalized confusion matrix\")\n",
    "    #else:\n",
    "    #    print('Confusion matrix, without normalization')\n",
    "\n",
    "    #print(cm)\n",
    "\n",
    "    plt.imshow(cm, interpolation='nearest', cmap=cmap)\n",
    "    plt.title(title)\n",
    "    plt.colorbar()\n",
    "    tick_marks = np.arange(len(classes))\n",
    "    plt.xticks(tick_marks, classes, rotation=45)\n",
    "    plt.yticks(tick_marks, classes)\n",
    "\n",
    "    fmt = '.2f' if normalize else 'd'\n",
    "    thresh = cm.max() / 2.\n",
    "    for i, j in itertools.product(range(cm.shape[0]), range(cm.shape[1])):\n",
    "        plt.text(j, i, format(cm[i, j], fmt),\n",
    "                 horizontalalignment=\"center\",\n",
    "                 color=\"white\" if cm[i, j] > thresh else \"black\")\n",
    "\n",
    "    plt.tight_layout()\n",
    "    plt.ylabel('True label')\n",
    "    plt.xlabel('Predicted label')"
   ]
  },
  {
   "cell_type": "code",
   "execution_count": 69,
   "metadata": {},
   "outputs": [
    {
     "name": "stdout",
     "output_type": "stream",
     "text": [
      "(91,)\n",
      "(91,)\n"
     ]
    }
   ],
   "source": [
    "print(y_pred_dt_nm.shape)\n",
    "print(y_test_nr.shape)"
   ]
  },
  {
   "cell_type": "code",
   "execution_count": 70,
   "metadata": {},
   "outputs": [
    {
     "data": {
      "image/png": "[encoded data removed]",
      "text/plain": [
       "<Figure size 864x288 with 3 Axes>"
      ]
     },
     "metadata": {
      "needs_background": "light"
     },
     "output_type": "display_data"
    }
   ],
   "source": [
    "# Compute confusion matrix\n",
    "class_names = ['no heart disease', 'heart disease']\n",
    "cnf_matrix = confusion_matrix(y_test_nr, y_pred_dt_nm)\n",
    "np.set_printoptions(precision=2)\n",
    "\n",
    "# Plot non-normalized confusion matrix\n",
    "plt.figure(figsize=(12, 4))\n",
    "plt.subplot(121) \n",
    "plot_confusion_matrix(cnf_matrix, classes=class_names,\n",
    "                      title='Confusion matrix, without normalization')\n",
    "\n",
    "# Plot normalized confusion matrix\n",
    "plt.subplot(122) \n",
    "plot_confusion_matrix(cnf_matrix, classes=class_names, normalize=True,\n",
    "                      title='Normalized confusion matrix')\n",
    "\n",
    "plt.show()"
   ]
  },
  {
   "cell_type": "markdown",
   "metadata": {},
   "source": [
    "### ROC and AUC"
   ]
  },
  {
   "cell_type": "code",
   "execution_count": null,
   "metadata": {},
   "outputs": [],
   "source": [
    "plt.figure(figsize=(12,10))\n",
    "\n",
    "for test, pred, num, name in zip([y_test, y_test, y_test], [predictions_lr, svm_model, clf_DT], range(1,4), ['Logistic Regression (Unnormalized Data)', 'SVM (Unnormalized Data)', 'Decision Trees (Unnormalized Data)']):\n",
    "    fpr, tpr, thresholds = roc_curve(test, pred)\n",
    "    roc_auc = auc(fpr, tpr)\n",
    "    plt.plot(fpr, tpr, label='{}: AUC = {}'.format(name, round(roc_auc, 3)))\n",
    "    plt.legend(loc='best')\n",
    "    plt.plot([0,1],[0,1],color='black', linestyle='--')\n",
    "\n",
    "plt.title('ROC curve (Receiver Operating Characteristic)')    \n",
    "plt.ylabel('True Positive Rate (TPR)')\n",
    "plt.xlabel('False Positive Rate (FPR)')\n",
    "\n",
    "plt.show()"
   ]
  }
 ],
 "metadata": {
  "kernelspec": {
   "display_name": "Python 3",
   "language": "python",
   "name": "python3"
  },
  "language_info": {
   "codemirror_mode": {
    "name": "ipython",
    "version": 3
   },
   "file_extension": ".py",
   "mimetype": "text/x-python",
   "name": "python",
   "nbconvert_exporter": "python",
   "pygments_lexer": "ipython3",
   "version": "3.6.7"
  }
 },
 "nbformat": 4,
 "nbformat_minor": 2
}
