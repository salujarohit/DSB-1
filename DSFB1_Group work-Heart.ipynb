{
 "cells": [
  {
   "cell_type": "markdown",
   "metadata": {},
   "source": [
    "# Group work\n"
   ]
  },
  {
   "cell_type": "markdown",
   "metadata": {},
   "source": [
    "### Research questions: Do new ones!\n",
    "Which attributes are affecting to player's value most?\n",
    "\n",
    "How strongly salary and value are correlated?\n",
    "\n",
    "Is there some league where salary compared to value is significantly higher than in others?\n",
    "\n",
    "Top 5 salary to value players\n",
    "\n",
    "What is the most expensive league and which one is the best?\n",
    "\n"
   ]
  },
  {
   "cell_type": "markdown",
   "metadata": {},
   "source": [
    "### Importing libraries\n"
   ]
  },
  {
   "cell_type": "code",
   "execution_count": 15,
   "metadata": {},
   "outputs": [],
   "source": [
    "%matplotlib inline\n",
    "import pandas as pd\n",
    "import numpy as np\n",
    "import itertools\n",
    "import time\n",
    "import statsmodels.api as sm\n",
    "import matplotlib.pyplot as plt\n",
    "\n",
    "from sklearn.preprocessing import scale \n",
    "from sklearn.model_selection import train_test_split\n",
    "from sklearn.linear_model import Ridge, RidgeCV, Lasso, LassoCV\n",
    "from sklearn.metrics import mean_squared_error\n",
    "\n",
    "import pandas as pd #data frames (for storing data)\n",
    "import numpy as np #scientific computing\n",
    "import itertools\n",
    "\n",
    "#matplotlib for plotting\n",
    "import matplotlib.pyplot as plt\n",
    "from matplotlib import gridspec\n",
    "import matplotlib.ticker as mtick #for percentage ticks\n",
    "\n"
   ]
  },
  {
   "cell_type": "markdown",
   "metadata": {},
   "source": [
    "### Importing data"
   ]
  },
  {
   "cell_type": "code",
   "execution_count": 10,
   "metadata": {},
   "outputs": [
    {
     "data": {
      "text/html": [
       "<style  type=\"text/css\" >\n",
       "</style>  \n",
       "<table id=\"T_62c7189e_27ed_11e9_a190_b46921a1ad73\" > \n",
       "<thead>    <tr> \n",
       "        <th class=\"blank level0\" ></th> \n",
       "        <th class=\"col_heading level0 col0\" >age</th> \n",
       "        <th class=\"col_heading level0 col1\" >sex</th> \n",
       "        <th class=\"col_heading level0 col2\" >cp</th> \n",
       "        <th class=\"col_heading level0 col3\" >trestbps</th> \n",
       "        <th class=\"col_heading level0 col4\" >chol</th> \n",
       "        <th class=\"col_heading level0 col5\" >fbs</th> \n",
       "        <th class=\"col_heading level0 col6\" >restecg</th> \n",
       "        <th class=\"col_heading level0 col7\" >thalach</th> \n",
       "        <th class=\"col_heading level0 col8\" >exang</th> \n",
       "        <th class=\"col_heading level0 col9\" >oldpeak</th> \n",
       "        <th class=\"col_heading level0 col10\" >slope</th> \n",
       "        <th class=\"col_heading level0 col11\" >ca</th> \n",
       "        <th class=\"col_heading level0 col12\" >thal</th> \n",
       "        <th class=\"col_heading level0 col13\" >target</th> \n",
       "    </tr></thead> \n",
       "<tbody>    <tr> \n",
       "        <th id=\"T_62c7189e_27ed_11e9_a190_b46921a1ad73level0_row0\" class=\"row_heading level0 row0\" >0</th> \n",
       "        <td id=\"T_62c7189e_27ed_11e9_a190_b46921a1ad73row0_col0\" class=\"data row0 col0\" >63</td> \n",
       "        <td id=\"T_62c7189e_27ed_11e9_a190_b46921a1ad73row0_col1\" class=\"data row0 col1\" >1</td> \n",
       "        <td id=\"T_62c7189e_27ed_11e9_a190_b46921a1ad73row0_col2\" class=\"data row0 col2\" >3</td> \n",
       "        <td id=\"T_62c7189e_27ed_11e9_a190_b46921a1ad73row0_col3\" class=\"data row0 col3\" >145</td> \n",
       "        <td id=\"T_62c7189e_27ed_11e9_a190_b46921a1ad73row0_col4\" class=\"data row0 col4\" >233</td> \n",
       "        <td id=\"T_62c7189e_27ed_11e9_a190_b46921a1ad73row0_col5\" class=\"data row0 col5\" >1</td> \n",
       "        <td id=\"T_62c7189e_27ed_11e9_a190_b46921a1ad73row0_col6\" class=\"data row0 col6\" >0</td> \n",
       "        <td id=\"T_62c7189e_27ed_11e9_a190_b46921a1ad73row0_col7\" class=\"data row0 col7\" >150</td> \n",
       "        <td id=\"T_62c7189e_27ed_11e9_a190_b46921a1ad73row0_col8\" class=\"data row0 col8\" >0</td> \n",
       "        <td id=\"T_62c7189e_27ed_11e9_a190_b46921a1ad73row0_col9\" class=\"data row0 col9\" >2.3</td> \n",
       "        <td id=\"T_62c7189e_27ed_11e9_a190_b46921a1ad73row0_col10\" class=\"data row0 col10\" >0</td> \n",
       "        <td id=\"T_62c7189e_27ed_11e9_a190_b46921a1ad73row0_col11\" class=\"data row0 col11\" >0</td> \n",
       "        <td id=\"T_62c7189e_27ed_11e9_a190_b46921a1ad73row0_col12\" class=\"data row0 col12\" >1</td> \n",
       "        <td id=\"T_62c7189e_27ed_11e9_a190_b46921a1ad73row0_col13\" class=\"data row0 col13\" >1</td> \n",
       "    </tr>    <tr> \n",
       "        <th id=\"T_62c7189e_27ed_11e9_a190_b46921a1ad73level0_row1\" class=\"row_heading level0 row1\" >1</th> \n",
       "        <td id=\"T_62c7189e_27ed_11e9_a190_b46921a1ad73row1_col0\" class=\"data row1 col0\" >37</td> \n",
       "        <td id=\"T_62c7189e_27ed_11e9_a190_b46921a1ad73row1_col1\" class=\"data row1 col1\" >1</td> \n",
       "        <td id=\"T_62c7189e_27ed_11e9_a190_b46921a1ad73row1_col2\" class=\"data row1 col2\" >2</td> \n",
       "        <td id=\"T_62c7189e_27ed_11e9_a190_b46921a1ad73row1_col3\" class=\"data row1 col3\" >130</td> \n",
       "        <td id=\"T_62c7189e_27ed_11e9_a190_b46921a1ad73row1_col4\" class=\"data row1 col4\" >250</td> \n",
       "        <td id=\"T_62c7189e_27ed_11e9_a190_b46921a1ad73row1_col5\" class=\"data row1 col5\" >0</td> \n",
       "        <td id=\"T_62c7189e_27ed_11e9_a190_b46921a1ad73row1_col6\" class=\"data row1 col6\" >1</td> \n",
       "        <td id=\"T_62c7189e_27ed_11e9_a190_b46921a1ad73row1_col7\" class=\"data row1 col7\" >187</td> \n",
       "        <td id=\"T_62c7189e_27ed_11e9_a190_b46921a1ad73row1_col8\" class=\"data row1 col8\" >0</td> \n",
       "        <td id=\"T_62c7189e_27ed_11e9_a190_b46921a1ad73row1_col9\" class=\"data row1 col9\" >3.5</td> \n",
       "        <td id=\"T_62c7189e_27ed_11e9_a190_b46921a1ad73row1_col10\" class=\"data row1 col10\" >0</td> \n",
       "        <td id=\"T_62c7189e_27ed_11e9_a190_b46921a1ad73row1_col11\" class=\"data row1 col11\" >0</td> \n",
       "        <td id=\"T_62c7189e_27ed_11e9_a190_b46921a1ad73row1_col12\" class=\"data row1 col12\" >2</td> \n",
       "        <td id=\"T_62c7189e_27ed_11e9_a190_b46921a1ad73row1_col13\" class=\"data row1 col13\" >1</td> \n",
       "    </tr>    <tr> \n",
       "        <th id=\"T_62c7189e_27ed_11e9_a190_b46921a1ad73level0_row2\" class=\"row_heading level0 row2\" >2</th> \n",
       "        <td id=\"T_62c7189e_27ed_11e9_a190_b46921a1ad73row2_col0\" class=\"data row2 col0\" >41</td> \n",
       "        <td id=\"T_62c7189e_27ed_11e9_a190_b46921a1ad73row2_col1\" class=\"data row2 col1\" >0</td> \n",
       "        <td id=\"T_62c7189e_27ed_11e9_a190_b46921a1ad73row2_col2\" class=\"data row2 col2\" >1</td> \n",
       "        <td id=\"T_62c7189e_27ed_11e9_a190_b46921a1ad73row2_col3\" class=\"data row2 col3\" >130</td> \n",
       "        <td id=\"T_62c7189e_27ed_11e9_a190_b46921a1ad73row2_col4\" class=\"data row2 col4\" >204</td> \n",
       "        <td id=\"T_62c7189e_27ed_11e9_a190_b46921a1ad73row2_col5\" class=\"data row2 col5\" >0</td> \n",
       "        <td id=\"T_62c7189e_27ed_11e9_a190_b46921a1ad73row2_col6\" class=\"data row2 col6\" >0</td> \n",
       "        <td id=\"T_62c7189e_27ed_11e9_a190_b46921a1ad73row2_col7\" class=\"data row2 col7\" >172</td> \n",
       "        <td id=\"T_62c7189e_27ed_11e9_a190_b46921a1ad73row2_col8\" class=\"data row2 col8\" >0</td> \n",
       "        <td id=\"T_62c7189e_27ed_11e9_a190_b46921a1ad73row2_col9\" class=\"data row2 col9\" >1.4</td> \n",
       "        <td id=\"T_62c7189e_27ed_11e9_a190_b46921a1ad73row2_col10\" class=\"data row2 col10\" >2</td> \n",
       "        <td id=\"T_62c7189e_27ed_11e9_a190_b46921a1ad73row2_col11\" class=\"data row2 col11\" >0</td> \n",
       "        <td id=\"T_62c7189e_27ed_11e9_a190_b46921a1ad73row2_col12\" class=\"data row2 col12\" >2</td> \n",
       "        <td id=\"T_62c7189e_27ed_11e9_a190_b46921a1ad73row2_col13\" class=\"data row2 col13\" >1</td> \n",
       "    </tr>    <tr> \n",
       "        <th id=\"T_62c7189e_27ed_11e9_a190_b46921a1ad73level0_row3\" class=\"row_heading level0 row3\" >3</th> \n",
       "        <td id=\"T_62c7189e_27ed_11e9_a190_b46921a1ad73row3_col0\" class=\"data row3 col0\" >56</td> \n",
       "        <td id=\"T_62c7189e_27ed_11e9_a190_b46921a1ad73row3_col1\" class=\"data row3 col1\" >1</td> \n",
       "        <td id=\"T_62c7189e_27ed_11e9_a190_b46921a1ad73row3_col2\" class=\"data row3 col2\" >1</td> \n",
       "        <td id=\"T_62c7189e_27ed_11e9_a190_b46921a1ad73row3_col3\" class=\"data row3 col3\" >120</td> \n",
       "        <td id=\"T_62c7189e_27ed_11e9_a190_b46921a1ad73row3_col4\" class=\"data row3 col4\" >236</td> \n",
       "        <td id=\"T_62c7189e_27ed_11e9_a190_b46921a1ad73row3_col5\" class=\"data row3 col5\" >0</td> \n",
       "        <td id=\"T_62c7189e_27ed_11e9_a190_b46921a1ad73row3_col6\" class=\"data row3 col6\" >1</td> \n",
       "        <td id=\"T_62c7189e_27ed_11e9_a190_b46921a1ad73row3_col7\" class=\"data row3 col7\" >178</td> \n",
       "        <td id=\"T_62c7189e_27ed_11e9_a190_b46921a1ad73row3_col8\" class=\"data row3 col8\" >0</td> \n",
       "        <td id=\"T_62c7189e_27ed_11e9_a190_b46921a1ad73row3_col9\" class=\"data row3 col9\" >0.8</td> \n",
       "        <td id=\"T_62c7189e_27ed_11e9_a190_b46921a1ad73row3_col10\" class=\"data row3 col10\" >2</td> \n",
       "        <td id=\"T_62c7189e_27ed_11e9_a190_b46921a1ad73row3_col11\" class=\"data row3 col11\" >0</td> \n",
       "        <td id=\"T_62c7189e_27ed_11e9_a190_b46921a1ad73row3_col12\" class=\"data row3 col12\" >2</td> \n",
       "        <td id=\"T_62c7189e_27ed_11e9_a190_b46921a1ad73row3_col13\" class=\"data row3 col13\" >1</td> \n",
       "    </tr>    <tr> \n",
       "        <th id=\"T_62c7189e_27ed_11e9_a190_b46921a1ad73level0_row4\" class=\"row_heading level0 row4\" >4</th> \n",
       "        <td id=\"T_62c7189e_27ed_11e9_a190_b46921a1ad73row4_col0\" class=\"data row4 col0\" >57</td> \n",
       "        <td id=\"T_62c7189e_27ed_11e9_a190_b46921a1ad73row4_col1\" class=\"data row4 col1\" >0</td> \n",
       "        <td id=\"T_62c7189e_27ed_11e9_a190_b46921a1ad73row4_col2\" class=\"data row4 col2\" >0</td> \n",
       "        <td id=\"T_62c7189e_27ed_11e9_a190_b46921a1ad73row4_col3\" class=\"data row4 col3\" >120</td> \n",
       "        <td id=\"T_62c7189e_27ed_11e9_a190_b46921a1ad73row4_col4\" class=\"data row4 col4\" >354</td> \n",
       "        <td id=\"T_62c7189e_27ed_11e9_a190_b46921a1ad73row4_col5\" class=\"data row4 col5\" >0</td> \n",
       "        <td id=\"T_62c7189e_27ed_11e9_a190_b46921a1ad73row4_col6\" class=\"data row4 col6\" >1</td> \n",
       "        <td id=\"T_62c7189e_27ed_11e9_a190_b46921a1ad73row4_col7\" class=\"data row4 col7\" >163</td> \n",
       "        <td id=\"T_62c7189e_27ed_11e9_a190_b46921a1ad73row4_col8\" class=\"data row4 col8\" >1</td> \n",
       "        <td id=\"T_62c7189e_27ed_11e9_a190_b46921a1ad73row4_col9\" class=\"data row4 col9\" >0.6</td> \n",
       "        <td id=\"T_62c7189e_27ed_11e9_a190_b46921a1ad73row4_col10\" class=\"data row4 col10\" >2</td> \n",
       "        <td id=\"T_62c7189e_27ed_11e9_a190_b46921a1ad73row4_col11\" class=\"data row4 col11\" >0</td> \n",
       "        <td id=\"T_62c7189e_27ed_11e9_a190_b46921a1ad73row4_col12\" class=\"data row4 col12\" >2</td> \n",
       "        <td id=\"T_62c7189e_27ed_11e9_a190_b46921a1ad73row4_col13\" class=\"data row4 col13\" >1</td> \n",
       "    </tr></tbody> \n",
       "</table> "
      ],
      "text/plain": [
       "<pandas.io.formats.style.Styler at 0x1cda38efa20>"
      ]
     },
     "execution_count": 10,
     "metadata": {},
     "output_type": "execute_result"
    }
   ],
   "source": [
    "data = pd.read_csv('heart.csv')\n",
    "data.head().style #Call the head() function to see how the dataset looks (.style() shows all columns)"
   ]
  },
  {
   "cell_type": "markdown",
   "metadata": {},
   "source": [
    "## Explanatory Data Analysis\n"
   ]
  },
  {
   "cell_type": "code",
   "execution_count": 4,
   "metadata": {
    "scrolled": true
   },
   "outputs": [
    {
     "name": "stdout",
     "output_type": "stream",
     "text": [
      "<class 'pandas.core.frame.DataFrame'>\n",
      "RangeIndex: 303 entries, 0 to 302\n",
      "Data columns (total 14 columns):\n",
      "age         303 non-null int64\n",
      "sex         303 non-null int64\n",
      "cp          303 non-null int64\n",
      "trestbps    303 non-null int64\n",
      "chol        303 non-null int64\n",
      "fbs         303 non-null int64\n",
      "restecg     303 non-null int64\n",
      "thalach     303 non-null int64\n",
      "exang       303 non-null int64\n",
      "oldpeak     303 non-null float64\n",
      "slope       303 non-null int64\n",
      "ca          303 non-null int64\n",
      "thal        303 non-null int64\n",
      "target      303 non-null int64\n",
      "dtypes: float64(1), int64(13)\n",
      "memory usage: 33.2 KB\n"
     ]
    }
   ],
   "source": [
    "data.info()  #No NAs"
   ]
  },
  {
   "cell_type": "code",
   "execution_count": 5,
   "metadata": {},
   "outputs": [
    {
     "name": "stdout",
     "output_type": "stream",
     "text": [
      "Dimensions of original data: (303, 14)\n"
     ]
    }
   ],
   "source": [
    "# Print the dimensions of the original Hitters data (322 rows x 20 columns)\n",
    "print(\"Dimensions of original data:\", data.shape)\n",
    "# From herer it can be seen that the data set is big, 18207 rows and 89 columns!"
   ]
  },
  {
   "cell_type": "markdown",
   "metadata": {},
   "source": [
    "## Visualizing the data"
   ]
  },
  {
   "cell_type": "code",
   "execution_count": 21,
   "metadata": {},
   "outputs": [
    {
     "data": {
      "image/png": "[encoded data removed]",
      "text/plain": [
       "<Figure size 576x360 with 2 Axes>"
      ]
     },
     "metadata": {
      "needs_background": "light"
     },
     "output_type": "display_data"
    }
   ],
   "source": [
    "# plot response\n",
    "keys, counts = np.unique(data.target, return_counts=True)\n",
    "counts_norm = counts/counts.sum()\n",
    "\n",
    "fig = plt.figure(figsize=(8, 5)) #specify figure size\n",
    "gs = gridspec.GridSpec(1, 2, width_ratios=[2,1]) #specify relative size of left and right plot\n",
    "\n",
    "#Absolute values\n",
    "ax0 = plt.subplot(gs[0])\n",
    "ax0 = plt.bar(['No heart desease', 'Heart desease'], counts, color=['#1f77b4','#ff7f0e']) #left bar plot\n",
    "ax0 = plt.title('Absolute response distribution') \n",
    "ax0 = plt.ylabel('count')\n",
    "ax0 = plt.text(keys[0], counts[0]/2, counts[0]) #add text box with count of non-fraudulent cases\n",
    "ax0 = plt.text(keys[1], counts[1]/2, counts[1]) #add text box with count of fraudulent cases\n",
    "\n",
    "#Normalized values\n",
    "ax1 = plt.subplot(gs[1])\n",
    "ax1 = plt.bar(['Response type'], [counts_norm[0]], label='0 (no)')\n",
    "ax1 = plt.bar(['Response type'], [counts_norm[1]], bottom=counts_norm[0], label='1 (yes)')\n",
    "ax1 = plt.legend(bbox_to_anchor=(1, 1))\n",
    "ax1 = plt.title('Relative response distribution')\n",
    "ax1 = plt.ylabel('frequency')\n",
    "ax1 = plt.text(['Response type'],counts_norm[0]/2, '{}%'.format((counts_norm[0]*100).round(1)))\n",
    "ax1 = plt.text(['Response type'],(counts_norm[1]/2)+counts_norm[0], '{}%'.format((counts_norm[1]*100).round(1)))\n",
    "\n",
    "plt.tight_layout()\n",
    "plt.show()"
   ]
  },
  {
   "cell_type": "code",
   "execution_count": 31,
   "metadata": {},
   "outputs": [
    {
     "name": "stdout",
     "output_type": "stream",
     "text": [
      "age         96\n",
      "sex         96\n",
      "cp          96\n",
      "trestbps    96\n",
      "chol        96\n",
      "fbs         96\n",
      "restecg     96\n",
      "thalach     96\n",
      "exang       96\n",
      "oldpeak     96\n",
      "slope       96\n",
      "ca          96\n",
      "thal        96\n",
      "target      96\n",
      "dtype: int64 age         207\n",
      "sex         207\n",
      "cp          207\n",
      "trestbps    207\n",
      "chol        207\n",
      "fbs         207\n",
      "restecg     207\n",
      "thalach     207\n",
      "exang       207\n",
      "oldpeak     207\n",
      "slope       207\n",
      "ca          207\n",
      "thal        207\n",
      "target      207\n",
      "dtype: int64 age         138\n",
      "sex         138\n",
      "cp          138\n",
      "trestbps    138\n",
      "chol        138\n",
      "fbs         138\n",
      "restecg     138\n",
      "thalach     138\n",
      "exang       138\n",
      "oldpeak     138\n",
      "slope       138\n",
      "ca          138\n",
      "thal        138\n",
      "target      138\n",
      "dtype: int64 age         165\n",
      "sex         165\n",
      "cp          165\n",
      "trestbps    165\n",
      "chol        165\n",
      "fbs         165\n",
      "restecg     165\n",
      "thalach     165\n",
      "exang       165\n",
      "oldpeak     165\n",
      "slope       165\n",
      "ca          165\n",
      "thal        165\n",
      "target      165\n",
      "dtype: int64\n"
     ]
    }
   ],
   "source": []
  },
  {
   "cell_type": "code",
   "execution_count": 9,
   "metadata": {},
   "outputs": [
    {
     "data": {
      "image/png": "[encoded data removed]",
      "text/plain": [
       "<Figure size 1080x360 with 1 Axes>"
      ]
     },
     "metadata": {
      "needs_background": "light"
     },
     "output_type": "display_data"
    }
   ],
   "source": [
    "pd.crosstab(data.age,data.target).plot(kind=\"bar\",figsize=(15,5))\n",
    "plt.title('Heart Disease Frequency for different age groups')\n",
    "plt.xlabel('Age')\n",
    "plt.ylabel('Frequency')\n",
    "plt.show()"
   ]
  },
  {
   "cell_type": "code",
   "execution_count": 178,
   "metadata": {},
   "outputs": [
    {
     "name": "stdout",
     "output_type": "stream",
     "text": [
      "0        110.5M0\n",
      "1            NaN\n",
      "2        118.5M0\n",
      "3            NaN\n",
      "4            NaN\n",
      "5            NaN\n",
      "6            NaN\n",
      "7            NaN\n",
      "8            NaN\n",
      "9            NaN\n",
      "10           NaN\n",
      "11        76.5M0\n",
      "12           NaN\n",
      "13           NaN\n",
      "14           NaN\n",
      "15           NaN\n",
      "16        83.5M0\n",
      "17           NaN\n",
      "18           NaN\n",
      "19        53.5M0\n",
      "20        51.5M0\n",
      "21           NaN\n",
      "22           NaN\n",
      "23        64.5M0\n",
      "24           NaN\n",
      "25           NaN\n",
      "26        69.5M0\n",
      "27        59.5M0\n",
      "28        69.5M0\n",
      "29           NaN\n",
      "          ...   \n",
      "18177        NaN\n",
      "18178        NaN\n",
      "18179        NaN\n",
      "18180        NaN\n",
      "18181        NaN\n",
      "18182        NaN\n",
      "18183        NaN\n",
      "18184        NaN\n",
      "18185        NaN\n",
      "18186        NaN\n",
      "18187        NaN\n",
      "18188        NaN\n",
      "18189        NaN\n",
      "18190        NaN\n",
      "18191        NaN\n",
      "18192        NaN\n",
      "18193        NaN\n",
      "18194        NaN\n",
      "18195        NaN\n",
      "18196        NaN\n",
      "18197        NaN\n",
      "18198        NaN\n",
      "18199        NaN\n",
      "18200        NaN\n",
      "18201        NaN\n",
      "18202        NaN\n",
      "18203        NaN\n",
      "18204        NaN\n",
      "18205        NaN\n",
      "18206        NaN\n",
      "Name: Value, Length: 18207, dtype: object\n"
     ]
    }
   ],
   "source": [
    "data['Value'] = data['Value'].map(lambda x: x.lstrip('€'))\n",
    "data[\"Value\"] = data[\"Value\"].str.replace(\"000000\",\"M\")\n",
    "\n",
    "data[\"Value\"]=data[data[\"Value\"].str.contains(\".\",regex = False)][\"Value\"].apply(lambda x: x +\"0\")\n",
    "\n",
    "print(data[\"Value\"])"
   ]
  },
  {
   "cell_type": "code",
   "execution_count": 186,
   "metadata": {},
   "outputs": [
    {
     "ename": "ValueError",
     "evalue": "cannot convert float NaN to integer",
     "output_type": "error",
     "traceback": [
      "\u001b[1;31m---------------------------------------------------------------------------\u001b[0m",
      "\u001b[1;31mValueError\u001b[0m                                Traceback (most recent call last)",
      "\u001b[1;32m<ipython-input-186-691f437225c3>\u001b[0m in \u001b[0;36m<module>\u001b[1;34m\u001b[0m\n\u001b[0;32m      1\u001b[0m \u001b[0mdata\u001b[0m\u001b[1;33m[\u001b[0m\u001b[1;34m\"Value\"\u001b[0m\u001b[1;33m]\u001b[0m\u001b[1;33m.\u001b[0m\u001b[0mdropna\u001b[0m\u001b[1;33m(\u001b[0m\u001b[1;33m)\u001b[0m\u001b[1;33m\u001b[0m\u001b[1;33m\u001b[0m\u001b[0m\n\u001b[1;32m----> 2\u001b[1;33m \u001b[0mdata\u001b[0m\u001b[1;33m[\u001b[0m\u001b[1;34m'Value'\u001b[0m\u001b[1;33m]\u001b[0m\u001b[1;33m=\u001b[0m\u001b[0mdata\u001b[0m\u001b[1;33m[\u001b[0m\u001b[1;34m'Value'\u001b[0m\u001b[1;33m]\u001b[0m\u001b[1;33m.\u001b[0m\u001b[0mstr\u001b[0m\u001b[1;33m.\u001b[0m\u001b[0mextract\u001b[0m\u001b[1;33m(\u001b[0m\u001b[1;34m'(\\d+)'\u001b[0m\u001b[1;33m,\u001b[0m\u001b[0mexpand\u001b[0m\u001b[1;33m=\u001b[0m\u001b[1;32mTrue\u001b[0m\u001b[1;33m)\u001b[0m\u001b[1;33m.\u001b[0m\u001b[0mastype\u001b[0m\u001b[1;33m(\u001b[0m\u001b[0mint\u001b[0m\u001b[1;33m)\u001b[0m\u001b[1;33m\u001b[0m\u001b[1;33m\u001b[0m\u001b[0m\n\u001b[0m\u001b[0;32m      3\u001b[0m \u001b[0mprint\u001b[0m\u001b[1;33m(\u001b[0m\u001b[0mdata\u001b[0m\u001b[1;33m[\u001b[0m\u001b[1;34m\"Value\"\u001b[0m\u001b[1;33m]\u001b[0m\u001b[1;33m)\u001b[0m\u001b[1;33m\u001b[0m\u001b[1;33m\u001b[0m\u001b[0m\n",
      "\u001b[1;32m~\\Anaconda3\\lib\\site-packages\\pandas\\util\\_decorators.py\u001b[0m in \u001b[0;36mwrapper\u001b[1;34m(*args, **kwargs)\u001b[0m\n\u001b[0;32m    176\u001b[0m                 \u001b[1;32melse\u001b[0m\u001b[1;33m:\u001b[0m\u001b[1;33m\u001b[0m\u001b[1;33m\u001b[0m\u001b[0m\n\u001b[0;32m    177\u001b[0m                     \u001b[0mkwargs\u001b[0m\u001b[1;33m[\u001b[0m\u001b[0mnew_arg_name\u001b[0m\u001b[1;33m]\u001b[0m \u001b[1;33m=\u001b[0m \u001b[0mnew_arg_value\u001b[0m\u001b[1;33m\u001b[0m\u001b[1;33m\u001b[0m\u001b[0m\n\u001b[1;32m--> 178\u001b[1;33m             \u001b[1;32mreturn\u001b[0m \u001b[0mfunc\u001b[0m\u001b[1;33m(\u001b[0m\u001b[1;33m*\u001b[0m\u001b[0margs\u001b[0m\u001b[1;33m,\u001b[0m \u001b[1;33m**\u001b[0m\u001b[0mkwargs\u001b[0m\u001b[1;33m)\u001b[0m\u001b[1;33m\u001b[0m\u001b[1;33m\u001b[0m\u001b[0m\n\u001b[0m\u001b[0;32m    179\u001b[0m         \u001b[1;32mreturn\u001b[0m \u001b[0mwrapper\u001b[0m\u001b[1;33m\u001b[0m\u001b[1;33m\u001b[0m\u001b[0m\n\u001b[0;32m    180\u001b[0m     \u001b[1;32mreturn\u001b[0m \u001b[0m_deprecate_kwarg\u001b[0m\u001b[1;33m\u001b[0m\u001b[1;33m\u001b[0m\u001b[0m\n",
      "\u001b[1;32m~\\Anaconda3\\lib\\site-packages\\pandas\\core\\generic.py\u001b[0m in \u001b[0;36mastype\u001b[1;34m(self, dtype, copy, errors, **kwargs)\u001b[0m\n\u001b[0;32m   4999\u001b[0m             \u001b[1;31m# else, only a single dtype is given\u001b[0m\u001b[1;33m\u001b[0m\u001b[1;33m\u001b[0m\u001b[1;33m\u001b[0m\u001b[0m\n\u001b[0;32m   5000\u001b[0m             new_data = self._data.astype(dtype=dtype, copy=copy, errors=errors,\n\u001b[1;32m-> 5001\u001b[1;33m                                          **kwargs)\n\u001b[0m\u001b[0;32m   5002\u001b[0m             \u001b[1;32mreturn\u001b[0m \u001b[0mself\u001b[0m\u001b[1;33m.\u001b[0m\u001b[0m_constructor\u001b[0m\u001b[1;33m(\u001b[0m\u001b[0mnew_data\u001b[0m\u001b[1;33m)\u001b[0m\u001b[1;33m.\u001b[0m\u001b[0m__finalize__\u001b[0m\u001b[1;33m(\u001b[0m\u001b[0mself\u001b[0m\u001b[1;33m)\u001b[0m\u001b[1;33m\u001b[0m\u001b[1;33m\u001b[0m\u001b[0m\n\u001b[0;32m   5003\u001b[0m \u001b[1;33m\u001b[0m\u001b[0m\n",
      "\u001b[1;32m~\\Anaconda3\\lib\\site-packages\\pandas\\core\\internals.py\u001b[0m in \u001b[0;36mastype\u001b[1;34m(self, dtype, **kwargs)\u001b[0m\n\u001b[0;32m   3712\u001b[0m \u001b[1;33m\u001b[0m\u001b[0m\n\u001b[0;32m   3713\u001b[0m     \u001b[1;32mdef\u001b[0m \u001b[0mastype\u001b[0m\u001b[1;33m(\u001b[0m\u001b[0mself\u001b[0m\u001b[1;33m,\u001b[0m \u001b[0mdtype\u001b[0m\u001b[1;33m,\u001b[0m \u001b[1;33m**\u001b[0m\u001b[0mkwargs\u001b[0m\u001b[1;33m)\u001b[0m\u001b[1;33m:\u001b[0m\u001b[1;33m\u001b[0m\u001b[1;33m\u001b[0m\u001b[0m\n\u001b[1;32m-> 3714\u001b[1;33m         \u001b[1;32mreturn\u001b[0m \u001b[0mself\u001b[0m\u001b[1;33m.\u001b[0m\u001b[0mapply\u001b[0m\u001b[1;33m(\u001b[0m\u001b[1;34m'astype'\u001b[0m\u001b[1;33m,\u001b[0m \u001b[0mdtype\u001b[0m\u001b[1;33m=\u001b[0m\u001b[0mdtype\u001b[0m\u001b[1;33m,\u001b[0m \u001b[1;33m**\u001b[0m\u001b[0mkwargs\u001b[0m\u001b[1;33m)\u001b[0m\u001b[1;33m\u001b[0m\u001b[1;33m\u001b[0m\u001b[0m\n\u001b[0m\u001b[0;32m   3715\u001b[0m \u001b[1;33m\u001b[0m\u001b[0m\n\u001b[0;32m   3716\u001b[0m     \u001b[1;32mdef\u001b[0m \u001b[0mconvert\u001b[0m\u001b[1;33m(\u001b[0m\u001b[0mself\u001b[0m\u001b[1;33m,\u001b[0m \u001b[1;33m**\u001b[0m\u001b[0mkwargs\u001b[0m\u001b[1;33m)\u001b[0m\u001b[1;33m:\u001b[0m\u001b[1;33m\u001b[0m\u001b[1;33m\u001b[0m\u001b[0m\n",
      "\u001b[1;32m~\\Anaconda3\\lib\\site-packages\\pandas\\core\\internals.py\u001b[0m in \u001b[0;36mapply\u001b[1;34m(self, f, axes, filter, do_integrity_check, consolidate, **kwargs)\u001b[0m\n\u001b[0;32m   3579\u001b[0m \u001b[1;33m\u001b[0m\u001b[0m\n\u001b[0;32m   3580\u001b[0m             \u001b[0mkwargs\u001b[0m\u001b[1;33m[\u001b[0m\u001b[1;34m'mgr'\u001b[0m\u001b[1;33m]\u001b[0m \u001b[1;33m=\u001b[0m \u001b[0mself\u001b[0m\u001b[1;33m\u001b[0m\u001b[1;33m\u001b[0m\u001b[0m\n\u001b[1;32m-> 3581\u001b[1;33m             \u001b[0mapplied\u001b[0m \u001b[1;33m=\u001b[0m \u001b[0mgetattr\u001b[0m\u001b[1;33m(\u001b[0m\u001b[0mb\u001b[0m\u001b[1;33m,\u001b[0m \u001b[0mf\u001b[0m\u001b[1;33m)\u001b[0m\u001b[1;33m(\u001b[0m\u001b[1;33m**\u001b[0m\u001b[0mkwargs\u001b[0m\u001b[1;33m)\u001b[0m\u001b[1;33m\u001b[0m\u001b[1;33m\u001b[0m\u001b[0m\n\u001b[0m\u001b[0;32m   3582\u001b[0m             \u001b[0mresult_blocks\u001b[0m \u001b[1;33m=\u001b[0m \u001b[0m_extend_blocks\u001b[0m\u001b[1;33m(\u001b[0m\u001b[0mapplied\u001b[0m\u001b[1;33m,\u001b[0m \u001b[0mresult_blocks\u001b[0m\u001b[1;33m)\u001b[0m\u001b[1;33m\u001b[0m\u001b[1;33m\u001b[0m\u001b[0m\n\u001b[0;32m   3583\u001b[0m \u001b[1;33m\u001b[0m\u001b[0m\n",
      "\u001b[1;32m~\\Anaconda3\\lib\\site-packages\\pandas\\core\\internals.py\u001b[0m in \u001b[0;36mastype\u001b[1;34m(self, dtype, copy, errors, values, **kwargs)\u001b[0m\n\u001b[0;32m    573\u001b[0m     \u001b[1;32mdef\u001b[0m \u001b[0mastype\u001b[0m\u001b[1;33m(\u001b[0m\u001b[0mself\u001b[0m\u001b[1;33m,\u001b[0m \u001b[0mdtype\u001b[0m\u001b[1;33m,\u001b[0m \u001b[0mcopy\u001b[0m\u001b[1;33m=\u001b[0m\u001b[1;32mFalse\u001b[0m\u001b[1;33m,\u001b[0m \u001b[0merrors\u001b[0m\u001b[1;33m=\u001b[0m\u001b[1;34m'raise'\u001b[0m\u001b[1;33m,\u001b[0m \u001b[0mvalues\u001b[0m\u001b[1;33m=\u001b[0m\u001b[1;32mNone\u001b[0m\u001b[1;33m,\u001b[0m \u001b[1;33m**\u001b[0m\u001b[0mkwargs\u001b[0m\u001b[1;33m)\u001b[0m\u001b[1;33m:\u001b[0m\u001b[1;33m\u001b[0m\u001b[1;33m\u001b[0m\u001b[0m\n\u001b[0;32m    574\u001b[0m         return self._astype(dtype, copy=copy, errors=errors, values=values,\n\u001b[1;32m--> 575\u001b[1;33m                             **kwargs)\n\u001b[0m\u001b[0;32m    576\u001b[0m \u001b[1;33m\u001b[0m\u001b[0m\n\u001b[0;32m    577\u001b[0m     def _astype(self, dtype, copy=False, errors='raise', values=None,\n",
      "\u001b[1;32m~\\Anaconda3\\lib\\site-packages\\pandas\\core\\internals.py\u001b[0m in \u001b[0;36m_astype\u001b[1;34m(self, dtype, copy, errors, values, klass, mgr, **kwargs)\u001b[0m\n\u001b[0;32m    662\u001b[0m \u001b[1;33m\u001b[0m\u001b[0m\n\u001b[0;32m    663\u001b[0m                 \u001b[1;31m# _astype_nansafe works fine with 1-d only\u001b[0m\u001b[1;33m\u001b[0m\u001b[1;33m\u001b[0m\u001b[1;33m\u001b[0m\u001b[0m\n\u001b[1;32m--> 664\u001b[1;33m                 \u001b[0mvalues\u001b[0m \u001b[1;33m=\u001b[0m \u001b[0mastype_nansafe\u001b[0m\u001b[1;33m(\u001b[0m\u001b[0mvalues\u001b[0m\u001b[1;33m.\u001b[0m\u001b[0mravel\u001b[0m\u001b[1;33m(\u001b[0m\u001b[1;33m)\u001b[0m\u001b[1;33m,\u001b[0m \u001b[0mdtype\u001b[0m\u001b[1;33m,\u001b[0m \u001b[0mcopy\u001b[0m\u001b[1;33m=\u001b[0m\u001b[1;32mTrue\u001b[0m\u001b[1;33m)\u001b[0m\u001b[1;33m\u001b[0m\u001b[1;33m\u001b[0m\u001b[0m\n\u001b[0m\u001b[0;32m    665\u001b[0m                 \u001b[0mvalues\u001b[0m \u001b[1;33m=\u001b[0m \u001b[0mvalues\u001b[0m\u001b[1;33m.\u001b[0m\u001b[0mreshape\u001b[0m\u001b[1;33m(\u001b[0m\u001b[0mself\u001b[0m\u001b[1;33m.\u001b[0m\u001b[0mshape\u001b[0m\u001b[1;33m)\u001b[0m\u001b[1;33m\u001b[0m\u001b[1;33m\u001b[0m\u001b[0m\n\u001b[0;32m    666\u001b[0m \u001b[1;33m\u001b[0m\u001b[0m\n",
      "\u001b[1;32m~\\Anaconda3\\lib\\site-packages\\pandas\\core\\dtypes\\cast.py\u001b[0m in \u001b[0;36mastype_nansafe\u001b[1;34m(arr, dtype, copy)\u001b[0m\n\u001b[0;32m    707\u001b[0m         \u001b[1;31m# work around NumPy brokenness, #1987\u001b[0m\u001b[1;33m\u001b[0m\u001b[1;33m\u001b[0m\u001b[1;33m\u001b[0m\u001b[0m\n\u001b[0;32m    708\u001b[0m         \u001b[1;32mif\u001b[0m \u001b[0mnp\u001b[0m\u001b[1;33m.\u001b[0m\u001b[0missubdtype\u001b[0m\u001b[1;33m(\u001b[0m\u001b[0mdtype\u001b[0m\u001b[1;33m.\u001b[0m\u001b[0mtype\u001b[0m\u001b[1;33m,\u001b[0m \u001b[0mnp\u001b[0m\u001b[1;33m.\u001b[0m\u001b[0minteger\u001b[0m\u001b[1;33m)\u001b[0m\u001b[1;33m:\u001b[0m\u001b[1;33m\u001b[0m\u001b[1;33m\u001b[0m\u001b[0m\n\u001b[1;32m--> 709\u001b[1;33m             \u001b[1;32mreturn\u001b[0m \u001b[0mlib\u001b[0m\u001b[1;33m.\u001b[0m\u001b[0mastype_intsafe\u001b[0m\u001b[1;33m(\u001b[0m\u001b[0marr\u001b[0m\u001b[1;33m.\u001b[0m\u001b[0mravel\u001b[0m\u001b[1;33m(\u001b[0m\u001b[1;33m)\u001b[0m\u001b[1;33m,\u001b[0m \u001b[0mdtype\u001b[0m\u001b[1;33m)\u001b[0m\u001b[1;33m.\u001b[0m\u001b[0mreshape\u001b[0m\u001b[1;33m(\u001b[0m\u001b[0marr\u001b[0m\u001b[1;33m.\u001b[0m\u001b[0mshape\u001b[0m\u001b[1;33m)\u001b[0m\u001b[1;33m\u001b[0m\u001b[1;33m\u001b[0m\u001b[0m\n\u001b[0m\u001b[0;32m    710\u001b[0m \u001b[1;33m\u001b[0m\u001b[0m\n\u001b[0;32m    711\u001b[0m         \u001b[1;31m# if we have a datetime/timedelta array of objects\u001b[0m\u001b[1;33m\u001b[0m\u001b[1;33m\u001b[0m\u001b[1;33m\u001b[0m\u001b[0m\n",
      "\u001b[1;32mpandas\\_libs\\lib.pyx\u001b[0m in \u001b[0;36mpandas._libs.lib.astype_intsafe\u001b[1;34m()\u001b[0m\n",
      "\u001b[1;32mpandas/_libs/src\\util.pxd\u001b[0m in \u001b[0;36mutil.set_value_at_unsafe\u001b[1;34m()\u001b[0m\n",
      "\u001b[1;31mValueError\u001b[0m: cannot convert float NaN to integer"
     ]
    }
   ],
   "source": [
    "data[\"Value\"].dropna()\n",
    "data['Value']=data['Value'].str.extract('(\\d+)',expand=True).astype(int)\n",
    "print(data[\"Value\"])"
   ]
  },
  {
   "cell_type": "code",
   "execution_count": 169,
   "metadata": {},
   "outputs": [
    {
     "data": {
      "text/plain": [
       "Index([False, False, False, True, nan], dtype='object')"
      ]
     },
     "execution_count": 169,
     "metadata": {},
     "output_type": "execute_result"
    }
   ],
   "source": [
    "ind = pd.Index(['Mouse', 'dog', 'house and parrot', '23.0', np.NaN])\n",
    "ind.str.contains('23', regex=False)\n",
    "#Index([False, False, False, True, nan], dtype='object')"
   ]
  },
  {
   "cell_type": "code",
   "execution_count": 132,
   "metadata": {},
   "outputs": [
    {
     "name": "stdout",
     "output_type": "stream",
     "text": [
      "0     aa\n",
      "1    aba\n",
      "2      2\n",
      "3      3\n",
      "4      4\n",
      "dtype: object\n",
      "0     aa\n",
      "1    aba\n",
      "2      2\n",
      "3      3\n",
      "4      4\n",
      "dtype: object\n"
     ]
    }
   ],
   "source": [
    "s = pd.Series([\"aa\", \"aba\", 2, 3, 4])\n",
    "print(s.replace(\"a\", \"sd\"))\n",
    "print(s)"
   ]
  },
  {
   "cell_type": "code",
   "execution_count": null,
   "metadata": {},
   "outputs": [],
   "source": [
    "\n"
   ]
  }
 ],
 "metadata": {
  "kernelspec": {
   "display_name": "Python 3",
   "language": "python",
   "name": "python3"
  },
  "language_info": {
   "codemirror_mode": {
    "name": "ipython",
    "version": 3
   },
   "file_extension": ".py",
   "mimetype": "text/x-python",
   "name": "python",
   "nbconvert_exporter": "python",
   "pygments_lexer": "ipython3",
   "version": "3.7.1"
  }
 },
 "nbformat": 4,
 "nbformat_minor": 2
}
