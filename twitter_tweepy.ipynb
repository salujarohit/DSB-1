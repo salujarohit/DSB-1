{
  "nbformat": 4,
  "nbformat_minor": 0,
  "metadata": {
    "colab": {
      "name": "twitter-tweepy.ipynb",
      "provenance": [],
      "collapsed_sections": [],
      "toc_visible": true,
      "machine_shape": "hm",
      "include_colab_link": true
    },
    "kernelspec": {
      "name": "python3",
      "display_name": "Python 3"
    },
    "accelerator": "GPU"
  },
  "cells": [
    {
      "cell_type": "markdown",
      "metadata": {
        "id": "view-in-github",
        "colab_type": "text"
      },
      "source": [
        "<a href=\"https://colab.research.google.com/github/salujarohit/DSB-1/blob/master/twitter_tweepy.ipynb\" target=\"_parent\"><img src=\"https://colab.research.google.com/assets/colab-badge.svg\" alt=\"Open In Colab\"/></a>"
      ]
    },
    {
      "cell_type": "code",
      "metadata": {
        "colab": {
          "base_uri": "https://localhost:8080/"
        },
        "id": "I-ixkW_9pXgM",
        "outputId": "3aa11488-e22d-4a34-ee40-eaf8d3fd617a"
      },
      "source": [
        "!pip install tweepy"
      ],
      "execution_count": null,
      "outputs": [
        {
          "output_type": "stream",
          "text": [
            "Requirement already satisfied: tweepy in /usr/local/lib/python3.6/dist-packages (3.6.0)\n",
            "Requirement already satisfied: requests-oauthlib>=0.7.0 in /usr/local/lib/python3.6/dist-packages (from tweepy) (1.3.0)\n",
            "Requirement already satisfied: PySocks>=1.5.7 in /usr/local/lib/python3.6/dist-packages (from tweepy) (1.7.1)\n",
            "Requirement already satisfied: six>=1.10.0 in /usr/local/lib/python3.6/dist-packages (from tweepy) (1.15.0)\n",
            "Requirement already satisfied: requests>=2.11.1 in /usr/local/lib/python3.6/dist-packages (from tweepy) (2.23.0)\n",
            "Requirement already satisfied: oauthlib>=3.0.0 in /usr/local/lib/python3.6/dist-packages (from requests-oauthlib>=0.7.0->tweepy) (3.1.0)\n",
            "Requirement already satisfied: idna<3,>=2.5 in /usr/local/lib/python3.6/dist-packages (from requests>=2.11.1->tweepy) (2.10)\n",
            "Requirement already satisfied: urllib3!=1.25.0,!=1.25.1,<1.26,>=1.21.1 in /usr/local/lib/python3.6/dist-packages (from requests>=2.11.1->tweepy) (1.24.3)\n",
            "Requirement already satisfied: certifi>=2017.4.17 in /usr/local/lib/python3.6/dist-packages (from requests>=2.11.1->tweepy) (2020.11.8)\n",
            "Requirement already satisfied: chardet<4,>=3.0.2 in /usr/local/lib/python3.6/dist-packages (from requests>=2.11.1->tweepy) (3.0.4)\n"
          ],
          "name": "stdout"
        }
      ]
    },
    {
      "cell_type": "code",
      "metadata": {
        "id": "lTelmlSnp7aY"
      },
      "source": [
        "import tweepy\n",
        "import pandas as pd\n",
        "import numpy as np\n",
        "import math\n",
        "import re\n",
        "import pandas as pd"
      ],
      "execution_count": null,
      "outputs": []
    },
    {
      "cell_type": "code",
      "metadata": {
        "id": "PdcBPAnPpl1x"
      },
      "source": [
        "#Enter your keys\n",
        "consumer_key = \"1keWXFLMoUmnYoLYW1h9Rc2KF\"\n",
        "consumer_secret = \"4xvEQPOC7R7fABXrDeqSmKWiiQIO38RiorkBlU8NDCrDMS1mDV\"\n",
        "access_token = \"3734940073-DqphcSYiyDL4i4PSvLErV1G3ca6ETC5BpahGDXi\"\n",
        "access_token_secret = \"0N5Q8Q0uBWLqiPiSC05iR6qTfxVX0AiErh80B7tZyYJ21\"\n",
        "auth = tweepy.OAuthHandler(consumer_key, consumer_secret)\n",
        "auth.set_access_token(access_token, access_token_secret)\n",
        "api = tweepy.API(auth,wait_on_rate_limit=True)"
      ],
      "execution_count": null,
      "outputs": []
    },
    {
      "cell_type": "code",
      "metadata": {
        "id": "DGgcouzN2NjZ"
      },
      "source": [
        "# tweets_count = api.get_user(id=username)._json['statuses_count']\n",
        "# tweets_per_page = 200\n",
        "# tweets_pages = math.ceil(tweets_count / tweets_per_page);\n",
        "# tweets_all = []\n",
        "# for page in range(1,tweets_pages+1):\n",
        "#   tweets = api.user_timeline(id=username, count=200, page=page)\n",
        "#   print('page:' + str(page) + \" len:\" + str(len(tweets)))\n",
        "#   for tweet in tweets:\n",
        "#     tweets_all.append(tweet._json['created_at'])\n",
        "#   print('total: ', str(len(tweets_all)))\n",
        "# print(len(tweets_all))"
      ],
      "execution_count": null,
      "outputs": []
    },
    {
      "cell_type": "code",
      "metadata": {
        "id": "ISb0IqZZ4Xlx"
      },
      "source": [
        "#tweet._json"
      ],
      "execution_count": null,
      "outputs": []
    },
    {
      "cell_type": "code",
      "metadata": {
        "id": "jSZY90hPxXO3"
      },
      "source": [
        "# tweets = api.user_timeline(id=username,count = 200, page=3)\n",
        "# tweets[0]._json['text']"
      ],
      "execution_count": null,
      "outputs": []
    },
    {
      "cell_type": "code",
      "metadata": {
        "id": "qhqhGWGj0-wZ"
      },
      "source": [
        "# #user object \n",
        "# user = api.get_user(id=username)\n",
        "# status_count = user._json['statuses_count']\n",
        "# print(status_count)"
      ],
      "execution_count": null,
      "outputs": []
    },
    {
      "cell_type": "markdown",
      "metadata": {
        "id": "a7fGw-il_CBH"
      },
      "source": [
        "# Pull Tweets Function"
      ]
    },
    {
      "cell_type": "code",
      "metadata": {
        "id": "gonNR4cW-4TC"
      },
      "source": [
        "def pulltweets(username):\n",
        "  \"\"\"Pass twitter username in quotes\n",
        "  \n",
        "  Returns: A cleaned text file of the tweets\n",
        "  \"\"\"\n",
        "  count = -1\n",
        "  try:    \n",
        "  # Creation of query method using parameters\n",
        "    tweets = tweepy.Cursor(api.user_timeline,id=username).items(count)\n",
        "  except BaseException as e:\n",
        "    print('failed on_status,',str(e))\n",
        "    time.sleep(3)\n",
        "  \n",
        "  tweets_list = [[tweet.created_at, tweet.id, tweet.text] for tweet in tweets] # Pulling information from tweets iterable object\n",
        "   \n",
        "  tweets_df = pd.DataFrame(tweets_list, columns=['Date/Time','ID',\"Tweets\"]) #tweets dataframe\n",
        "  print('Total number of tweets pulled ' + str(len(tweets_list)))\n",
        "  print('Shape of tweeets dataframe ' + str(tweets_df.shape))\n",
        "  tweets_only = tweets_df.iloc[0:,2:]\n",
        "\n",
        "  # tweets preprocessing \n",
        "  tweets_only['Tweets'] = tweets_only['Tweets'].str.replace('http\\S+|www.\\S+', '', case=False)#stripping web addresses\n",
        "  tweets_only['Tweets'] = tweets_only['Tweets'].str.replace('@','',)#striiping @\n",
        "  tweets_only['Tweets'] = tweets_only['Tweets'].str.replace('\\n','')#stripping \\n\n",
        "  #replacing amp&\n",
        "  tweets_only['Tweets'] = tweets_only['Tweets'].str.replace(\"&amp\", \"and\")\n",
        "  \n",
        "  #writing tweets to a text file \n",
        "  tweets_np = tweets_only['Tweets'].to_numpy()\n",
        "  np.savetxt(f\"{username}\" +'_tweets.txt', tweets_np, fmt = \"%s\")"
      ],
      "execution_count": null,
      "outputs": []
    },
    {
      "cell_type": "code",
      "metadata": {
        "colab": {
          "base_uri": "https://localhost:8080/"
        },
        "id": "Xx1A5_sf_i84",
        "outputId": "ba4ebc9b-ef05-4895-f843-88528d02fb30"
      },
      "source": [
        "pulltweets('sama')"
      ],
      "execution_count": null,
      "outputs": [
        {
          "output_type": "stream",
          "text": [
            "Total number of tweets pulled 3196\n",
            "Shape of tweeets dataframe (3196, 3)\n"
          ],
          "name": "stdout"
        }
      ]
    },
    {
      "cell_type": "markdown",
      "metadata": {
        "id": "D8C_yi6MaI6G"
      },
      "source": [
        "###Joining the tweets text files"
      ]
    },
    {
      "cell_type": "code",
      "metadata": {
        "id": "hCxTmngSaIEc"
      },
      "source": [
        "tweet_files = [\"simonsinek_tweets.txt\",\"TomBilyeu_tweets.txt\", \"sama_tweets.txt\", \"naval_tweets.txt\"]"
      ],
      "execution_count": null,
      "outputs": []
    },
    {
      "cell_type": "code",
      "metadata": {
        "id": "_lZOxipcfXDX"
      },
      "source": [
        "with open('/content//tweets_joined.txt', 'w') as outfile:\n",
        "    for fname in tweet_files:\n",
        "        with open(fname) as infile:\n",
        "            for line in infile:\n",
        "                outfile.write(line)"
      ],
      "execution_count": null,
      "outputs": []
    },
    {
      "cell_type": "code",
      "metadata": {
        "id": "vxILSkpYfaLG"
      },
      "source": [
        "cols = ['Tweets']\n",
        "df_tweets_joined = pd.read_csv('tweets_joined.txt',sep = \"\\n\",error_bad_lines=False,names= cols)"
      ],
      "execution_count": null,
      "outputs": []
    },
    {
      "cell_type": "code",
      "metadata": {
        "colab": {
          "base_uri": "https://localhost:8080/"
        },
        "id": "Gzl5seE1gJZW",
        "outputId": "2d96321b-ff83-4248-9a7e-f106044945a7"
      },
      "source": [
        "df_tweets_joined.shape"
      ],
      "execution_count": null,
      "outputs": [
        {
          "output_type": "execute_result",
          "data": {
            "text/plain": [
              "(12388, 1)"
            ]
          },
          "metadata": {
            "tags": []
          },
          "execution_count": 28
        }
      ]
    },
    {
      "cell_type": "code",
      "metadata": {
        "colab": {
          "base_uri": "https://localhost:8080/",
          "height": 419
        },
        "id": "cXu01lCigP-y",
        "outputId": "d8d85abb-5a89-4553-a658-77477264b93e"
      },
      "source": [
        "df_tweets_joined"
      ],
      "execution_count": null,
      "outputs": [
        {
          "output_type": "execute_result",
          "data": {
            "text/html": [
              "<div>\n",
              "<style scoped>\n",
              "    .dataframe tbody tr th:only-of-type {\n",
              "        vertical-align: middle;\n",
              "    }\n",
              "\n",
              "    .dataframe tbody tr th {\n",
              "        vertical-align: top;\n",
              "    }\n",
              "\n",
              "    .dataframe thead th {\n",
              "        text-align: right;\n",
              "    }\n",
              "</style>\n",
              "<table border=\"1\" class=\"dataframe\">\n",
              "  <thead>\n",
              "    <tr style=\"text-align: right;\">\n",
              "      <th></th>\n",
              "      <th>Tweets</th>\n",
              "    </tr>\n",
              "  </thead>\n",
              "  <tbody>\n",
              "    <tr>\n",
              "      <th>0</th>\n",
              "      <td>If we were good at everything, we’d have no ne...</td>\n",
              "    </tr>\n",
              "    <tr>\n",
              "      <th>1</th>\n",
              "      <td>A small team, committed to a cause bigger than...</td>\n",
              "    </tr>\n",
              "    <tr>\n",
              "      <th>2</th>\n",
              "      <td>We are living in a polarized world. There is, ...</td>\n",
              "    </tr>\n",
              "    <tr>\n",
              "      <th>3</th>\n",
              "      <td>Intelligence uses what is known to solve probl...</td>\n",
              "    </tr>\n",
              "    <tr>\n",
              "      <th>4</th>\n",
              "      <td>Great leaders don't see themselves as great; t...</td>\n",
              "    </tr>\n",
              "    <tr>\n",
              "      <th>...</th>\n",
              "      <td>...</td>\n",
              "    </tr>\n",
              "    <tr>\n",
              "      <th>12383</th>\n",
              "      <td>RT mattvcummings: There Are no “Adults”Everyon...</td>\n",
              "    </tr>\n",
              "    <tr>\n",
              "      <th>12384</th>\n",
              "      <td>EbrahimAsh EHSANI22 Astonishing coincidence. T...</td>\n",
              "    </tr>\n",
              "    <tr>\n",
              "      <th>12385</th>\n",
              "      <td>256_philosopher Quality over quantity. You wil...</td>\n",
              "    </tr>\n",
              "    <tr>\n",
              "      <th>12386</th>\n",
              "      <td>RT NavalBot: \"A taste of freedom can make you ...</td>\n",
              "    </tr>\n",
              "    <tr>\n",
              "      <th>12387</th>\n",
              "      <td>XMasterrrr I don’t. I just try and stay aware ...</td>\n",
              "    </tr>\n",
              "  </tbody>\n",
              "</table>\n",
              "<p>12388 rows × 1 columns</p>\n",
              "</div>"
            ],
            "text/plain": [
              "                                                  Tweets\n",
              "0      If we were good at everything, we’d have no ne...\n",
              "1      A small team, committed to a cause bigger than...\n",
              "2      We are living in a polarized world. There is, ...\n",
              "3      Intelligence uses what is known to solve probl...\n",
              "4      Great leaders don't see themselves as great; t...\n",
              "...                                                  ...\n",
              "12383  RT mattvcummings: There Are no “Adults”Everyon...\n",
              "12384  EbrahimAsh EHSANI22 Astonishing coincidence. T...\n",
              "12385  256_philosopher Quality over quantity. You wil...\n",
              "12386  RT NavalBot: \"A taste of freedom can make you ...\n",
              "12387  XMasterrrr I don’t. I just try and stay aware ...\n",
              "\n",
              "[12388 rows x 1 columns]"
            ]
          },
          "metadata": {
            "tags": []
          },
          "execution_count": 59
        }
      ]
    },
    {
      "cell_type": "code",
      "metadata": {
        "id": "ybY0jWLQt2qk"
      },
      "source": [
        "df_tweets_joined.to_csv('joined_tweets.csv')"
      ],
      "execution_count": null,
      "outputs": []
    },
    {
      "cell_type": "markdown",
      "metadata": {
        "id": "K86hkEhrF7lG"
      },
      "source": [
        "##Using text search \n"
      ]
    },
    {
      "cell_type": "code",
      "metadata": {
        "id": "xJAQcYNhGCC8"
      },
      "source": [
        "#api call \n",
        "text_query = 'Flowrite'\n",
        "count = -1\n",
        "try:\n",
        " # Creation of query method using parameters\n",
        " tweets = tweepy.Cursor(api.search,q=text_query).items(count)\n",
        "except BaseException as e:\n",
        "    print('failed on_status,',str(e))\n",
        "    time.sleep(3)"
      ],
      "execution_count": null,
      "outputs": []
    },
    {
      "cell_type": "code",
      "metadata": {
        "id": "JIUtiSh8GvHc"
      },
      "source": [
        " # Pulling information from tweets iterable object\n",
        " tweets_list_text = [[tweet.created_at, tweet.id, tweet.text] for tweet in tweets]\n",
        " \n",
        " # Creation of dataframe from tweets list\n",
        " # Add or remove columns as you remove tweet information\n",
        " tweets_df_text = pd.DataFrame(tweets_list_text)"
      ],
      "execution_count": null,
      "outputs": []
    },
    {
      "cell_type": "code",
      "metadata": {
        "colab": {
          "base_uri": "https://localhost:8080/",
          "height": 1000
        },
        "id": "0-Ayxc3N-aNS",
        "outputId": "5c06b227-0dfa-4148-f40d-c42ed2200125"
      },
      "source": [
        "tweets_df_text"
      ],
      "execution_count": null,
      "outputs": [
        {
          "output_type": "execute_result",
          "data": {
            "text/html": [
              "<div>\n",
              "<style scoped>\n",
              "    .dataframe tbody tr th:only-of-type {\n",
              "        vertical-align: middle;\n",
              "    }\n",
              "\n",
              "    .dataframe tbody tr th {\n",
              "        vertical-align: top;\n",
              "    }\n",
              "\n",
              "    .dataframe thead th {\n",
              "        text-align: right;\n",
              "    }\n",
              "</style>\n",
              "<table border=\"1\" class=\"dataframe\">\n",
              "  <thead>\n",
              "    <tr style=\"text-align: right;\">\n",
              "      <th></th>\n",
              "      <th>0</th>\n",
              "      <th>1</th>\n",
              "      <th>2</th>\n",
              "    </tr>\n",
              "  </thead>\n",
              "  <tbody>\n",
              "    <tr>\n",
              "      <th>0</th>\n",
              "      <td>2020-11-28 01:43:06</td>\n",
              "      <td>1332500230994948097</td>\n",
              "      <td>IYN さんでやってる夏目レモンさんの個展、結構年末ギリギリまでやってるんや。帰省したときに...</td>\n",
              "    </tr>\n",
              "    <tr>\n",
              "      <th>1</th>\n",
              "      <td>2020-11-27 22:28:50</td>\n",
              "      <td>1332451343592669185</td>\n",
              "      <td>今日は晴れてていい朝だ</td>\n",
              "    </tr>\n",
              "    <tr>\n",
              "      <th>2</th>\n",
              "      <td>2020-11-27 15:18:29</td>\n",
              "      <td>1332343040799694850</td>\n",
              "      <td>結局なにが言いたいかというとこれからも頑張って成長するのでどうぞよろしくお願いしますという。...</td>\n",
              "    </tr>\n",
              "    <tr>\n",
              "      <th>3</th>\n",
              "      <td>2020-11-27 15:14:29</td>\n",
              "      <td>1332342034309419014</td>\n",
              "      <td>今まではただこれが描きたいと思ったものをなんとか描き出すので精一杯だったけど、最近どんな線で...</td>\n",
              "    </tr>\n",
              "    <tr>\n",
              "      <th>4</th>\n",
              "      <td>2020-11-27 15:07:28</td>\n",
              "      <td>1332340269996380163</td>\n",
              "      <td>ただかわいらしい絵が描きたいわけではないんだよね。基本的にはどちらかというとかっこいい絵が描...</td>\n",
              "    </tr>\n",
              "    <tr>\n",
              "      <th>5</th>\n",
              "      <td>2020-11-27 15:02:03</td>\n",
              "      <td>1332338906721779713</td>\n",
              "      <td>絵を描き始めて3年半、今年は特にいろいろ実験してきた。今はちょうど次のステップに行く過渡期な...</td>\n",
              "    </tr>\n",
              "    <tr>\n",
              "      <th>6</th>\n",
              "      <td>2020-11-27 12:21:19</td>\n",
              "      <td>1332298455939653638</td>\n",
              "      <td>ホルベインの透明水彩絵具のサップグリーンとコバルトブルー ヒューとバーントアンバーとクリムソ...</td>\n",
              "    </tr>\n",
              "    <tr>\n",
              "      <th>7</th>\n",
              "      <td>2020-11-27 10:53:37</td>\n",
              "      <td>1332276386510213120</td>\n",
              "      <td>こういうのもおもしろいね\\n\\n#イラスト https://t.co/Dvt6uSldTU</td>\n",
              "    </tr>\n",
              "    <tr>\n",
              "      <th>8</th>\n",
              "      <td>2020-11-27 10:52:59</td>\n",
              "      <td>1332276228011618304</td>\n",
              "      <td>名刺の画像。最近梨ばかり上げている気がする\\n\\n#イラスト\\n#イラスト好きさんと繋がりた...</td>\n",
              "    </tr>\n",
              "    <tr>\n",
              "      <th>9</th>\n",
              "      <td>2020-11-27 10:25:09</td>\n",
              "      <td>1332269222274088966</td>\n",
              "      <td>AAA GALLERYさまでの展示、今日まででした。見てくださった方々、ありがとうございます...</td>\n",
              "    </tr>\n",
              "    <tr>\n",
              "      <th>10</th>\n",
              "      <td>2020-11-27 10:18:37</td>\n",
              "      <td>1332267578446602241</td>\n",
              "      <td>今日はなんだか他の人の良い絵を見るのが幸せだ...</td>\n",
              "    </tr>\n",
              "    <tr>\n",
              "      <th>11</th>\n",
              "      <td>2020-11-27 10:04:11</td>\n",
              "      <td>1332263945474719745</td>\n",
              "      <td>RT @suzu_tsukimori: hagoromo. https://t.co/YO4...</td>\n",
              "    </tr>\n",
              "    <tr>\n",
              "      <th>12</th>\n",
              "      <td>2020-11-27 05:05:50</td>\n",
              "      <td>1332188862689382400</td>\n",
              "      <td>RT @popman3580: イングランドの丘の飼育員さんが面白かったのでご紹介 http...</td>\n",
              "    </tr>\n",
              "    <tr>\n",
              "      <th>13</th>\n",
              "      <td>2020-11-27 05:05:47</td>\n",
              "      <td>1332188849917685763</td>\n",
              "      <td>RT @Vvgr3C5bZB45GIl: #お絵描き好きさんと繋がりたい \\n#イラスト好き...</td>\n",
              "    </tr>\n",
              "    <tr>\n",
              "      <th>14</th>\n",
              "      <td>2020-11-26 16:42:44</td>\n",
              "      <td>1332001854192947200</td>\n",
              "      <td>繊細な線とやさしい色\\nこれは自分が意識せずに出しているもので、見る人から良く言ってもらえる...</td>\n",
              "    </tr>\n",
              "    <tr>\n",
              "      <th>15</th>\n",
              "      <td>2020-11-26 12:55:33</td>\n",
              "      <td>1331944685183533056</td>\n",
              "      <td>Boji hair+galleryさま(@boji_gallery )さま\\n\\n『クリスマ...</td>\n",
              "    </tr>\n",
              "    <tr>\n",
              "      <th>16</th>\n",
              "      <td>2020-11-25 14:06:24</td>\n",
              "      <td>1331600123579699200</td>\n",
              "      <td>男性の短髪、めちゃくちゃ難しくないですか？\\nどうなっとんだこりゃ\\n\\n#イラスト htt...</td>\n",
              "    </tr>\n",
              "    <tr>\n",
              "      <th>17</th>\n",
              "      <td>2020-11-25 03:55:41</td>\n",
              "      <td>1331446432948121601</td>\n",
              "      <td>そろそろヒーター出さないと</td>\n",
              "    </tr>\n",
              "    <tr>\n",
              "      <th>18</th>\n",
              "      <td>2020-11-24 11:06:21</td>\n",
              "      <td>1331192427160371201</td>\n",
              "      <td>深く考えなくていいんだろうなぁ\\nただ好きなものを描けばそれでいい</td>\n",
              "    </tr>\n",
              "    <tr>\n",
              "      <th>19</th>\n",
              "      <td>2020-11-24 10:05:44</td>\n",
              "      <td>1331177171696533505</td>\n",
              "      <td>絵描くのが楽しい</td>\n",
              "    </tr>\n",
              "    <tr>\n",
              "      <th>20</th>\n",
              "      <td>2020-11-23 00:40:58</td>\n",
              "      <td>1330672654181797888</td>\n",
              "      <td>無理やり1日で完成させようとしても満足のいく作品にならないT_T</td>\n",
              "    </tr>\n",
              "    <tr>\n",
              "      <th>21</th>\n",
              "      <td>2020-11-22 15:30:43</td>\n",
              "      <td>1330534181701644295</td>\n",
              "      <td>あ、でももう日付変わってた笑</td>\n",
              "    </tr>\n",
              "    <tr>\n",
              "      <th>22</th>\n",
              "      <td>2020-11-22 15:28:36</td>\n",
              "      <td>1330533649003941888</td>\n",
              "      <td>正しくは　#いいツインテールの日 \\nなのね。ただの　#ツインテールの日 でツイートしてた ...</td>\n",
              "    </tr>\n",
              "    <tr>\n",
              "      <th>23</th>\n",
              "      <td>2020-11-22 13:45:21</td>\n",
              "      <td>1330507662912577539</td>\n",
              "      <td>#ツインテールの日 \\n#イラスト \\n#イラスト好きな人と繋がりたい https://t....</td>\n",
              "    </tr>\n",
              "    <tr>\n",
              "      <th>24</th>\n",
              "      <td>2020-11-22 09:09:17</td>\n",
              "      <td>1330438188146503683</td>\n",
              "      <td>実体がなかったので輪郭を強くした https://t.co/FEIQXZp8XL</td>\n",
              "    </tr>\n",
              "    <tr>\n",
              "      <th>25</th>\n",
              "      <td>2020-11-22 08:24:41</td>\n",
              "      <td>1330426964511911937</td>\n",
              "      <td>AAA GALLERYさんに展示の様子見に行ったんですが、感想を書いてくださった方がいてすご...</td>\n",
              "    </tr>\n",
              "    <tr>\n",
              "      <th>26</th>\n",
              "      <td>2020-11-22 08:22:56</td>\n",
              "      <td>1330426523703259137</td>\n",
              "      <td>自分の絵のいいとこがどこかなんて、人に教えてもらわないと分からないよねぇ\\n展示会に出すと感...</td>\n",
              "    </tr>\n",
              "    <tr>\n",
              "      <th>27</th>\n",
              "      <td>2020-11-22 05:54:07</td>\n",
              "      <td>1330389076692914176</td>\n",
              "      <td>果物描くのなんか簡単だろって毎回描く前は思うんだけど、やっぱり難しいね。みずみずしさとか立体...</td>\n",
              "    </tr>\n",
              "    <tr>\n",
              "      <th>28</th>\n",
              "      <td>2020-11-22 05:42:21</td>\n",
              "      <td>1330386113718939649</td>\n",
              "      <td>新しいアイコン画像\\n\\n#イラスト\\n#イラスト好きな人と繋がりたい https://t....</td>\n",
              "    </tr>\n",
              "    <tr>\n",
              "      <th>29</th>\n",
              "      <td>2020-11-21 18:34:05</td>\n",
              "      <td>1330217939719643138</td>\n",
              "      <td>RT @aaroisosaari: At the end of this summer, @...</td>\n",
              "    </tr>\n",
              "    <tr>\n",
              "      <th>30</th>\n",
              "      <td>2020-11-21 15:24:01</td>\n",
              "      <td>1330170105779679234</td>\n",
              "      <td>RT @emmanuelemaire: #Paris * #emmanuellemaire ...</td>\n",
              "    </tr>\n",
              "    <tr>\n",
              "      <th>31</th>\n",
              "      <td>2020-11-21 15:18:44</td>\n",
              "      <td>1330168777057726475</td>\n",
              "      <td>RT @artandselection: 換気やアルコールなど感染症対策を行いつつ、#IYN...</td>\n",
              "    </tr>\n",
              "    <tr>\n",
              "      <th>32</th>\n",
              "      <td>2020-11-21 07:09:05</td>\n",
              "      <td>1330045551774216201</td>\n",
              "      <td>RT @moroheiya_117: 昔のポストカードと\\nおにゅーのポストカード\\nコミテ...</td>\n",
              "    </tr>\n",
              "    <tr>\n",
              "      <th>33</th>\n",
              "      <td>2020-11-21 07:09:01</td>\n",
              "      <td>1330045535726825474</td>\n",
              "      <td>RT @moroheiya_117: ちなみにこの子達全員コミティアに連れていく予定です！！</td>\n",
              "    </tr>\n",
              "    <tr>\n",
              "      <th>34</th>\n",
              "      <td>2020-11-20 15:10:20</td>\n",
              "      <td>1329804277036974080</td>\n",
              "      <td>アナログで絵上手い人ってなんか神様みたいなんだよな〜</td>\n",
              "    </tr>\n",
              "    <tr>\n",
              "      <th>35</th>\n",
              "      <td>2020-11-20 14:27:29</td>\n",
              "      <td>1329793492936130560</td>\n",
              "      <td>新しい絵がたくさん描きたい〜</td>\n",
              "    </tr>\n",
              "    <tr>\n",
              "      <th>36</th>\n",
              "      <td>2020-11-20 10:44:37</td>\n",
              "      <td>1329737407197900800</td>\n",
              "      <td>RT @tukku727: #秋の創作クラスタフォロー祭り\\n#絵描きさんと繋がりたい \\n...</td>\n",
              "    </tr>\n",
              "    <tr>\n",
              "      <th>37</th>\n",
              "      <td>2020-11-20 10:40:26</td>\n",
              "      <td>1329736353886527493</td>\n",
              "      <td>大阪のメルメリィマーケット、行ってみたいなあ</td>\n",
              "    </tr>\n",
              "    <tr>\n",
              "      <th>38</th>\n",
              "      <td>2020-11-20 10:06:11</td>\n",
              "      <td>1329727733698494464</td>\n",
              "      <td>3連休だ、やったね</td>\n",
              "    </tr>\n",
              "    <tr>\n",
              "      <th>39</th>\n",
              "      <td>2020-11-20 06:39:51</td>\n",
              "      <td>1329675809972490241</td>\n",
              "      <td>@maxan @OpenAI Hopefully this post can help yo...</td>\n",
              "    </tr>\n",
              "  </tbody>\n",
              "</table>\n",
              "</div>"
            ],
            "text/plain": [
              "                     0  ...                                                  2\n",
              "0  2020-11-28 01:43:06  ...  IYN さんでやってる夏目レモンさんの個展、結構年末ギリギリまでやってるんや。帰省したときに...\n",
              "1  2020-11-27 22:28:50  ...                                        今日は晴れてていい朝だ\n",
              "2  2020-11-27 15:18:29  ...  結局なにが言いたいかというとこれからも頑張って成長するのでどうぞよろしくお願いしますという。...\n",
              "3  2020-11-27 15:14:29  ...  今まではただこれが描きたいと思ったものをなんとか描き出すので精一杯だったけど、最近どんな線で...\n",
              "4  2020-11-27 15:07:28  ...  ただかわいらしい絵が描きたいわけではないんだよね。基本的にはどちらかというとかっこいい絵が描...\n",
              "5  2020-11-27 15:02:03  ...  絵を描き始めて3年半、今年は特にいろいろ実験してきた。今はちょうど次のステップに行く過渡期な...\n",
              "6  2020-11-27 12:21:19  ...  ホルベインの透明水彩絵具のサップグリーンとコバルトブルー ヒューとバーントアンバーとクリムソ...\n",
              "7  2020-11-27 10:53:37  ...      こういうのもおもしろいね\\n\\n#イラスト https://t.co/Dvt6uSldTU\n",
              "8  2020-11-27 10:52:59  ...  名刺の画像。最近梨ばかり上げている気がする\\n\\n#イラスト\\n#イラスト好きさんと繋がりた...\n",
              "9  2020-11-27 10:25:09  ...  AAA GALLERYさまでの展示、今日まででした。見てくださった方々、ありがとうございます...\n",
              "10 2020-11-27 10:18:37  ...                          今日はなんだか他の人の良い絵を見るのが幸せだ...\n",
              "11 2020-11-27 10:04:11  ...  RT @suzu_tsukimori: hagoromo. https://t.co/YO4...\n",
              "12 2020-11-27 05:05:50  ...  RT @popman3580: イングランドの丘の飼育員さんが面白かったのでご紹介 http...\n",
              "13 2020-11-27 05:05:47  ...  RT @Vvgr3C5bZB45GIl: #お絵描き好きさんと繋がりたい \\n#イラスト好き...\n",
              "14 2020-11-26 16:42:44  ...  繊細な線とやさしい色\\nこれは自分が意識せずに出しているもので、見る人から良く言ってもらえる...\n",
              "15 2020-11-26 12:55:33  ...  Boji hair+galleryさま(@boji_gallery )さま\\n\\n『クリスマ...\n",
              "16 2020-11-25 14:06:24  ...  男性の短髪、めちゃくちゃ難しくないですか？\\nどうなっとんだこりゃ\\n\\n#イラスト htt...\n",
              "17 2020-11-25 03:55:41  ...                                      そろそろヒーター出さないと\n",
              "18 2020-11-24 11:06:21  ...                  深く考えなくていいんだろうなぁ\\nただ好きなものを描けばそれでいい\n",
              "19 2020-11-24 10:05:44  ...                                           絵描くのが楽しい\n",
              "20 2020-11-23 00:40:58  ...                   無理やり1日で完成させようとしても満足のいく作品にならないT_T\n",
              "21 2020-11-22 15:30:43  ...                                     あ、でももう日付変わってた笑\n",
              "22 2020-11-22 15:28:36  ...  正しくは　#いいツインテールの日 \\nなのね。ただの　#ツインテールの日 でツイートしてた ...\n",
              "23 2020-11-22 13:45:21  ...  #ツインテールの日 \\n#イラスト \\n#イラスト好きな人と繋がりたい https://t....\n",
              "24 2020-11-22 09:09:17  ...           実体がなかったので輪郭を強くした https://t.co/FEIQXZp8XL\n",
              "25 2020-11-22 08:24:41  ...  AAA GALLERYさんに展示の様子見に行ったんですが、感想を書いてくださった方がいてすご...\n",
              "26 2020-11-22 08:22:56  ...  自分の絵のいいとこがどこかなんて、人に教えてもらわないと分からないよねぇ\\n展示会に出すと感...\n",
              "27 2020-11-22 05:54:07  ...  果物描くのなんか簡単だろって毎回描く前は思うんだけど、やっぱり難しいね。みずみずしさとか立体...\n",
              "28 2020-11-22 05:42:21  ...  新しいアイコン画像\\n\\n#イラスト\\n#イラスト好きな人と繋がりたい https://t....\n",
              "29 2020-11-21 18:34:05  ...  RT @aaroisosaari: At the end of this summer, @...\n",
              "30 2020-11-21 15:24:01  ...  RT @emmanuelemaire: #Paris * #emmanuellemaire ...\n",
              "31 2020-11-21 15:18:44  ...  RT @artandselection: 換気やアルコールなど感染症対策を行いつつ、#IYN...\n",
              "32 2020-11-21 07:09:05  ...  RT @moroheiya_117: 昔のポストカードと\\nおにゅーのポストカード\\nコミテ...\n",
              "33 2020-11-21 07:09:01  ...     RT @moroheiya_117: ちなみにこの子達全員コミティアに連れていく予定です！！\n",
              "34 2020-11-20 15:10:20  ...                         アナログで絵上手い人ってなんか神様みたいなんだよな〜\n",
              "35 2020-11-20 14:27:29  ...                                     新しい絵がたくさん描きたい〜\n",
              "36 2020-11-20 10:44:37  ...  RT @tukku727: #秋の創作クラスタフォロー祭り\\n#絵描きさんと繋がりたい \\n...\n",
              "37 2020-11-20 10:40:26  ...                             大阪のメルメリィマーケット、行ってみたいなあ\n",
              "38 2020-11-20 10:06:11  ...                                          3連休だ、やったね\n",
              "39 2020-11-20 06:39:51  ...  @maxan @OpenAI Hopefully this post can help yo...\n",
              "\n",
              "[40 rows x 3 columns]"
            ]
          },
          "metadata": {
            "tags": []
          },
          "execution_count": 86
        }
      ]
    }
  ]
}